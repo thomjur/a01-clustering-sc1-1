{
 "cells": [
  {
   "cell_type": "markdown",
   "id": "4809d7b8-8ddc-4846-b490-7ac281126a87",
   "metadata": {},
   "source": [
    "# Clustering Early Meccan Suras discussing *sirat*\n",
    "Version: 17.03.2025  \n",
    "by: Thomas Jurczyk  "
   ]
  },
  {
   "cell_type": "markdown",
   "id": "37002aec-0238-44bc-ba53-697ae0a32392",
   "metadata": {},
   "source": [
    "This notebook includes:\n",
    "\n",
    "1. An overview and exploratory data analysis of the subchapter data that should be clustered.\n",
    "2. The retrieval of document embeddings for each subchapter.\n",
    "3. Clustering of the documents using the retrieved embeddings."
   ]
  },
  {
   "cell_type": "code",
   "execution_count": 1,
   "id": "111f8e73-519e-4282-a90d-cd96c5f166a7",
   "metadata": {},
   "outputs": [
    {
     "name": "stderr",
     "output_type": "stream",
     "text": [
      "/home/tommy/environments/a01/lib/python3.12/site-packages/tqdm/auto.py:21: TqdmWarning: IProgress not found. Please update jupyter and ipywidgets. See https://ipywidgets.readthedocs.io/en/stable/user_install.html\n",
      "  from .autonotebook import tqdm as notebook_tqdm\n"
     ]
    }
   ],
   "source": [
    "# imports\n",
    "import os\n",
    "import pickle \n",
    "import matplotlib.pyplot as plt\n",
    "import re\n",
    "import pandas as pd\n",
    "from mistralai import Mistral\n",
    "from dotenv import load_dotenv\n",
    "import psycopg2\n",
    "from psycopg2 import sql\n",
    "import numpy as np\n",
    "import umap\n",
    "from sklearn.cluster import HDBSCAN\n",
    "from typing import Optional\n",
    "import requests\n",
    "\n",
    "# Apply a style\n",
    "plt.style.use('ggplot')\n",
    "\n",
    "# Loading all env variables from .env\n",
    "load_dotenv()\n",
    "\n",
    "MISTRAL_API_KEY = os.getenv(\"MISTRAL_API_KEY\")\n",
    "\n",
    "# Loading params for DB connection to local PostgreSQL\n",
    "\n",
    "db_params = {\n",
    "    \"host\": \"localhost\",\n",
    "    \"port\": \"5432\",\n",
    "    \"database\": os.getenv(\"DB_NAME\"),\n",
    "    \"user\": os.getenv(\"DB_USERNAME\"),\n",
    "    \"password\": os.getenv(\"DB_PASSWORD\")\n",
    "}"
   ]
  },
  {
   "cell_type": "markdown",
   "id": "3fac4d90-9d0d-417c-b6e0-1714a0f6298c",
   "metadata": {},
   "source": [
    "## Data\n",
    "The data consists of subchapters from the A01 tafsir corpus that include a discussion of early Meccan verses that mention *sirat*. The data was downloaded using the web application and is stored in the subfolder `data`."
   ]
  },
  {
   "cell_type": "markdown",
   "id": "32fa5510-3c9a-46ef-a4e3-c72e0f58d370",
   "metadata": {},
   "source": [
    "### Tokens per subchapter\n",
    "First, we count the number of tokens in each subchapter and compare the results with each other. A token is simply defined by at least one blank space separating the tokens. The tokens are not cleaned of non-Arabic characters and still include punctuation marks as well (these might in some cases count as separate tokens as well due to the way the data was collected and reconstructed)."
   ]
  },
  {
   "cell_type": "code",
   "execution_count": 2,
   "id": "94202eb9-85f2-462e-85af-ce0de6954225",
   "metadata": {},
   "outputs": [],
   "source": [
    "token_counter = dict()\n",
    "token_counter_per_verse = dict()\n",
    "for directory in os.listdir(\"data\"):\n",
    "    if os.path.isdir(\"data/\"+directory) and not directory.startswith(\".\"):\n",
    "        file_counter = 0\n",
    "        token_counter_per_verse[directory] = 0\n",
    "        #print(\"data/\"+directory)\n",
    "        for filename in os.listdir(\"data/\"+directory):\n",
    "            #print(filename)\n",
    "            # Create separate dict for tokens/verse distribution\n",
    "            if os.path.isfile(f\"data/{directory}/{filename}\"):\n",
    "                file_counter += 1\n",
    "                with open(f\"data/{directory}/{filename}\", \"r\", encoding=\"utf-8\") as f:\n",
    "                    text = f.read()\n",
    "                    tokens = re.split(r\"\\s+\", text)\n",
    "                    token_counter[filename[:-4]] = len(tokens)\n",
    "                    # Increment tokens/verse counter\n",
    "                    token_counter_per_verse[directory] += len(tokens)\n",
    "        # Calculate average for token/verse\n",
    "        token_counter_per_verse[directory] = token_counter_per_verse[directory] / file_counter"
   ]
  },
  {
   "cell_type": "code",
   "execution_count": 3,
   "id": "f481d537-520f-4685-9902-36760ffcb828",
   "metadata": {},
   "outputs": [],
   "source": [
    "df = pd.DataFrame.from_dict(token_counter, orient=\"index\").reset_index()"
   ]
  },
  {
   "cell_type": "code",
   "execution_count": 4,
   "id": "7338cb9c-efb7-4627-aee9-399507fe77af",
   "metadata": {},
   "outputs": [],
   "source": [
    "df.columns = [\"id\", \"token_count\"]"
   ]
  },
  {
   "cell_type": "code",
   "execution_count": 5,
   "id": "baa6e187-b31d-4944-85db-bc9b99a0ab88",
   "metadata": {},
   "outputs": [
    {
     "data": {
      "text/html": [
       "<div>\n",
       "<style scoped>\n",
       "    .dataframe tbody tr th:only-of-type {\n",
       "        vertical-align: middle;\n",
       "    }\n",
       "\n",
       "    .dataframe tbody tr th {\n",
       "        vertical-align: top;\n",
       "    }\n",
       "\n",
       "    .dataframe thead th {\n",
       "        text-align: right;\n",
       "    }\n",
       "</style>\n",
       "<table border=\"1\" class=\"dataframe\">\n",
       "  <thead>\n",
       "    <tr style=\"text-align: right;\">\n",
       "      <th></th>\n",
       "      <th>id</th>\n",
       "      <th>token_count</th>\n",
       "    </tr>\n",
       "  </thead>\n",
       "  <tbody>\n",
       "    <tr>\n",
       "      <th>0</th>\n",
       "      <td>sc.15_38_21_26</td>\n",
       "      <td>2669</td>\n",
       "    </tr>\n",
       "    <tr>\n",
       "      <th>1</th>\n",
       "      <td>sc.89_38_22_22</td>\n",
       "      <td>11</td>\n",
       "    </tr>\n",
       "    <tr>\n",
       "      <th>2</th>\n",
       "      <td>sc.83_38_1_26</td>\n",
       "      <td>2806</td>\n",
       "    </tr>\n",
       "    <tr>\n",
       "      <th>3</th>\n",
       "      <td>sc.95_38_21_24</td>\n",
       "      <td>662</td>\n",
       "    </tr>\n",
       "    <tr>\n",
       "      <th>4</th>\n",
       "      <td>sc.79_38_22_22</td>\n",
       "      <td>301</td>\n",
       "    </tr>\n",
       "  </tbody>\n",
       "</table>\n",
       "</div>"
      ],
      "text/plain": [
       "               id  token_count\n",
       "0  sc.15_38_21_26         2669\n",
       "1  sc.89_38_22_22           11\n",
       "2   sc.83_38_1_26         2806\n",
       "3  sc.95_38_21_24          662\n",
       "4  sc.79_38_22_22          301"
      ]
     },
     "execution_count": 5,
     "metadata": {},
     "output_type": "execute_result"
    }
   ],
   "source": [
    "df.head()"
   ]
  },
  {
   "cell_type": "code",
   "execution_count": 6,
   "id": "c1599ea2-b7a4-42b4-b66c-f5eaa843ee4d",
   "metadata": {},
   "outputs": [
    {
     "data": {
      "text/html": [
       "<div>\n",
       "<style scoped>\n",
       "    .dataframe tbody tr th:only-of-type {\n",
       "        vertical-align: middle;\n",
       "    }\n",
       "\n",
       "    .dataframe tbody tr th {\n",
       "        vertical-align: top;\n",
       "    }\n",
       "\n",
       "    .dataframe thead th {\n",
       "        text-align: right;\n",
       "    }\n",
       "</style>\n",
       "<table border=\"1\" class=\"dataframe\">\n",
       "  <thead>\n",
       "    <tr style=\"text-align: right;\">\n",
       "      <th></th>\n",
       "      <th>token_count</th>\n",
       "    </tr>\n",
       "  </thead>\n",
       "  <tbody>\n",
       "    <tr>\n",
       "      <th>count</th>\n",
       "      <td>549.000000</td>\n",
       "    </tr>\n",
       "    <tr>\n",
       "      <th>mean</th>\n",
       "      <td>1579.919854</td>\n",
       "    </tr>\n",
       "    <tr>\n",
       "      <th>std</th>\n",
       "      <td>5920.575014</td>\n",
       "    </tr>\n",
       "    <tr>\n",
       "      <th>min</th>\n",
       "      <td>6.000000</td>\n",
       "    </tr>\n",
       "    <tr>\n",
       "      <th>25%</th>\n",
       "      <td>213.000000</td>\n",
       "    </tr>\n",
       "    <tr>\n",
       "      <th>50%</th>\n",
       "      <td>490.000000</td>\n",
       "    </tr>\n",
       "    <tr>\n",
       "      <th>75%</th>\n",
       "      <td>1256.000000</td>\n",
       "    </tr>\n",
       "    <tr>\n",
       "      <th>max</th>\n",
       "      <td>121071.000000</td>\n",
       "    </tr>\n",
       "  </tbody>\n",
       "</table>\n",
       "</div>"
      ],
      "text/plain": [
       "         token_count\n",
       "count     549.000000\n",
       "mean     1579.919854\n",
       "std      5920.575014\n",
       "min         6.000000\n",
       "25%       213.000000\n",
       "50%       490.000000\n",
       "75%      1256.000000\n",
       "max    121071.000000"
      ]
     },
     "execution_count": 6,
     "metadata": {},
     "output_type": "execute_result"
    }
   ],
   "source": [
    "df.describe()"
   ]
  },
  {
   "cell_type": "code",
   "execution_count": 7,
   "id": "2987aa45-f0e6-4e3f-aad8-c49662040dff",
   "metadata": {},
   "outputs": [
    {
     "data": {
      "image/png": "[encoded data removed]",
      "text/plain": [
       "<Figure size 640x480 with 1 Axes>"
      ]
     },
     "metadata": {},
     "output_type": "display_data"
    }
   ],
   "source": [
    "df[\"token_count\"].plot(kind=\"box\", title=\"Token distribution in subchapters\", color=\"skyblue\")\n",
    "\n",
    "plt.savefig(\"images/boxplot.jpg\")"
   ]
  },
  {
   "cell_type": "code",
   "execution_count": 8,
   "id": "d89edbe5-1a47-4c77-ad75-e1910bb66cdd",
   "metadata": {},
   "outputs": [],
   "source": [
    "# show outliers and exclude (Sirazi)\n",
    "df_no_sirazi = df.sort_values(\"token_count\").iloc[:-1]"
   ]
  },
  {
   "cell_type": "code",
   "execution_count": 9,
   "id": "f20fad97-1625-4d9c-a6c1-ff105c9e6127",
   "metadata": {},
   "outputs": [
    {
     "data": {
      "text/html": [
       "<div>\n",
       "<style scoped>\n",
       "    .dataframe tbody tr th:only-of-type {\n",
       "        vertical-align: middle;\n",
       "    }\n",
       "\n",
       "    .dataframe tbody tr th {\n",
       "        vertical-align: top;\n",
       "    }\n",
       "\n",
       "    .dataframe thead th {\n",
       "        text-align: right;\n",
       "    }\n",
       "</style>\n",
       "<table border=\"1\" class=\"dataframe\">\n",
       "  <thead>\n",
       "    <tr style=\"text-align: right;\">\n",
       "      <th></th>\n",
       "      <th>token_count</th>\n",
       "    </tr>\n",
       "  </thead>\n",
       "  <tbody>\n",
       "    <tr>\n",
       "      <th>count</th>\n",
       "      <td>548.000000</td>\n",
       "    </tr>\n",
       "    <tr>\n",
       "      <th>mean</th>\n",
       "      <td>1361.870438</td>\n",
       "    </tr>\n",
       "    <tr>\n",
       "      <th>std</th>\n",
       "      <td>2994.505957</td>\n",
       "    </tr>\n",
       "    <tr>\n",
       "      <th>min</th>\n",
       "      <td>6.000000</td>\n",
       "    </tr>\n",
       "    <tr>\n",
       "      <th>25%</th>\n",
       "      <td>212.750000</td>\n",
       "    </tr>\n",
       "    <tr>\n",
       "      <th>50%</th>\n",
       "      <td>488.500000</td>\n",
       "    </tr>\n",
       "    <tr>\n",
       "      <th>75%</th>\n",
       "      <td>1246.250000</td>\n",
       "    </tr>\n",
       "    <tr>\n",
       "      <th>max</th>\n",
       "      <td>35442.000000</td>\n",
       "    </tr>\n",
       "  </tbody>\n",
       "</table>\n",
       "</div>"
      ],
      "text/plain": [
       "        token_count\n",
       "count    548.000000\n",
       "mean    1361.870438\n",
       "std     2994.505957\n",
       "min        6.000000\n",
       "25%      212.750000\n",
       "50%      488.500000\n",
       "75%     1246.250000\n",
       "max    35442.000000"
      ]
     },
     "execution_count": 9,
     "metadata": {},
     "output_type": "execute_result"
    }
   ],
   "source": [
    "df_no_sirazi.describe()"
   ]
  },
  {
   "cell_type": "code",
   "execution_count": 10,
   "id": "db02cb75-cdb1-4d58-a6dc-fdfa60649db8",
   "metadata": {},
   "outputs": [
    {
     "data": {
      "image/png": "[encoded data removed]",
      "text/plain": [
       "<Figure size 640x480 with 1 Axes>"
      ]
     },
     "metadata": {},
     "output_type": "display_data"
    }
   ],
   "source": [
    "df_no_sirazi[\"token_count\"].plot(kind=\"box\", title=\"Token distribution in subchapters (without Sirazi)\", color=\"skyblue\")\n",
    "\n",
    "plt.savefig(\"images/boxplot_no_sirazi.jpg\")"
   ]
  },
  {
   "cell_type": "markdown",
   "id": "5064c70d-0c0a-411d-be4e-128123668277",
   "metadata": {},
   "source": [
    "### Token distribution per verse"
   ]
  },
  {
   "cell_type": "code",
   "execution_count": 11,
   "id": "076d0ac7-5ad3-4b95-8d51-39daa947bda3",
   "metadata": {},
   "outputs": [],
   "source": [
    "df = pd.DataFrame.from_dict(token_counter_per_verse, orient=\"index\").reset_index()"
   ]
  },
  {
   "cell_type": "code",
   "execution_count": 12,
   "id": "effaf39d-4ca3-4c06-9285-0d11d92a453e",
   "metadata": {},
   "outputs": [],
   "source": [
    "df.columns = [\"sura_aya\", \"count\"]"
   ]
  },
  {
   "cell_type": "code",
   "execution_count": 13,
   "id": "9b86f9c7-b969-4597-9066-0f1f30bb6875",
   "metadata": {},
   "outputs": [
    {
     "data": {
      "text/html": [
       "<div>\n",
       "<style scoped>\n",
       "    .dataframe tbody tr th:only-of-type {\n",
       "        vertical-align: middle;\n",
       "    }\n",
       "\n",
       "    .dataframe tbody tr th {\n",
       "        vertical-align: top;\n",
       "    }\n",
       "\n",
       "    .dataframe thead th {\n",
       "        text-align: right;\n",
       "    }\n",
       "</style>\n",
       "<table border=\"1\" class=\"dataframe\">\n",
       "  <thead>\n",
       "    <tr style=\"text-align: right;\">\n",
       "      <th></th>\n",
       "      <th>sura_aya</th>\n",
       "      <th>count</th>\n",
       "    </tr>\n",
       "  </thead>\n",
       "  <tbody>\n",
       "    <tr>\n",
       "      <th>0</th>\n",
       "      <td>38_22</td>\n",
       "      <td>1606.212121</td>\n",
       "    </tr>\n",
       "    <tr>\n",
       "      <th>1</th>\n",
       "      <td>19_43</td>\n",
       "      <td>826.015625</td>\n",
       "    </tr>\n",
       "    <tr>\n",
       "      <th>2</th>\n",
       "      <td>1_7</td>\n",
       "      <td>5565.026667</td>\n",
       "    </tr>\n",
       "    <tr>\n",
       "      <th>3</th>\n",
       "      <td>20_135</td>\n",
       "      <td>724.870968</td>\n",
       "    </tr>\n",
       "    <tr>\n",
       "      <th>4</th>\n",
       "      <td>37_118</td>\n",
       "      <td>607.283333</td>\n",
       "    </tr>\n",
       "    <tr>\n",
       "      <th>5</th>\n",
       "      <td>37_23</td>\n",
       "      <td>837.921875</td>\n",
       "    </tr>\n",
       "    <tr>\n",
       "      <th>6</th>\n",
       "      <td>1_6</td>\n",
       "      <td>3307.710526</td>\n",
       "    </tr>\n",
       "    <tr>\n",
       "      <th>7</th>\n",
       "      <td>15_41</td>\n",
       "      <td>1114.153846</td>\n",
       "    </tr>\n",
       "    <tr>\n",
       "      <th>8</th>\n",
       "      <td>19_36</td>\n",
       "      <td>911.645161</td>\n",
       "    </tr>\n",
       "  </tbody>\n",
       "</table>\n",
       "</div>"
      ],
      "text/plain": [
       "  sura_aya        count\n",
       "0    38_22  1606.212121\n",
       "1    19_43   826.015625\n",
       "2      1_7  5565.026667\n",
       "3   20_135   724.870968\n",
       "4   37_118   607.283333\n",
       "5    37_23   837.921875\n",
       "6      1_6  3307.710526\n",
       "7    15_41  1114.153846\n",
       "8    19_36   911.645161"
      ]
     },
     "execution_count": 13,
     "metadata": {},
     "output_type": "execute_result"
    }
   ],
   "source": [
    "df"
   ]
  },
  {
   "cell_type": "code",
   "execution_count": 14,
   "id": "072c6d28-aa59-4fe6-b36a-aa364798eefd",
   "metadata": {},
   "outputs": [
    {
     "data": {
      "text/html": [
       "<div>\n",
       "<style scoped>\n",
       "    .dataframe tbody tr th:only-of-type {\n",
       "        vertical-align: middle;\n",
       "    }\n",
       "\n",
       "    .dataframe tbody tr th {\n",
       "        vertical-align: top;\n",
       "    }\n",
       "\n",
       "    .dataframe thead th {\n",
       "        text-align: right;\n",
       "    }\n",
       "</style>\n",
       "<table border=\"1\" class=\"dataframe\">\n",
       "  <thead>\n",
       "    <tr style=\"text-align: right;\">\n",
       "      <th></th>\n",
       "      <th>sura_aya</th>\n",
       "      <th>count</th>\n",
       "    </tr>\n",
       "  </thead>\n",
       "  <tbody>\n",
       "    <tr>\n",
       "      <th>4</th>\n",
       "      <td>37_118</td>\n",
       "      <td>607.283333</td>\n",
       "    </tr>\n",
       "    <tr>\n",
       "      <th>3</th>\n",
       "      <td>20_135</td>\n",
       "      <td>724.870968</td>\n",
       "    </tr>\n",
       "    <tr>\n",
       "      <th>1</th>\n",
       "      <td>19_43</td>\n",
       "      <td>826.015625</td>\n",
       "    </tr>\n",
       "    <tr>\n",
       "      <th>5</th>\n",
       "      <td>37_23</td>\n",
       "      <td>837.921875</td>\n",
       "    </tr>\n",
       "    <tr>\n",
       "      <th>8</th>\n",
       "      <td>19_36</td>\n",
       "      <td>911.645161</td>\n",
       "    </tr>\n",
       "    <tr>\n",
       "      <th>7</th>\n",
       "      <td>15_41</td>\n",
       "      <td>1114.153846</td>\n",
       "    </tr>\n",
       "    <tr>\n",
       "      <th>0</th>\n",
       "      <td>38_22</td>\n",
       "      <td>1606.212121</td>\n",
       "    </tr>\n",
       "    <tr>\n",
       "      <th>6</th>\n",
       "      <td>1_6</td>\n",
       "      <td>3307.710526</td>\n",
       "    </tr>\n",
       "    <tr>\n",
       "      <th>2</th>\n",
       "      <td>1_7</td>\n",
       "      <td>5565.026667</td>\n",
       "    </tr>\n",
       "  </tbody>\n",
       "</table>\n",
       "</div>"
      ],
      "text/plain": [
       "  sura_aya        count\n",
       "4   37_118   607.283333\n",
       "3   20_135   724.870968\n",
       "1    19_43   826.015625\n",
       "5    37_23   837.921875\n",
       "8    19_36   911.645161\n",
       "7    15_41  1114.153846\n",
       "0    38_22  1606.212121\n",
       "6      1_6  3307.710526\n",
       "2      1_7  5565.026667"
      ]
     },
     "execution_count": 14,
     "metadata": {},
     "output_type": "execute_result"
    }
   ],
   "source": [
    "df.sort_values(\"count\")"
   ]
  },
  {
   "cell_type": "code",
   "execution_count": 15,
   "id": "f4c363b9-0e00-4e78-a747-bdb55d24ece4",
   "metadata": {},
   "outputs": [
    {
     "data": {
      "image/png": "[encoded data removed]",
      "text/plain": [
       "<Figure size 640x480 with 1 Axes>"
      ]
     },
     "metadata": {},
     "output_type": "display_data"
    }
   ],
   "source": [
    "ax = df.sort_values(\"count\", ascending=False).plot(kind=\"bar\", x=\"sura_aya\", title=\"Avg. token/subchapter distribution for each verse\", color=\"skyblue\")\n",
    "# Display count on top of each bar\n",
    "for bar in ax.patches:\n",
    "    yval = bar.get_height()\n",
    "    plt.text(bar.get_x() + bar.get_width()/2, yval + 0.5, round(yval, 2), ha='center', va='bottom')\n",
    "\n",
    "plt.ylim(0,6500)\n",
    "plt.ylabel(\"avg. tokens\")\n",
    "\n",
    "plt.tight_layout()\n",
    "\n",
    "plt.savefig(\"images/token_verse_distribution.jpg\")"
   ]
  },
  {
   "cell_type": "code",
   "execution_count": null,
   "id": "e69510e7-ef01-4090-a912-f79b9c258d61",
   "metadata": {},
   "outputs": [],
   "source": []
  },
  {
   "cell_type": "markdown",
   "id": "5d7a1e39-46cd-42d0-a4ce-91aa88f4408e",
   "metadata": {},
   "source": [
    "## Embeddings\n",
    "In a first step, we are acquiring the embeddings using Mistral's `mistral-embed` model."
   ]
  },
  {
   "cell_type": "markdown",
   "id": "e366b496-e40a-4621-8e57-f975aa351f68",
   "metadata": {},
   "source": [
    "### Full Subchapter Embeddings"
   ]
  },
  {
   "cell_type": "markdown",
   "id": "9114fa7d-d364-414f-9549-cfa45d27ddea",
   "metadata": {},
   "source": [
    "We are creating three lists for the text ids, texts, and the embeddings. Some subchapters appear multiple times in the dataset, so the duplicates need to be skipped."
   ]
  },
  {
   "cell_type": "code",
   "execution_count": 19,
   "id": "28f6f168-78ab-4efd-8436-a80f4c74abf6",
   "metadata": {},
   "outputs": [],
   "source": [
    "sc_id_list = []\n",
    "sc_text_list = []\n",
    "sc_embeddings_list = []"
   ]
  },
  {
   "cell_type": "code",
   "execution_count": 20,
   "id": "6d8a1817-6acb-4b13-a5e6-300d92d5f5c2",
   "metadata": {},
   "outputs": [],
   "source": [
    "for directory in os.listdir(\"data\"):\n",
    "    if os.path.isdir(\"data/\"+directory) and not directory.startswith(\".\"):\n",
    "        #print(\"data/\"+directory)\n",
    "        for filename in os.listdir(\"data/\"+directory):\n",
    "            # Create separate dict for tokens/verse distribution\n",
    "            if os.path.isfile(f\"data/{directory}/{filename}\"):\n",
    "                if filename[:-4] not in sc_id_list:\n",
    "                    file_counter += 1\n",
    "                    with open(f\"data/{directory}/{filename}\", \"r\", encoding=\"utf-8\") as f:\n",
    "                        text = f.read()\n",
    "                        sc_id_list.append(filename[:-4])\n",
    "                        sc_text_list.append(text)"
   ]
  },
  {
   "cell_type": "code",
   "execution_count": 21,
   "id": "c9c63ea4-bcaf-4378-afe4-c87c62b29425",
   "metadata": {},
   "outputs": [
    {
     "data": {
      "text/plain": [
       "['sc.15_38_21_26', 'sc.89_38_22_22', 'sc.83_38_1_26']"
      ]
     },
     "execution_count": 21,
     "metadata": {},
     "output_type": "execute_result"
    }
   ],
   "source": [
    "sc_id_list[:3]"
   ]
  },
  {
   "cell_type": "markdown",
   "id": "b1523197-e186-4fd5-bbcc-a4cb24630e1c",
   "metadata": {},
   "source": [
    "Now, we are retrieving the embeddings for each text and store them in the respective list.  \n",
    "**Important**: The embeddings are afterwards stored in a database and locally on the computer. Therefore, this step only needs to be executed when something has changed."
   ]
  },
  {
   "cell_type": "code",
   "execution_count": 22,
   "id": "7fdeaca1-4ee3-4bc6-8aae-7b9d40ea24e4",
   "metadata": {},
   "outputs": [],
   "source": [
    "import time\n",
    "\n",
    "model = \"mistral-embed\"\n",
    "execute = False\n",
    "client = Mistral(api_key=MISTRAL_API_KEY)\n",
    "\n",
    "# The max token per batch is 16384 or sometimes even lower for some reason (?)\n",
    "# We split longer texts into chunks\n",
    "# Using a sliding window approach with an overlap of 50 tokens\n",
    "# We also need to use time.sleep() to avoid exceeding rate limits with 6 requests per sec\n",
    "if execute:\n",
    "    for idx, text in enumerate(sc_text_list):\n",
    "        #print(f\"{idx}. {sc_id_list[idx]}\")\n",
    "        tokens = re.split(r\"\\s+\", text)\n",
    "        if len(tokens) > 1000:\n",
    "            #print(f\"Text {sc_id_list[idx]} is too long: {len(tokens)}\") \n",
    "            tmp_embeddings = list()\n",
    "            # Splitting the text into chunks\n",
    "            window_size = 500\n",
    "            stride = 450 # Overlap of 50 tokens\n",
    "            for start_idx in range(0,len(tokens), stride):\n",
    "                end_idx = min(start_idx + window_size, len(tokens))\n",
    "                tmp_text = \" \".join(tokens[start_idx:end_idx])\n",
    "                res = client.embeddings.create(model=model, inputs=[tmp_text])\n",
    "                tmp_embeddings.append(res.data[0].embedding)\n",
    "                time.sleep(0.1)\n",
    "            # Calculate mean from all chunk embeddings\n",
    "            sc_embeddings_list.append(np.mean(tmp_embeddings, axis=0).tolist())\n",
    "        else:\n",
    "            res = client.embeddings.create(model=model, inputs=[text])\n",
    "            sc_embeddings_list.append(res.data[0].embedding)\n",
    "            time.sleep(0.1)"
   ]
  },
  {
   "cell_type": "code",
   "execution_count": 23,
   "id": "2524aad4-19e5-4a39-873a-8e402bddba2a",
   "metadata": {},
   "outputs": [],
   "source": [
    "# Saving embeddings locally\n",
    "\n",
    "with open(\"mistral_embeddings_full.pkl\", \"wb\") as f:\n",
    "    pickle.dump(sc_embeddings_list, f)"
   ]
  },
  {
   "cell_type": "code",
   "execution_count": 24,
   "id": "6984f2a7-3c15-46ee-bca1-a857720b7109",
   "metadata": {},
   "outputs": [],
   "source": [
    "# Reload embeddings\n",
    "with open(\"mistral_embeddings_full.pkl\", \"rb\") as f:\n",
    "    loaded_embeddings = pickle.load(f)"
   ]
  },
  {
   "cell_type": "code",
   "execution_count": 25,
   "id": "2042ac35-1293-4fe1-9dc8-3121dcef950d",
   "metadata": {},
   "outputs": [],
   "source": [
    "# Connecting to PostgreSQL and storing embeddings in table"
   ]
  },
  {
   "cell_type": "code",
   "execution_count": 26,
   "id": "55fbe8d7-8023-466f-808f-509c7173cf66",
   "metadata": {},
   "outputs": [
    {
     "name": "stdout",
     "output_type": "stream",
     "text": [
      "Connection to DB was successful!!\n",
      "Data was added!\n",
      "DB connection closed.\n"
     ]
    }
   ],
   "source": [
    "try:\n",
    "    conn = psycopg2.connect(**db_params)\n",
    "    cursor = conn.cursor()\n",
    "    print(\"Connection to DB was successful!!\")\n",
    "\n",
    "    for idx, value in enumerate(loaded_embeddings):\n",
    "        cursor.execute(\"\"\"\n",
    "            INSERT INTO embedding.sc_mistral_fulltext (subchapter_id, embedding) \n",
    "            VALUES (%s, %s)\n",
    "        \"\"\", (sc_id_list[idx], value))\n",
    "    \n",
    "        # Änderungen bestätigen\n",
    "        conn.commit()\n",
    "    print(\"Data was added!\")\n",
    "\n",
    "except Exception as e:\n",
    "    print(f\"Error: {e}\")\n",
    "    if conn:\n",
    "        conn.rollback()\n",
    "finally:\n",
    "    # Close connection\n",
    "    if cursor:\n",
    "        cursor.close()\n",
    "    if conn:\n",
    "        conn.close()\n",
    "    print(\"DB connection closed.\")"
   ]
  },
  {
   "cell_type": "markdown",
   "id": "c9d57016-fb97-4d77-acc9-1b4893ecae40",
   "metadata": {
    "jp-MarkdownHeadingCollapsed": true
   },
   "source": [
    "### Test embeddings for Arabic texts: MSA\n",
    "We will try and cluster simple Arabic texts to see if this even works."
   ]
  },
  {
   "cell_type": "code",
   "execution_count": null,
   "id": "33d5e3b1-51bc-44b7-a175-488306ff59d1",
   "metadata": {},
   "outputs": [],
   "source": [
    "# Loading test data\n",
    "df_test = pd.read_csv(\"arabic-test-data.csv\")"
   ]
  },
  {
   "cell_type": "code",
   "execution_count": null,
   "id": "fa401abf-b8b0-45a7-a3b9-2c85f523b58f",
   "metadata": {},
   "outputs": [],
   "source": [
    "df_test.head()"
   ]
  },
  {
   "cell_type": "code",
   "execution_count": null,
   "id": "3865d838-9191-4bce-a8f0-f20ba3132bf4",
   "metadata": {},
   "outputs": [],
   "source": [
    "text_list = df_test[\"arabic_text\"].tolist()"
   ]
  },
  {
   "cell_type": "code",
   "execution_count": null,
   "id": "5687a11c-52fa-4243-a201-c943ef9efe5b",
   "metadata": {},
   "outputs": [],
   "source": [
    "text_list"
   ]
  },
  {
   "cell_type": "code",
   "execution_count": null,
   "id": "ee937675-78cc-4816-971a-7df3ad484516",
   "metadata": {},
   "outputs": [],
   "source": [
    "# Get embeddings\n",
    "model = \"mistral-embed\"\n",
    "\n",
    "client = Mistral(api_key=MISTRAL_API_KEY)\n",
    "\n",
    "embeddings_batch_response = client.embeddings.create(\n",
    "    model=model,\n",
    "    inputs=text_list,\n",
    ")"
   ]
  },
  {
   "cell_type": "code",
   "execution_count": null,
   "id": "2fc0237f-0ab2-4ab0-9594-cd655919800f",
   "metadata": {},
   "outputs": [],
   "source": [
    "embeddings_test = [entry.embedding for entry in embeddings_batch_response.data]"
   ]
  },
  {
   "cell_type": "code",
   "execution_count": null,
   "id": "0b832545-aa21-4525-b6c6-1a606e309d75",
   "metadata": {},
   "outputs": [],
   "source": [
    "embeddings_test[0][:10]"
   ]
  },
  {
   "cell_type": "code",
   "execution_count": null,
   "id": "88c4c39f-24dd-40ad-a4f3-7c8c35a57626",
   "metadata": {},
   "outputs": [],
   "source": [
    "# Add embeddings to database\n",
    "db_test_params = {\n",
    "    \"host\": \"localhost\",\n",
    "    \"port\": \"5432\",\n",
    "    \"database\": os.getenv(\"DB_NAME\"),\n",
    "    \"user\": os.getenv(\"DB_USERNAME\"),\n",
    "    \"password\": os.getenv(\"DB_PASSWORD\")\n",
    "}\n",
    "\n",
    "try:\n",
    "    conn = psycopg2.connect(**db_test_params)\n",
    "    cursor = conn.cursor()\n",
    "    print(\"Connection to DB was successful!!\")\n",
    "\n",
    "    for idx, row in df_test.iterrows():\n",
    "        cursor.execute(\"\"\"\n",
    "            INSERT INTO embedding.test_embeddings (id, embedding, category, translation) \n",
    "            VALUES (%s, %s, %s, %s)\n",
    "        \"\"\", (idx, embeddings_test[idx], row[\"category\"], row[\"translation\"]))\n",
    "    \n",
    "        # Änderungen bestätigen\n",
    "        conn.commit()\n",
    "    print(\"Data was added!\")\n",
    "\n",
    "except Exception as e:\n",
    "    print(f\"Error: {e}\")\n",
    "    if conn:\n",
    "        conn.rollback()\n",
    "finally:\n",
    "    # Close connection\n",
    "    if cursor:\n",
    "        cursor.close()\n",
    "    if conn:\n",
    "        conn.close()\n",
    "    print(\"DB connection closed.\")"
   ]
  },
  {
   "cell_type": "markdown",
   "id": "5cac5de2-9f64-4e0e-bc2c-b80d3d098f46",
   "metadata": {
    "jp-MarkdownHeadingCollapsed": true
   },
   "source": [
    "### Test embeddings for Arabic texts: Classical Arabic\n",
    "We will try and cluster classical Arabic texts to see if this even works."
   ]
  },
  {
   "cell_type": "code",
   "execution_count": null,
   "id": "ccc68364-5c50-4ce1-b694-d4b5d2121b75",
   "metadata": {},
   "outputs": [],
   "source": [
    "# Loading test data\n",
    "df_test = pd.read_csv(\"classical-arabic-testdata.csv\")"
   ]
  },
  {
   "cell_type": "code",
   "execution_count": null,
   "id": "83d49999-5c93-4d57-8d9a-ade7f9373731",
   "metadata": {},
   "outputs": [],
   "source": [
    "df_test.head()"
   ]
  },
  {
   "cell_type": "code",
   "execution_count": null,
   "id": "a35cd761-7806-42fc-934d-23e8525dd115",
   "metadata": {},
   "outputs": [],
   "source": [
    "text_list = df_test[\"Arabic_Text\"].tolist()"
   ]
  },
  {
   "cell_type": "code",
   "execution_count": null,
   "id": "7f158b2e-51de-4e81-ba6f-6a735ab17a22",
   "metadata": {},
   "outputs": [],
   "source": [
    "text_list[:3]"
   ]
  },
  {
   "cell_type": "code",
   "execution_count": null,
   "id": "1fd1a592-8698-4750-8f2d-9a6edcb92865",
   "metadata": {},
   "outputs": [],
   "source": [
    "# Get embeddings\n",
    "model = \"mistral-embed\"\n",
    "\n",
    "client = Mistral(api_key=MISTRAL_API_KEY)\n",
    "\n",
    "embeddings_batch_response = client.embeddings.create(\n",
    "    model=model,\n",
    "    inputs=text_list,\n",
    ")"
   ]
  },
  {
   "cell_type": "code",
   "execution_count": null,
   "id": "59c03afc-12d9-4d2e-bf50-246db7255216",
   "metadata": {},
   "outputs": [],
   "source": [
    "embeddings_test = [entry.embedding for entry in embeddings_batch_response.data]"
   ]
  },
  {
   "cell_type": "code",
   "execution_count": null,
   "id": "140dba62-da08-4aa9-be8c-a75826f40e85",
   "metadata": {},
   "outputs": [],
   "source": [
    "# Add embeddings to database\n",
    "db_test_params = {\n",
    "    \"host\": \"localhost\",\n",
    "    \"port\": \"5432\",\n",
    "    \"database\": os.getenv(\"DB_NAME\"),\n",
    "    \"user\": os.getenv(\"DB_USERNAME\"),\n",
    "    \"password\": os.getenv(\"DB_PASSWORD\")\n",
    "}\n",
    "\n",
    "try:\n",
    "    conn = psycopg2.connect(**db_test_params)\n",
    "    cursor = conn.cursor()\n",
    "    print(\"Connection to DB was successful!!\")\n",
    "\n",
    "    for idx, row in df_test.iterrows():\n",
    "        cursor.execute(\"\"\"\n",
    "            INSERT INTO embedding.test_embeddings_classical (id, embedding, category, translation) \n",
    "            VALUES (%s, %s, %s, %s)\n",
    "        \"\"\", (idx, embeddings_test[idx], row[\"Category\"], row[\"English_Translation\"]))\n",
    "    \n",
    "        # Änderungen bestätigen\n",
    "        conn.commit()\n",
    "    print(\"Data was added!\")\n",
    "\n",
    "except Exception as e:\n",
    "    print(f\"Error: {e}\")\n",
    "    if conn:\n",
    "        conn.rollback()\n",
    "finally:\n",
    "    # Close connection\n",
    "    if cursor:\n",
    "        cursor.close()\n",
    "    if conn:\n",
    "        conn.close()\n",
    "    print(\"DB connection closed.\")"
   ]
  },
  {
   "cell_type": "markdown",
   "id": "447edddc-019c-41b2-9705-1e24a1d6163d",
   "metadata": {},
   "source": [
    "## Dimensionality Reduction & Clustering\n",
    "For easier plotting and comparison, we reduce the 1024 features from Mistral's embeddings to 2 features. We will be using umap for the dimensionality reduction."
   ]
  },
  {
   "cell_type": "markdown",
   "id": "f1e1cc99-6c5a-484e-8b3f-eae29b889928",
   "metadata": {},
   "source": [
    "First, we load the stored Mistral AI embeddings and the subchapter corpus."
   ]
  },
  {
   "cell_type": "code",
   "execution_count": 27,
   "id": "1691f252-bad4-4d37-a383-75c5a0e1a526",
   "metadata": {},
   "outputs": [],
   "source": [
    "# Load embeddings\n",
    "loaded_embeddings = []\n",
    "with open(\"mistral_embeddings_full.pkl\", \"rb\") as f:\n",
    "    loaded_embeddings = pickle.load(f)"
   ]
  },
  {
   "cell_type": "code",
   "execution_count": 32,
   "id": "3a0e1ea4-d4d8-4c18-95fe-2b27ef1916bb",
   "metadata": {},
   "outputs": [],
   "source": [
    "# Loading texts and ids from drive\n",
    "sc_dict = dict()\n",
    "idx = 0\n",
    "for directory in os.listdir(\"data\"):\n",
    "    if os.path.isdir(\"data/\"+directory) and not directory.startswith(\".\"):\n",
    "        #print(\"data/\"+directory)\n",
    "        for filename in os.listdir(\"data/\"+directory):\n",
    "            # Create separate dict for tokens/verse distribution\n",
    "            if os.path.isfile(f\"data/{directory}/{filename}\"):\n",
    "                if filename[:-4] not in sc_dict:\n",
    "                    sc_dict[filename[:-4]] = {\"embedding\": loaded_embeddings[idx]}\n",
    "                    idx += 1\n",
    "\n",
    "df = pd.DataFrame.from_dict(sc_dict, orient=\"index\")"
   ]
  },
  {
   "cell_type": "markdown",
   "id": "3933c382-47c2-4b59-960d-052bfb578a2d",
   "metadata": {},
   "source": [
    "If we want, we can further filter the subchapter corpus, for instance by only selecting subchapters that discuss exactly one aya."
   ]
  },
  {
   "cell_type": "code",
   "execution_count": 34,
   "id": "d310376b-cf60-4302-b4b4-443c99fa9c39",
   "metadata": {},
   "outputs": [
    {
     "data": {
      "text/plain": [
       "embedding    [-0.016387939453125, 0.03438377380371094, 0.06...\n",
       "Name: sc.18_1_1_7, dtype: object"
      ]
     },
     "execution_count": 34,
     "metadata": {},
     "output_type": "execute_result"
    }
   ],
   "source": [
    "df.loc[\"sc.18_1_1_7\"]"
   ]
  },
  {
   "cell_type": "markdown",
   "id": "f038a8dd-6718-4638-b993-1cc52a163ed2",
   "metadata": {},
   "source": [
    "Next, we apply umap on the np.array version of the embeddings."
   ]
  },
  {
   "cell_type": "code",
   "execution_count": 35,
   "id": "6dcc72bb-cb30-4faf-8f3c-c991b6c508b7",
   "metadata": {},
   "outputs": [],
   "source": [
    "# First convert all lists to np.arrays, otherwise umap won't work\n",
    "embeddings_orig = df[\"embedding\"].to_numpy()\n",
    "embeddings_orig = [np.array(l) for l in embeddings_orig]"
   ]
  },
  {
   "cell_type": "code",
   "execution_count": 50,
   "id": "d9d285e0-b8f2-4025-81e3-4a31de892984",
   "metadata": {},
   "outputs": [],
   "source": [
    "#umap_reducer = umap.UMAP(n_neighbors=2, \n",
    "                         #min_dist=0.1, \n",
    "                         #n_components=2,\n",
    "                         #metric=\"cosine\",\n",
    "                         #random_state=42)\n",
    "umap_reducer = umap.UMAP()"
   ]
  },
  {
   "cell_type": "code",
   "execution_count": 51,
   "id": "9d2c6b40-b18c-46e8-8b3d-9faff904add3",
   "metadata": {},
   "outputs": [
    {
     "name": "stderr",
     "output_type": "stream",
     "text": [
      "/home/tommy/environments/a01/lib/python3.12/site-packages/sklearn/utils/deprecation.py:151: FutureWarning: 'force_all_finite' was renamed to 'ensure_all_finite' in 1.6 and will be removed in 1.8.\n",
      "  warnings.warn(\n"
     ]
    }
   ],
   "source": [
    "embeddings_reduced = umap_reducer.fit_transform(embeddings_orig)"
   ]
  },
  {
   "cell_type": "markdown",
   "id": "6272b7a9-4ef7-40f8-938b-eb6818fb725d",
   "metadata": {},
   "source": [
    "Next, we are using HDBSCAN to cluster the data."
   ]
  },
  {
   "cell_type": "code",
   "execution_count": 54,
   "id": "7a094b4b-6121-48d7-a82e-408f5d61c978",
   "metadata": {},
   "outputs": [],
   "source": [
    "hdbscan_clusterer = HDBSCAN()\n",
    "\n",
    "cluster_labels = hdbscan_clusterer.fit_predict(embeddings_reduced)"
   ]
  },
  {
   "cell_type": "code",
   "execution_count": 59,
   "id": "4b7968a7-e481-414f-b71e-347b95028a3f",
   "metadata": {},
   "outputs": [],
   "source": [
    "# Adding cluster labels to dataframe\n",
    "df[\"cluster\"] = cluster_labels"
   ]
  },
  {
   "cell_type": "code",
   "execution_count": 65,
   "id": "ddd02e83-b99f-49f7-a431-cc068b762cec",
   "metadata": {},
   "outputs": [],
   "source": [
    "df.groupby(\"cluster\").count().sort_values(\"embedding\", ascending=False).to_csv(\"tables/cluster_overview.csv\")"
   ]
  },
  {
   "cell_type": "markdown",
   "id": "3964df45-4f4f-458a-a298-5f5735ab5b18",
   "metadata": {},
   "source": [
    "Plotting the results."
   ]
  },
  {
   "cell_type": "code",
   "execution_count": 55,
   "id": "d1be1f4f-7254-446b-8e84-0624c705ca12",
   "metadata": {},
   "outputs": [
    {
     "data": {
      "image/png": "[encoded data removed]",
      "text/plain": [
       "<Figure size 1000x800 with 1 Axes>"
      ]
     },
     "metadata": {},
     "output_type": "display_data"
    }
   ],
   "source": [
    "# Plot reduced datapoints\n",
    "plt.figure(figsize=(10, 8))\n",
    "\n",
    "# Create scatter plot\n",
    "scatter = plt.scatter(embeddings_reduced[:, 0], \n",
    "            embeddings_reduced[:, 1], \n",
    "            c=cluster_labels, \n",
    "            cmap='rainbow', \n",
    "            s=10, \n",
    "            alpha=0.7)\n",
    "\n",
    "# Add a legend for the clusters\n",
    "legend1 = plt.legend(*scatter.legend_elements(),\n",
    "                    title=\"Clusters\")\n",
    "plt.gca().add_artist(legend1)\n",
    "\n",
    "# Title\n",
    "plt.title(\"HDBSCAN clustering of all subchapters\")\n",
    "\n",
    "# Saving plot\n",
    "plt.savefig(\"images/hdbscan_all.jpg\")"
   ]
  },
  {
   "cell_type": "markdown",
   "id": "42494987-a7e0-478a-8b01-19307a0b503a",
   "metadata": {},
   "source": [
    "## Retrieving texts of subchapters in each cluster"
   ]
  },
  {
   "cell_type": "code",
   "execution_count": 77,
   "id": "79994ad0-37e0-401e-9ad3-3e4e0c31683c",
   "metadata": {},
   "outputs": [],
   "source": [
    "def download_subchapter_file(subchapter_id: str, filename: Optional[str] = None):\n",
    "    # Build API path from sc_id\n",
    "    # Example: http://localhost:8080/api/download/tafsir/3/c.3_2/sc.3_2_77_77\n",
    "    url = \"http://localhost:8080/api/download/tafsir/\"\n",
    "    sc_list = subchapter_id.split(\"_\")\n",
    "    tafsir_id = sc_list[0].split(\".\")[1]\n",
    "    url += tafsir_id + \"/\"\n",
    "    chapter_id = \"c.\" + tafsir_id + \"_\" + sc_list[1]\n",
    "    url += chapter_id + \"/\" + subchapter_id\n",
    "    # DEBUG\n",
    "    print(url)\n",
    "    \n",
    "    # Send request\n",
    "    response = requests.get(url)\n",
    "    \n",
    "    # Check if request was successful\n",
    "    response.raise_for_status()\n",
    "    \n",
    "    # Save file\n",
    "    with open(filename, 'wb') as file:\n",
    "        file.write(response.content)\n",
    "    \n",
    "    return filename"
   ]
  },
  {
   "cell_type": "code",
   "execution_count": 78,
   "id": "c1a40ccf-48b7-4e3d-86fb-cc1efb373c83",
   "metadata": {},
   "outputs": [],
   "source": [
    "def download_cluster_subchapters(subchapter_list: list[str], path: str):\n",
    "        if not os.path.exists(path):\n",
    "            os.makedirs(path)\n",
    "            print(f\"Directory created: {path}\")\n",
    "        else:\n",
    "            print(f\"Directory already exists: {path}\")\n",
    "        for sc in subchapter_list:\n",
    "            download_subchapter_file(sc, f\"{path}/{sc}.txt\")"
   ]
  },
  {
   "cell_type": "code",
   "execution_count": 94,
   "id": "be29fd0a-2f11-4138-9119-7dbc2cc0009e",
   "metadata": {},
   "outputs": [],
   "source": [
    "for i in df.cluster.unique():\n",
    "   pass\n",
    "# download_cluster_subchapters(df[df[\"cluster\"]==i].index.tolist(), f\"clustering/{i}\")"
   ]
  },
  {
   "cell_type": "markdown",
   "id": "a3b41c27-77e9-463a-9b5f-b4bde23f57e6",
   "metadata": {},
   "source": [
    "## Retrieving metadata for each subchapter in cluster"
   ]
  },
  {
   "cell_type": "code",
   "execution_count": 72,
   "id": "0fb2d516-6303-4fa5-a2da-e39340750190",
   "metadata": {},
   "outputs": [],
   "source": [
    "def get_subchapter_metadata(sc_id: str) -> (dict, str):\n",
    "    # Get tafsir id from sc id\n",
    "    # This is needed since the API only delivers metadata for tafsirs, not subchapters\n",
    "    # sc ids should look like this: sc.1_2_1_7 where the tafsir id is the 1 in sc.1\n",
    "    try:\n",
    "        tafsir_id = sc_id.split(\"_\")[0].split(\".\")[1].strip()\n",
    "    except:\n",
    "        return dict(), f\"Could not parse tafsir id from sc id {sc_id}\"\n",
    "    if tafsir_id == \"\":\n",
    "        return dict(), f\"Could not parse tafsir id from sc id {sc_id}\"\n",
    "    res = requests.get(f\"http://localhost:8080/api/metadata/overview/{tafsir_id}\")\n",
    "    try:\n",
    "        res.raise_for_status()\n",
    "    except:\n",
    "        return dict(), f\"Could not retrieve data via API for tafsir id {tafsir_id}\"\n",
    "    return res.json(), \"\""
   ]
  },
  {
   "cell_type": "code",
   "execution_count": 95,
   "id": "3290962f-cb9b-4680-8748-0a70378611c0",
   "metadata": {},
   "outputs": [],
   "source": [
    "# Save metadata for all clusters\n",
    "for i in df.cluster.unique():\n",
    "    data = dict()\n",
    "    for idx, sc in enumerate(df[df[\"cluster\"]==i].index.tolist()):\n",
    "        json_res, err = get_subchapter_metadata(sc)\n",
    "        data[idx] = json_res\n",
    "    df_metadata = pd.DataFrame.from_dict(data, orient=\"index\")\n",
    "    df_metadata = df_metadata.map(lambda x: \"; \".join(x) if type(x) == list else x)\n",
    "    df_metadata.to_csv(f\"tables/cluster_{i}.csv\")"
   ]
  },
  {
   "cell_type": "code",
   "execution_count": null,
   "id": "04a9388d-869e-410c-8556-e6b8504bb326",
   "metadata": {},
   "outputs": [],
   "source": []
  }
 ],
 "metadata": {
  "kernelspec": {
   "display_name": "Python 3 (ipykernel)",
   "language": "python",
   "name": "python3"
  },
  "language_info": {
   "codemirror_mode": {
    "name": "ipython",
    "version": 3
   },
   "file_extension": ".py",
   "mimetype": "text/x-python",
   "name": "python",
   "nbconvert_exporter": "python",
   "pygments_lexer": "ipython3",
   "version": "3.12.3"
  }
 },
 "nbformat": 4,
 "nbformat_minor": 5
}
