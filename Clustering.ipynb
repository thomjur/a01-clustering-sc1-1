{
 "cells": [
  {
   "cell_type": "markdown",
   "id": "4809d7b8-8ddc-4846-b490-7ac281126a87",
   "metadata": {},
   "source": [
    "# Clustering Sura 1, Aya 1\n",
    "Version: 11.03.2025  \n",
    "by: Thomas Jurczyk  "
   ]
  },
  {
   "cell_type": "markdown",
   "id": "37002aec-0238-44bc-ba53-697ae0a32392",
   "metadata": {},
   "source": [
    "This notebook includes:\n",
    "\n",
    "1. An overview and exploratory data analysis of the subchapter data that should be clustered.\n",
    "2. The retrieval of document embeddings for each subchapter.\n",
    "3. Clustering of the documents using the retrieved embeddings."
   ]
  },
  {
   "cell_type": "code",
   "execution_count": 1,
   "id": "111f8e73-519e-4282-a90d-cd96c5f166a7",
   "metadata": {},
   "outputs": [
    {
     "name": "stderr",
     "output_type": "stream",
     "text": [
      "/home/tommy/environments/a01/lib/python3.12/site-packages/tqdm/auto.py:21: TqdmWarning: IProgress not found. Please update jupyter and ipywidgets. See https://ipywidgets.readthedocs.io/en/stable/user_install.html\n",
      "  from .autonotebook import tqdm as notebook_tqdm\n"
     ]
    }
   ],
   "source": [
    "# imports\n",
    "import os\n",
    "import pickle \n",
    "import matplotlib.pyplot as plt\n",
    "import re\n",
    "import pandas as pd\n",
    "from mistralai import Mistral\n",
    "from dotenv import load_dotenv\n",
    "import psycopg2\n",
    "from psycopg2 import sql\n",
    "import numpy as np\n",
    "import umap\n",
    "from sklearn.cluster import HDBSCAN\n",
    "from typing import Optional\n",
    "import requests\n",
    "\n",
    "# Apply a style\n",
    "plt.style.use('ggplot')\n",
    "\n",
    "# Loading all env variables from .env\n",
    "load_dotenv()\n",
    "\n",
    "MISTRAL_API_KEY = os.getenv(\"MISTRAL_API_KEY\")\n",
    "\n",
    "# Loading params for DB connection to local PostgreSQL\n",
    "\n",
    "db_params = {\n",
    "    \"host\": \"localhost\",\n",
    "    \"port\": \"5432\",\n",
    "    \"database\": os.getenv(\"DB_NAME\"),\n",
    "    \"user\": os.getenv(\"DB_USERNAME\"),\n",
    "    \"password\": os.getenv(\"DB_PASSWORD\")\n",
    "}"
   ]
  },
  {
   "cell_type": "markdown",
   "id": "3fac4d90-9d0d-417c-b6e0-1714a0f6298c",
   "metadata": {},
   "source": [
    "## Data\n",
    "The data consists of subchapters from the A01 tafsir corpus that include a discussion of the first aya of the first sura. Note that some chapters do not only discuss the first aya but are subchapters discussing multiple ayat.\n",
    "\n",
    "The following code tries to download all subchapters that discuss at least the first aya in the first sura."
   ]
  },
  {
   "cell_type": "code",
   "execution_count": 99,
   "id": "5bf1301b-5d2c-490f-9f12-bab99d552913",
   "metadata": {},
   "outputs": [],
   "source": [
    "# Get all tafsir ids\n",
    "with open(\"tafsir_ids.txt\", \"r\") as f:\n",
    "    tafsir_ids = f.read()\n",
    "    tafsir_id_list = [id_ for id_ in tafsir_ids.strip().split(\",\")]    "
   ]
  },
  {
   "cell_type": "code",
   "execution_count": 103,
   "id": "73d908a9-1ca3-416e-887f-f540b52740b7",
   "metadata": {},
   "outputs": [],
   "source": [
    "# Try to download subchapter with first aya, first sura\n",
    "for tafsir_id in tafsir_id_list:\n",
    "    for i in range(1,8):\n",
    "        res = requests.get(f\"http://localhost:8080/api/tafsir/{tafsir_id}/c.{tafsir_id}_1/sc.{tafsir_id}_1_1_{i}\")\n",
    "        data = res.json()\n",
    "        if data[\"content\"] != \"\":\n",
    "            with open(f\"data/sc.{tafsir_id}_1_1_{i}.txt\", \"w\") as f:\n",
    "                f.write(data[\"content\"])"
   ]
  },
  {
   "cell_type": "markdown",
   "id": "32fa5510-3c9a-46ef-a4e3-c72e0f58d370",
   "metadata": {},
   "source": [
    "### Tokens per subchapter\n",
    "Next, we count the number of tokens in each subchapter and compare the results with each other. A token is simply defined by at least one blank space separating the tokens. The tokens are not cleaned of non-Arabic characters and still include punctuation marks as well (these might in some cases count as separate tokens as well due to the way the data was collected and reconstructed)."
   ]
  },
  {
   "cell_type": "code",
   "execution_count": 111,
   "id": "94202eb9-85f2-462e-85af-ce0de6954225",
   "metadata": {},
   "outputs": [],
   "source": [
    "token_counter = dict()\n",
    "for filename in os.listdir(\"data\"):\n",
    "    if os.path.isfile(\"data/\"+filename):\n",
    "        with open(f\"data/{filename}\", \"r\", encoding=\"utf-8\") as f:\n",
    "            text = f.read()\n",
    "            tokens = re.split(r\"\\s+\", text)\n",
    "            token_counter[filename[:-4]] = len(tokens)"
   ]
  },
  {
   "cell_type": "code",
   "execution_count": 113,
   "id": "f481d537-520f-4685-9902-36760ffcb828",
   "metadata": {},
   "outputs": [],
   "source": [
    "df = pd.DataFrame.from_dict(token_counter, orient=\"index\").reset_index()"
   ]
  },
  {
   "cell_type": "code",
   "execution_count": 114,
   "id": "7338cb9c-efb7-4627-aee9-399507fe77af",
   "metadata": {},
   "outputs": [],
   "source": [
    "df.columns = [\"id\", \"token_count\"]"
   ]
  },
  {
   "cell_type": "code",
   "execution_count": 115,
   "id": "c1599ea2-b7a4-42b4-b66c-f5eaa843ee4d",
   "metadata": {},
   "outputs": [
    {
     "data": {
      "text/html": [
       "<div>\n",
       "<style scoped>\n",
       "    .dataframe tbody tr th:only-of-type {\n",
       "        vertical-align: middle;\n",
       "    }\n",
       "\n",
       "    .dataframe tbody tr th {\n",
       "        vertical-align: top;\n",
       "    }\n",
       "\n",
       "    .dataframe thead th {\n",
       "        text-align: right;\n",
       "    }\n",
       "</style>\n",
       "<table border=\"1\" class=\"dataframe\">\n",
       "  <thead>\n",
       "    <tr style=\"text-align: right;\">\n",
       "      <th></th>\n",
       "      <th>token_count</th>\n",
       "    </tr>\n",
       "  </thead>\n",
       "  <tbody>\n",
       "    <tr>\n",
       "      <th>count</th>\n",
       "      <td>71.000000</td>\n",
       "    </tr>\n",
       "    <tr>\n",
       "      <th>mean</th>\n",
       "      <td>4157.816901</td>\n",
       "    </tr>\n",
       "    <tr>\n",
       "      <th>std</th>\n",
       "      <td>6859.044845</td>\n",
       "    </tr>\n",
       "    <tr>\n",
       "      <th>min</th>\n",
       "      <td>18.000000</td>\n",
       "    </tr>\n",
       "    <tr>\n",
       "      <th>25%</th>\n",
       "      <td>582.000000</td>\n",
       "    </tr>\n",
       "    <tr>\n",
       "      <th>50%</th>\n",
       "      <td>1576.000000</td>\n",
       "    </tr>\n",
       "    <tr>\n",
       "      <th>75%</th>\n",
       "      <td>4240.000000</td>\n",
       "    </tr>\n",
       "    <tr>\n",
       "      <th>max</th>\n",
       "      <td>35442.000000</td>\n",
       "    </tr>\n",
       "  </tbody>\n",
       "</table>\n",
       "</div>"
      ],
      "text/plain": [
       "        token_count\n",
       "count     71.000000\n",
       "mean    4157.816901\n",
       "std     6859.044845\n",
       "min       18.000000\n",
       "25%      582.000000\n",
       "50%     1576.000000\n",
       "75%     4240.000000\n",
       "max    35442.000000"
      ]
     },
     "execution_count": 115,
     "metadata": {},
     "output_type": "execute_result"
    }
   ],
   "source": [
    "df.describe()"
   ]
  },
  {
   "cell_type": "code",
   "execution_count": 116,
   "id": "2987aa45-f0e6-4e3f-aad8-c49662040dff",
   "metadata": {},
   "outputs": [
    {
     "data": {
      "image/png": "[encoded data removed]",
      "text/plain": [
       "<Figure size 640x480 with 1 Axes>"
      ]
     },
     "metadata": {},
     "output_type": "display_data"
    }
   ],
   "source": [
    "df[\"token_count\"].plot(kind=\"box\", title=\"Token distribution in subchapters\", color=\"skyblue\")\n",
    "\n",
    "plt.savefig(\"images/boxplot.jpg\")"
   ]
  },
  {
   "cell_type": "code",
   "execution_count": 117,
   "id": "d89edbe5-1a47-4c77-ad75-e1910bb66cdd",
   "metadata": {},
   "outputs": [
    {
     "data": {
      "text/html": [
       "<div>\n",
       "<style scoped>\n",
       "    .dataframe tbody tr th:only-of-type {\n",
       "        vertical-align: middle;\n",
       "    }\n",
       "\n",
       "    .dataframe tbody tr th {\n",
       "        vertical-align: top;\n",
       "    }\n",
       "\n",
       "    .dataframe thead th {\n",
       "        text-align: right;\n",
       "    }\n",
       "</style>\n",
       "<table border=\"1\" class=\"dataframe\">\n",
       "  <thead>\n",
       "    <tr style=\"text-align: right;\">\n",
       "      <th></th>\n",
       "      <th>id</th>\n",
       "      <th>token_count</th>\n",
       "    </tr>\n",
       "  </thead>\n",
       "  <tbody>\n",
       "    <tr>\n",
       "      <th>69</th>\n",
       "      <td>sc.105_1_1_1</td>\n",
       "      <td>18</td>\n",
       "    </tr>\n",
       "    <tr>\n",
       "      <th>68</th>\n",
       "      <td>sc.47_1_1_1</td>\n",
       "      <td>31</td>\n",
       "    </tr>\n",
       "    <tr>\n",
       "      <th>62</th>\n",
       "      <td>sc.71_1_1_1</td>\n",
       "      <td>41</td>\n",
       "    </tr>\n",
       "    <tr>\n",
       "      <th>57</th>\n",
       "      <td>sc.8_1_1_2</td>\n",
       "      <td>80</td>\n",
       "    </tr>\n",
       "    <tr>\n",
       "      <th>51</th>\n",
       "      <td>sc.60_1_1_4</td>\n",
       "      <td>135</td>\n",
       "    </tr>\n",
       "    <tr>\n",
       "      <th>...</th>\n",
       "      <td>...</td>\n",
       "      <td>...</td>\n",
       "    </tr>\n",
       "    <tr>\n",
       "      <th>65</th>\n",
       "      <td>sc.97_1_1_7</td>\n",
       "      <td>15717</td>\n",
       "    </tr>\n",
       "    <tr>\n",
       "      <th>47</th>\n",
       "      <td>sc.49_1_1_7</td>\n",
       "      <td>20306</td>\n",
       "    </tr>\n",
       "    <tr>\n",
       "      <th>44</th>\n",
       "      <td>sc.103_1_1_7</td>\n",
       "      <td>23901</td>\n",
       "    </tr>\n",
       "    <tr>\n",
       "      <th>14</th>\n",
       "      <td>sc.22_1_1_7</td>\n",
       "      <td>30607</td>\n",
       "    </tr>\n",
       "    <tr>\n",
       "      <th>61</th>\n",
       "      <td>sc.52_1_1_7</td>\n",
       "      <td>35442</td>\n",
       "    </tr>\n",
       "  </tbody>\n",
       "</table>\n",
       "<p>71 rows × 2 columns</p>\n",
       "</div>"
      ],
      "text/plain": [
       "              id  token_count\n",
       "69  sc.105_1_1_1           18\n",
       "68   sc.47_1_1_1           31\n",
       "62   sc.71_1_1_1           41\n",
       "57    sc.8_1_1_2           80\n",
       "51   sc.60_1_1_4          135\n",
       "..           ...          ...\n",
       "65   sc.97_1_1_7        15717\n",
       "47   sc.49_1_1_7        20306\n",
       "44  sc.103_1_1_7        23901\n",
       "14   sc.22_1_1_7        30607\n",
       "61   sc.52_1_1_7        35442\n",
       "\n",
       "[71 rows x 2 columns]"
      ]
     },
     "execution_count": 117,
     "metadata": {},
     "output_type": "execute_result"
    }
   ],
   "source": [
    "# show outliers\n",
    "df.sort_values(\"token_count\")"
   ]
  },
  {
   "cell_type": "markdown",
   "id": "5064c70d-0c0a-411d-be4e-128123668277",
   "metadata": {},
   "source": [
    "### Comparison of one aya vs. multi ayat subchapters"
   ]
  },
  {
   "cell_type": "code",
   "execution_count": 118,
   "id": "19fde83f-6124-4af1-9496-c0720c16e25f",
   "metadata": {},
   "outputs": [],
   "source": [
    "# First, we annotate the subchapters as multi ayat (1) or single ayat (0)"
   ]
  },
  {
   "cell_type": "code",
   "execution_count": 119,
   "id": "7b6341b8-1401-486c-96cf-f7cb28cf5dab",
   "metadata": {},
   "outputs": [],
   "source": [
    "df[\"multi_ayat\"] = df[\"id\"].map(lambda x: \"multi_ayat\" if x.split(\"_\")[-1] != \"1\" else \"single_aya\")"
   ]
  },
  {
   "cell_type": "code",
   "execution_count": 120,
   "id": "fb749827-fd0f-410c-8cbe-4a2191d6263e",
   "metadata": {},
   "outputs": [],
   "source": [
    "# Creating stats for both subsets"
   ]
  },
  {
   "cell_type": "code",
   "execution_count": 122,
   "id": "4791724b-526c-4b2a-8a13-ecc70867bd95",
   "metadata": {},
   "outputs": [
    {
     "data": {
      "image/png": "[encoded data removed]",
      "text/plain": [
       "<Figure size 640x480 with 1 Axes>"
      ]
     },
     "metadata": {},
     "output_type": "display_data"
    }
   ],
   "source": [
    "ax = df.groupby(\"multi_ayat\")[\"token_count\"].median().plot(kind=\"bar\", title=\"Median token count single/multi ayat\", color=\"skyblue\")\n",
    "# Display count on top of each bar\n",
    "for bar in ax.patches:\n",
    "    yval = bar.get_height()\n",
    "    plt.text(bar.get_x() + bar.get_width()/2, yval + 0.5, round(yval, 2), ha='center', va='bottom')\n",
    "\n",
    "plt.ylim(0,2500)\n",
    "\n",
    "plt.tight_layout()\n",
    "\n",
    "plt.savefig(\"images/median_mayat.jpg\")"
   ]
  },
  {
   "cell_type": "code",
   "execution_count": 125,
   "id": "847f70b5-47bd-4c78-aa82-9b920eed2eb6",
   "metadata": {},
   "outputs": [
    {
     "data": {
      "image/png": "[encoded data removed]",
      "text/plain": [
       "<Figure size 640x480 with 1 Axes>"
      ]
     },
     "metadata": {},
     "output_type": "display_data"
    }
   ],
   "source": [
    "ax = df.groupby(\"multi_ayat\")[\"token_count\"].mean().plot(kind=\"bar\", title=\"Mean token count single/multi ayat\", color=\"skyblue\")\n",
    "# Display count on top of each bar\n",
    "for bar in ax.patches:\n",
    "    yval = bar.get_height()\n",
    "    plt.text(bar.get_x() + bar.get_width()/2, yval + 0.5, round(yval, 2), ha='center', va='bottom')\n",
    "\n",
    "plt.ylim(0,6500)\n",
    "\n",
    "plt.tight_layout()\n",
    "\n",
    "plt.savefig(\"images/mean_mayat.jpg\")"
   ]
  },
  {
   "cell_type": "markdown",
   "id": "c3f6ab9d-c820-4c41-9df8-52c862fc68ff",
   "metadata": {},
   "source": [
    "### Ayat discussed in the subchapters\n",
    "The following diagram and dictionary demonstrates how often the firrst ayat from the first sura are discussed in the subchapter corpus."
   ]
  },
  {
   "cell_type": "code",
   "execution_count": 127,
   "id": "c5f35431-4a25-4a25-82ac-bee7c89bf702",
   "metadata": {},
   "outputs": [],
   "source": [
    "ayat_counter = {\n",
    "    1: 0,\n",
    "    2: 0,\n",
    "    3: 0,\n",
    "    4: 0,\n",
    "    5: 0,\n",
    "    6: 0,\n",
    "    7: 0\n",
    "}\n",
    "\n",
    "for filename in os.listdir(\"data\"):\n",
    "    if os.path.isfile(\"data/\"+filename):\n",
    "        tmp_ls = filename.split(\"_\")[-2:]\n",
    "        tmp_ls[1] = tmp_ls[1].split(\".\")[0]\n",
    "        tmp_ls[0], tmp_ls[1] = int(tmp_ls[0]), int(tmp_ls[1])\n",
    "        # Increasing ayat counter\n",
    "        for i in range(tmp_ls[0], tmp_ls[1]+1):\n",
    "            ayat_counter[i] += 1"
   ]
  },
  {
   "cell_type": "code",
   "execution_count": 128,
   "id": "a99bb517-ea81-4ba5-af9f-d6addb436e54",
   "metadata": {},
   "outputs": [
    {
     "data": {
      "image/png": "[encoded data removed]",
      "text/plain": [
       "<Figure size 800x600 with 1 Axes>"
      ]
     },
     "metadata": {},
     "output_type": "display_data"
    }
   ],
   "source": [
    "# Extract keys and values\n",
    "categories = list(ayat_counter.keys())\n",
    "values = list(ayat_counter.values())\n",
    "\n",
    "# Create the bar plot\n",
    "plt.figure(figsize=(8, 6))\n",
    "bars = plt.bar(categories, values, color='skyblue')\n",
    "\n",
    "# Display count on top of each bar\n",
    "for bar in bars:\n",
    "    yval = bar.get_height()\n",
    "    plt.text(bar.get_x() + bar.get_width()/2, yval + 0.5, round(yval, 2), ha='center', va='bottom')\n",
    "\n",
    "# Add title and labels\n",
    "plt.title('Ayat distribution in first subchapter')\n",
    "plt.xlabel('Ayat')\n",
    "plt.ylabel('Count')\n",
    "\n",
    "# Tight layout\n",
    "plt.tight_layout()\n",
    "\n",
    "# Save plot\n",
    "plt.savefig(\"images/subchapters.jpg\")"
   ]
  },
  {
   "cell_type": "markdown",
   "id": "5d7a1e39-46cd-42d0-a4ce-91aa88f4408e",
   "metadata": {},
   "source": [
    "## Embeddings\n",
    "In a first step, we are acquiring the embeddings using Mistral's `mistral-embed` model."
   ]
  },
  {
   "cell_type": "markdown",
   "id": "e366b496-e40a-4621-8e57-f975aa351f68",
   "metadata": {},
   "source": [
    "### Full Subchapter Embeddings"
   ]
  },
  {
   "cell_type": "markdown",
   "id": "9114fa7d-d364-414f-9549-cfa45d27ddea",
   "metadata": {},
   "source": [
    "We are creating three lists for the text ids, texts, and the embeddings."
   ]
  },
  {
   "cell_type": "code",
   "execution_count": 129,
   "id": "28f6f168-78ab-4efd-8436-a80f4c74abf6",
   "metadata": {},
   "outputs": [],
   "source": [
    "sc_id_list = []\n",
    "sc_text_list = []\n",
    "sc_embeddings_list = []"
   ]
  },
  {
   "cell_type": "code",
   "execution_count": 130,
   "id": "6d8a1817-6acb-4b13-a5e6-300d92d5f5c2",
   "metadata": {},
   "outputs": [],
   "source": [
    "# Loading texts and ids from drive\n",
    "for filename in os.listdir(\"data\"):\n",
    "    if os.path.isfile(\"data/\"+filename):\n",
    "        with open(f\"data/{filename}\", \"r\", encoding=\"utf-8\") as f:\n",
    "            text = f.read()\n",
    "            sc_id_list.append(filename[:-4])\n",
    "            sc_text_list.append(text)"
   ]
  },
  {
   "cell_type": "markdown",
   "id": "b1523197-e186-4fd5-bbcc-a4cb24630e1c",
   "metadata": {},
   "source": [
    "Now, we are retrieving the embeddings for each text and store them in the respective list.  \n",
    "**Important**: The embeddings are afterwards stored in a database and locally on the computer. Therefore, this step only needs to be executed when something has changed."
   ]
  },
  {
   "cell_type": "code",
   "execution_count": 131,
   "id": "7fdeaca1-4ee3-4bc6-8aae-7b9d40ea24e4",
   "metadata": {},
   "outputs": [],
   "source": [
    "import time\n",
    "\n",
    "model = \"mistral-embed\"\n",
    "execute = False\n",
    "client = Mistral(api_key=MISTRAL_API_KEY)\n",
    "\n",
    "# The max token per batch is 16384 or sometimes even lower for some reason (?)\n",
    "# We split longer texts into chunks\n",
    "# Using a sliding window approach with an overlap of 50 tokens\n",
    "# We also need to use time.sleep() to avoid exceeding rate limits with 6 requests per sec\n",
    "if execute:\n",
    "    for idx, text in enumerate(sc_text_list):\n",
    "        #print(f\"{idx}. {sc_id_list[idx]}\")\n",
    "        tokens = re.split(r\"\\s+\", text)\n",
    "        if len(tokens) > 1000:\n",
    "            #print(f\"Text {sc_id_list[idx]} is too long: {len(tokens)}\") \n",
    "            tmp_embeddings = list()\n",
    "            # Splitting the text into chunks\n",
    "            window_size = 500\n",
    "            stride = 450 # Overlap of 50 tokens\n",
    "            for start_idx in range(0,len(tokens), stride):\n",
    "                end_idx = min(start_idx + window_size, len(tokens))\n",
    "                tmp_text = \" \".join(tokens[start_idx:end_idx])\n",
    "                res = client.embeddings.create(model=model, inputs=[tmp_text])\n",
    "                tmp_embeddings.append(res.data[0].embedding)\n",
    "                time.sleep(0.1)\n",
    "            # Calculate mean from all chunk embeddings\n",
    "            sc_embeddings_list.append(np.mean(tmp_embeddings, axis=0).tolist())\n",
    "        else:\n",
    "            res = client.embeddings.create(model=model, inputs=[text])\n",
    "            sc_embeddings_list.append(res.data[0].embedding)\n",
    "            time.sleep(0.1)"
   ]
  },
  {
   "cell_type": "code",
   "execution_count": 132,
   "id": "2524aad4-19e5-4a39-873a-8e402bddba2a",
   "metadata": {},
   "outputs": [],
   "source": [
    "# Saving embeddings locally\n",
    "\n",
    "with open(\"mistral_embeddings_full.pkl\", \"wb\") as f:\n",
    "    pickle.dump(sc_embeddings_list, f)"
   ]
  },
  {
   "cell_type": "code",
   "execution_count": 133,
   "id": "6984f2a7-3c15-46ee-bca1-a857720b7109",
   "metadata": {},
   "outputs": [],
   "source": [
    "# Reload embeddings\n",
    "with open(\"mistral_embeddings_full.pkl\", \"rb\") as f:\n",
    "    loaded_embeddings = pickle.load(f)"
   ]
  },
  {
   "cell_type": "code",
   "execution_count": null,
   "id": "2042ac35-1293-4fe1-9dc8-3121dcef950d",
   "metadata": {},
   "outputs": [],
   "source": [
    "# Connecting to PostgreSQL and storing embeddings in table"
   ]
  },
  {
   "cell_type": "code",
   "execution_count": 134,
   "id": "55fbe8d7-8023-466f-808f-509c7173cf66",
   "metadata": {},
   "outputs": [
    {
     "name": "stdout",
     "output_type": "stream",
     "text": [
      "Connection to DB was successful!!\n",
      "Data was added!\n",
      "DB connection closed.\n"
     ]
    }
   ],
   "source": [
    "try:\n",
    "    conn = psycopg2.connect(**db_params)\n",
    "    cursor = conn.cursor()\n",
    "    print(\"Connection to DB was successful!!\")\n",
    "\n",
    "    for idx, value in enumerate(loaded_embeddings):\n",
    "        cursor.execute(\"\"\"\n",
    "            INSERT INTO embedding.sc_mistral_fulltext (subchapter_id, embedding) \n",
    "            VALUES (%s, %s)\n",
    "        \"\"\", (sc_id_list[idx], value))\n",
    "    \n",
    "        # Änderungen bestätigen\n",
    "        conn.commit()\n",
    "    print(\"Data was added!\")\n",
    "\n",
    "except Exception as e:\n",
    "    print(f\"Error: {e}\")\n",
    "    if conn:\n",
    "        conn.rollback()\n",
    "finally:\n",
    "    # Close connection\n",
    "    if cursor:\n",
    "        cursor.close()\n",
    "    if conn:\n",
    "        conn.close()\n",
    "    print(\"DB connection closed.\")"
   ]
  },
  {
   "cell_type": "markdown",
   "id": "c9d57016-fb97-4d77-acc9-1b4893ecae40",
   "metadata": {
    "jp-MarkdownHeadingCollapsed": true
   },
   "source": [
    "### Test embeddings for Arabic texts: MSA\n",
    "We will try and cluster simple Arabic texts to see if this even works."
   ]
  },
  {
   "cell_type": "code",
   "execution_count": null,
   "id": "33d5e3b1-51bc-44b7-a175-488306ff59d1",
   "metadata": {},
   "outputs": [],
   "source": [
    "# Loading test data\n",
    "df_test = pd.read_csv(\"arabic-test-data.csv\")"
   ]
  },
  {
   "cell_type": "code",
   "execution_count": null,
   "id": "fa401abf-b8b0-45a7-a3b9-2c85f523b58f",
   "metadata": {},
   "outputs": [],
   "source": [
    "df_test.head()"
   ]
  },
  {
   "cell_type": "code",
   "execution_count": null,
   "id": "3865d838-9191-4bce-a8f0-f20ba3132bf4",
   "metadata": {},
   "outputs": [],
   "source": [
    "text_list = df_test[\"arabic_text\"].tolist()"
   ]
  },
  {
   "cell_type": "code",
   "execution_count": null,
   "id": "5687a11c-52fa-4243-a201-c943ef9efe5b",
   "metadata": {},
   "outputs": [],
   "source": [
    "text_list"
   ]
  },
  {
   "cell_type": "code",
   "execution_count": null,
   "id": "ee937675-78cc-4816-971a-7df3ad484516",
   "metadata": {},
   "outputs": [],
   "source": [
    "# Get embeddings\n",
    "model = \"mistral-embed\"\n",
    "\n",
    "client = Mistral(api_key=MISTRAL_API_KEY)\n",
    "\n",
    "embeddings_batch_response = client.embeddings.create(\n",
    "    model=model,\n",
    "    inputs=text_list,\n",
    ")"
   ]
  },
  {
   "cell_type": "code",
   "execution_count": null,
   "id": "2fc0237f-0ab2-4ab0-9594-cd655919800f",
   "metadata": {},
   "outputs": [],
   "source": [
    "embeddings_test = [entry.embedding for entry in embeddings_batch_response.data]"
   ]
  },
  {
   "cell_type": "code",
   "execution_count": null,
   "id": "0b832545-aa21-4525-b6c6-1a606e309d75",
   "metadata": {},
   "outputs": [],
   "source": [
    "embeddings_test[0][:10]"
   ]
  },
  {
   "cell_type": "code",
   "execution_count": null,
   "id": "88c4c39f-24dd-40ad-a4f3-7c8c35a57626",
   "metadata": {},
   "outputs": [],
   "source": [
    "# Add embeddings to database\n",
    "db_test_params = {\n",
    "    \"host\": \"localhost\",\n",
    "    \"port\": \"5432\",\n",
    "    \"database\": os.getenv(\"DB_NAME\"),\n",
    "    \"user\": os.getenv(\"DB_USERNAME\"),\n",
    "    \"password\": os.getenv(\"DB_PASSWORD\")\n",
    "}\n",
    "\n",
    "try:\n",
    "    conn = psycopg2.connect(**db_test_params)\n",
    "    cursor = conn.cursor()\n",
    "    print(\"Connection to DB was successful!!\")\n",
    "\n",
    "    for idx, row in df_test.iterrows():\n",
    "        cursor.execute(\"\"\"\n",
    "            INSERT INTO embedding.test_embeddings (id, embedding, category, translation) \n",
    "            VALUES (%s, %s, %s, %s)\n",
    "        \"\"\", (idx, embeddings_test[idx], row[\"category\"], row[\"translation\"]))\n",
    "    \n",
    "        # Änderungen bestätigen\n",
    "        conn.commit()\n",
    "    print(\"Data was added!\")\n",
    "\n",
    "except Exception as e:\n",
    "    print(f\"Error: {e}\")\n",
    "    if conn:\n",
    "        conn.rollback()\n",
    "finally:\n",
    "    # Close connection\n",
    "    if cursor:\n",
    "        cursor.close()\n",
    "    if conn:\n",
    "        conn.close()\n",
    "    print(\"DB connection closed.\")"
   ]
  },
  {
   "cell_type": "markdown",
   "id": "5cac5de2-9f64-4e0e-bc2c-b80d3d098f46",
   "metadata": {
    "jp-MarkdownHeadingCollapsed": true
   },
   "source": [
    "### Test embeddings for Arabic texts: Classical Arabic\n",
    "We will try and cluster classical Arabic texts to see if this even works."
   ]
  },
  {
   "cell_type": "code",
   "execution_count": null,
   "id": "ccc68364-5c50-4ce1-b694-d4b5d2121b75",
   "metadata": {},
   "outputs": [],
   "source": [
    "# Loading test data\n",
    "df_test = pd.read_csv(\"classical-arabic-testdata.csv\")"
   ]
  },
  {
   "cell_type": "code",
   "execution_count": null,
   "id": "83d49999-5c93-4d57-8d9a-ade7f9373731",
   "metadata": {},
   "outputs": [],
   "source": [
    "df_test.head()"
   ]
  },
  {
   "cell_type": "code",
   "execution_count": null,
   "id": "a35cd761-7806-42fc-934d-23e8525dd115",
   "metadata": {},
   "outputs": [],
   "source": [
    "text_list = df_test[\"Arabic_Text\"].tolist()"
   ]
  },
  {
   "cell_type": "code",
   "execution_count": null,
   "id": "7f158b2e-51de-4e81-ba6f-6a735ab17a22",
   "metadata": {},
   "outputs": [],
   "source": [
    "text_list[:3]"
   ]
  },
  {
   "cell_type": "code",
   "execution_count": null,
   "id": "1fd1a592-8698-4750-8f2d-9a6edcb92865",
   "metadata": {},
   "outputs": [],
   "source": [
    "# Get embeddings\n",
    "model = \"mistral-embed\"\n",
    "\n",
    "client = Mistral(api_key=MISTRAL_API_KEY)\n",
    "\n",
    "embeddings_batch_response = client.embeddings.create(\n",
    "    model=model,\n",
    "    inputs=text_list,\n",
    ")"
   ]
  },
  {
   "cell_type": "code",
   "execution_count": null,
   "id": "59c03afc-12d9-4d2e-bf50-246db7255216",
   "metadata": {},
   "outputs": [],
   "source": [
    "embeddings_test = [entry.embedding for entry in embeddings_batch_response.data]"
   ]
  },
  {
   "cell_type": "code",
   "execution_count": null,
   "id": "140dba62-da08-4aa9-be8c-a75826f40e85",
   "metadata": {},
   "outputs": [],
   "source": [
    "# Add embeddings to database\n",
    "db_test_params = {\n",
    "    \"host\": \"localhost\",\n",
    "    \"port\": \"5432\",\n",
    "    \"database\": os.getenv(\"DB_NAME\"),\n",
    "    \"user\": os.getenv(\"DB_USERNAME\"),\n",
    "    \"password\": os.getenv(\"DB_PASSWORD\")\n",
    "}\n",
    "\n",
    "try:\n",
    "    conn = psycopg2.connect(**db_test_params)\n",
    "    cursor = conn.cursor()\n",
    "    print(\"Connection to DB was successful!!\")\n",
    "\n",
    "    for idx, row in df_test.iterrows():\n",
    "        cursor.execute(\"\"\"\n",
    "            INSERT INTO embedding.test_embeddings_classical (id, embedding, category, translation) \n",
    "            VALUES (%s, %s, %s, %s)\n",
    "        \"\"\", (idx, embeddings_test[idx], row[\"Category\"], row[\"English_Translation\"]))\n",
    "    \n",
    "        # Änderungen bestätigen\n",
    "        conn.commit()\n",
    "    print(\"Data was added!\")\n",
    "\n",
    "except Exception as e:\n",
    "    print(f\"Error: {e}\")\n",
    "    if conn:\n",
    "        conn.rollback()\n",
    "finally:\n",
    "    # Close connection\n",
    "    if cursor:\n",
    "        cursor.close()\n",
    "    if conn:\n",
    "        conn.close()\n",
    "    print(\"DB connection closed.\")"
   ]
  },
  {
   "cell_type": "markdown",
   "id": "447edddc-019c-41b2-9705-1e24a1d6163d",
   "metadata": {},
   "source": [
    "## Dimensionality Reduction & Clustering\n",
    "For easier plotting and comparison, we reduce the 1024 features from Mistral's embeddings to 2 features. We will be using umap for the dimensionality reduction."
   ]
  },
  {
   "cell_type": "markdown",
   "id": "f1e1cc99-6c5a-484e-8b3f-eae29b889928",
   "metadata": {},
   "source": [
    "First, we load the stored Mistral AI embeddings and the subchapter corpus."
   ]
  },
  {
   "cell_type": "code",
   "execution_count": 44,
   "id": "1691f252-bad4-4d37-a383-75c5a0e1a526",
   "metadata": {},
   "outputs": [],
   "source": [
    "# Load embeddings\n",
    "loaded_embeddings = []\n",
    "with open(\"mistral_embeddings_full.pkl\", \"rb\") as f:\n",
    "    loaded_embeddings = pickle.load(f)"
   ]
  },
  {
   "cell_type": "code",
   "execution_count": 45,
   "id": "3a0e1ea4-d4d8-4c18-95fe-2b27ef1916bb",
   "metadata": {},
   "outputs": [],
   "source": [
    "# Loading texts and ids from drive\n",
    "sc_dict = dict()\n",
    "for idx,filename in enumerate(os.listdir(\"data\")):\n",
    "    with open(f\"data/{filename}\", \"r\", encoding=\"utf-8\") as f:\n",
    "        text = f.read()\n",
    "        sc_dict[filename[:-4]] = {\"embedding\": loaded_embeddings[idx]}\n",
    "\n",
    "df = pd.DataFrame.from_dict(sc_dict, orient=\"index\")"
   ]
  },
  {
   "cell_type": "markdown",
   "id": "3933c382-47c2-4b59-960d-052bfb578a2d",
   "metadata": {},
   "source": [
    "If we want, we can further filter the subchapter corpus, for instance by only selecting subchapters that discuss exactly one aya."
   ]
  },
  {
   "cell_type": "code",
   "execution_count": 46,
   "id": "912f020e-aa41-44fc-8cc2-7fddb95f3bed",
   "metadata": {},
   "outputs": [],
   "source": [
    "# Only 1 aya suras (optional)\n",
    "df = df[df.index.str.endswith(\"_1\")]\n",
    "# Only suras that discuss more than one sura (optional)\n",
    "#df = df[~df.index.str.endswith(\"_1\")]"
   ]
  },
  {
   "cell_type": "code",
   "execution_count": 47,
   "id": "d310376b-cf60-4302-b4b4-443c99fa9c39",
   "metadata": {},
   "outputs": [
    {
     "data": {
      "text/html": [
       "<div>\n",
       "<style scoped>\n",
       "    .dataframe tbody tr th:only-of-type {\n",
       "        vertical-align: middle;\n",
       "    }\n",
       "\n",
       "    .dataframe tbody tr th {\n",
       "        vertical-align: top;\n",
       "    }\n",
       "\n",
       "    .dataframe thead th {\n",
       "        text-align: right;\n",
       "    }\n",
       "</style>\n",
       "<table border=\"1\" class=\"dataframe\">\n",
       "  <thead>\n",
       "    <tr style=\"text-align: right;\">\n",
       "      <th></th>\n",
       "      <th>embedding</th>\n",
       "    </tr>\n",
       "  </thead>\n",
       "  <tbody>\n",
       "    <tr>\n",
       "      <th>sc.75_1_1_1</th>\n",
       "      <td>[-0.0276947021484375, 0.0301513671875, 0.05911...</td>\n",
       "    </tr>\n",
       "    <tr>\n",
       "      <th>sc.92_1_1_1</th>\n",
       "      <td>[-0.015995388939267115, 0.037729899088541664, ...</td>\n",
       "    </tr>\n",
       "    <tr>\n",
       "      <th>sc.26_1_1_1</th>\n",
       "      <td>[-0.0121002197265625, 0.050140380859375, 0.065...</td>\n",
       "    </tr>\n",
       "    <tr>\n",
       "      <th>sc.79_1_1_1</th>\n",
       "      <td>[-0.0017709732055664062, 0.041717529296875, 0....</td>\n",
       "    </tr>\n",
       "    <tr>\n",
       "      <th>sc.6_1_1_1</th>\n",
       "      <td>[-0.02432801988389757, 0.04086134168836805, 0....</td>\n",
       "    </tr>\n",
       "    <tr>\n",
       "      <th>sc.2_1_1_1</th>\n",
       "      <td>[-0.021686553955078125, 0.03680864969889323, 0...</td>\n",
       "    </tr>\n",
       "    <tr>\n",
       "      <th>sc.23_1_1_1</th>\n",
       "      <td>[-0.0061187744140625, 0.033905029296875, 0.052...</td>\n",
       "    </tr>\n",
       "    <tr>\n",
       "      <th>sc.1_1_1_1</th>\n",
       "      <td>[-0.009454011917114258, 0.038845062255859375, ...</td>\n",
       "    </tr>\n",
       "    <tr>\n",
       "      <th>sc.102_1_1_1</th>\n",
       "      <td>[-0.017364501953125, 0.00785064697265625, 0.04...</td>\n",
       "    </tr>\n",
       "    <tr>\n",
       "      <th>sc.33_1_1_1</th>\n",
       "      <td>[-0.01343536376953125, 0.028350830078125, 0.07...</td>\n",
       "    </tr>\n",
       "    <tr>\n",
       "      <th>sc.96_1_1_1</th>\n",
       "      <td>[-0.01727294921875, 0.0302276611328125, 0.0588...</td>\n",
       "    </tr>\n",
       "    <tr>\n",
       "      <th>sc.51_1_1_1</th>\n",
       "      <td>[-0.020247738936851764, 0.0345800991716056, 0....</td>\n",
       "    </tr>\n",
       "    <tr>\n",
       "      <th>sc.29_1_1_1</th>\n",
       "      <td>[-0.005164146423339844, 0.04126739501953125, 0...</td>\n",
       "    </tr>\n",
       "    <tr>\n",
       "      <th>sc.54_1_1_1</th>\n",
       "      <td>[-0.0250244140625, 0.035369873046875, 0.056640...</td>\n",
       "    </tr>\n",
       "    <tr>\n",
       "      <th>sc.3_1_1_1</th>\n",
       "      <td>[-0.017400105794270832, 0.045033772786458336, ...</td>\n",
       "    </tr>\n",
       "    <tr>\n",
       "      <th>sc.16_1_1_1</th>\n",
       "      <td>[-0.016021728515625, 0.037811279296875, 0.0547...</td>\n",
       "    </tr>\n",
       "    <tr>\n",
       "      <th>sc.12_1_1_1</th>\n",
       "      <td>[-0.005719502766927083, 0.036692301432291664, ...</td>\n",
       "    </tr>\n",
       "    <tr>\n",
       "      <th>sc.50_1_1_1</th>\n",
       "      <td>[-0.0205914248590884, 0.03304622484290082, 0.0...</td>\n",
       "    </tr>\n",
       "    <tr>\n",
       "      <th>sc.94_1_1_1</th>\n",
       "      <td>[-0.0230712890625, 0.034515380859375, 0.050567...</td>\n",
       "    </tr>\n",
       "    <tr>\n",
       "      <th>sc.40_1_1_1</th>\n",
       "      <td>[-0.031494140625, 0.051239013671875, 0.0537719...</td>\n",
       "    </tr>\n",
       "    <tr>\n",
       "      <th>sc.7_1_1_1</th>\n",
       "      <td>[-0.010612215314592634, 0.03355571201869419, 0...</td>\n",
       "    </tr>\n",
       "    <tr>\n",
       "      <th>sc.76_1_1_1</th>\n",
       "      <td>[-0.020654296875, 0.037274169921875, 0.0680236...</td>\n",
       "    </tr>\n",
       "    <tr>\n",
       "      <th>sc.20_1_1_1</th>\n",
       "      <td>[-0.015323638916015625, 0.03521728515625, 0.06...</td>\n",
       "    </tr>\n",
       "    <tr>\n",
       "      <th>sc.42_1_1_1</th>\n",
       "      <td>[-0.0313720703125, 0.023651123046875, 0.044555...</td>\n",
       "    </tr>\n",
       "    <tr>\n",
       "      <th>sc.30_1_1_1</th>\n",
       "      <td>[-0.0187225341796875, 0.041534423828125, 0.052...</td>\n",
       "    </tr>\n",
       "    <tr>\n",
       "      <th>sc.91_1_1_1</th>\n",
       "      <td>[-0.02616119384765625, 0.030109405517578125, 0...</td>\n",
       "    </tr>\n",
       "    <tr>\n",
       "      <th>sc.31_1_1_1</th>\n",
       "      <td>[-0.022694905598958332, 0.0276641845703125, 0....</td>\n",
       "    </tr>\n",
       "    <tr>\n",
       "      <th>sc.66_1_1_1</th>\n",
       "      <td>[-0.023469289143880207, 0.0347900390625, 0.059...</td>\n",
       "    </tr>\n",
       "    <tr>\n",
       "      <th>sc.36_1_1_1</th>\n",
       "      <td>[-0.024655659993489582, 0.0353546142578125, 0....</td>\n",
       "    </tr>\n",
       "    <tr>\n",
       "      <th>sc.39_1_1_1</th>\n",
       "      <td>[-0.02105712890625, 0.027984619140625, 0.04257...</td>\n",
       "    </tr>\n",
       "    <tr>\n",
       "      <th>sc.71_1_1_1</th>\n",
       "      <td>[-0.01528167724609375, 0.03533935546875, 0.062...</td>\n",
       "    </tr>\n",
       "    <tr>\n",
       "      <th>sc.32_1_1_1</th>\n",
       "      <td>[-0.022912979125976562, 0.025646209716796875, ...</td>\n",
       "    </tr>\n",
       "    <tr>\n",
       "      <th>sc.9_1_1_1</th>\n",
       "      <td>[-0.026764488220214842, 0.03731479644775391, 0...</td>\n",
       "    </tr>\n",
       "    <tr>\n",
       "      <th>sc.84_1_1_1</th>\n",
       "      <td>[-0.02484130859375, 0.03887939453125, 0.060943...</td>\n",
       "    </tr>\n",
       "    <tr>\n",
       "      <th>sc.47_1_1_1</th>\n",
       "      <td>[-0.015649159749348957, 0.044352213541666664, ...</td>\n",
       "    </tr>\n",
       "    <tr>\n",
       "      <th>sc.105_1_1_1</th>\n",
       "      <td>[-0.019561767578125, 0.0380859375, 0.058227539...</td>\n",
       "    </tr>\n",
       "  </tbody>\n",
       "</table>\n",
       "</div>"
      ],
      "text/plain": [
       "                                                      embedding\n",
       "sc.75_1_1_1   [-0.0276947021484375, 0.0301513671875, 0.05911...\n",
       "sc.92_1_1_1   [-0.015995388939267115, 0.037729899088541664, ...\n",
       "sc.26_1_1_1   [-0.0121002197265625, 0.050140380859375, 0.065...\n",
       "sc.79_1_1_1   [-0.0017709732055664062, 0.041717529296875, 0....\n",
       "sc.6_1_1_1    [-0.02432801988389757, 0.04086134168836805, 0....\n",
       "sc.2_1_1_1    [-0.021686553955078125, 0.03680864969889323, 0...\n",
       "sc.23_1_1_1   [-0.0061187744140625, 0.033905029296875, 0.052...\n",
       "sc.1_1_1_1    [-0.009454011917114258, 0.038845062255859375, ...\n",
       "sc.102_1_1_1  [-0.017364501953125, 0.00785064697265625, 0.04...\n",
       "sc.33_1_1_1   [-0.01343536376953125, 0.028350830078125, 0.07...\n",
       "sc.96_1_1_1   [-0.01727294921875, 0.0302276611328125, 0.0588...\n",
       "sc.51_1_1_1   [-0.020247738936851764, 0.0345800991716056, 0....\n",
       "sc.29_1_1_1   [-0.005164146423339844, 0.04126739501953125, 0...\n",
       "sc.54_1_1_1   [-0.0250244140625, 0.035369873046875, 0.056640...\n",
       "sc.3_1_1_1    [-0.017400105794270832, 0.045033772786458336, ...\n",
       "sc.16_1_1_1   [-0.016021728515625, 0.037811279296875, 0.0547...\n",
       "sc.12_1_1_1   [-0.005719502766927083, 0.036692301432291664, ...\n",
       "sc.50_1_1_1   [-0.0205914248590884, 0.03304622484290082, 0.0...\n",
       "sc.94_1_1_1   [-0.0230712890625, 0.034515380859375, 0.050567...\n",
       "sc.40_1_1_1   [-0.031494140625, 0.051239013671875, 0.0537719...\n",
       "sc.7_1_1_1    [-0.010612215314592634, 0.03355571201869419, 0...\n",
       "sc.76_1_1_1   [-0.020654296875, 0.037274169921875, 0.0680236...\n",
       "sc.20_1_1_1   [-0.015323638916015625, 0.03521728515625, 0.06...\n",
       "sc.42_1_1_1   [-0.0313720703125, 0.023651123046875, 0.044555...\n",
       "sc.30_1_1_1   [-0.0187225341796875, 0.041534423828125, 0.052...\n",
       "sc.91_1_1_1   [-0.02616119384765625, 0.030109405517578125, 0...\n",
       "sc.31_1_1_1   [-0.022694905598958332, 0.0276641845703125, 0....\n",
       "sc.66_1_1_1   [-0.023469289143880207, 0.0347900390625, 0.059...\n",
       "sc.36_1_1_1   [-0.024655659993489582, 0.0353546142578125, 0....\n",
       "sc.39_1_1_1   [-0.02105712890625, 0.027984619140625, 0.04257...\n",
       "sc.71_1_1_1   [-0.01528167724609375, 0.03533935546875, 0.062...\n",
       "sc.32_1_1_1   [-0.022912979125976562, 0.025646209716796875, ...\n",
       "sc.9_1_1_1    [-0.026764488220214842, 0.03731479644775391, 0...\n",
       "sc.84_1_1_1   [-0.02484130859375, 0.03887939453125, 0.060943...\n",
       "sc.47_1_1_1   [-0.015649159749348957, 0.044352213541666664, ...\n",
       "sc.105_1_1_1  [-0.019561767578125, 0.0380859375, 0.058227539..."
      ]
     },
     "execution_count": 47,
     "metadata": {},
     "output_type": "execute_result"
    }
   ],
   "source": [
    "df"
   ]
  },
  {
   "cell_type": "markdown",
   "id": "f038a8dd-6718-4638-b993-1cc52a163ed2",
   "metadata": {},
   "source": [
    "Next, we apply umap on the np.array version of the embeddings."
   ]
  },
  {
   "cell_type": "code",
   "execution_count": 48,
   "id": "6dcc72bb-cb30-4faf-8f3c-c991b6c508b7",
   "metadata": {},
   "outputs": [],
   "source": [
    "# First convert all lists to np.arrays, otherwise umap won't work\n",
    "embeddings_orig = df[\"embedding\"].to_numpy()\n",
    "embeddings_orig = [np.array(l) for l in embeddings_orig]"
   ]
  },
  {
   "cell_type": "code",
   "execution_count": 49,
   "id": "d9d285e0-b8f2-4025-81e3-4a31de892984",
   "metadata": {},
   "outputs": [],
   "source": [
    "umap_reducer = umap.UMAP(n_neighbors=2, \n",
    "                         min_dist=0.1, \n",
    "                         n_components=2,\n",
    "                         #metric=\"cosine\",\n",
    "                         random_state=42)"
   ]
  },
  {
   "cell_type": "code",
   "execution_count": 50,
   "id": "9d2c6b40-b18c-46e8-8b3d-9faff904add3",
   "metadata": {},
   "outputs": [
    {
     "name": "stderr",
     "output_type": "stream",
     "text": [
      "/home/tommy/environments/a01/lib/python3.12/site-packages/sklearn/utils/deprecation.py:151: FutureWarning: 'force_all_finite' was renamed to 'ensure_all_finite' in 1.6 and will be removed in 1.8.\n",
      "  warnings.warn(\n",
      "/home/tommy/environments/a01/lib/python3.12/site-packages/umap/umap_.py:1952: UserWarning: n_jobs value 1 overridden to 1 by setting random_state. Use no seed for parallelism.\n",
      "  warn(\n"
     ]
    }
   ],
   "source": [
    "embeddings_reduced = umap_reducer.fit_transform(embeddings_orig)"
   ]
  },
  {
   "cell_type": "markdown",
   "id": "6272b7a9-4ef7-40f8-938b-eb6818fb725d",
   "metadata": {},
   "source": [
    "Next, we are using HDBSCAN to cluster the data."
   ]
  },
  {
   "cell_type": "code",
   "execution_count": 51,
   "id": "7a094b4b-6121-48d7-a82e-408f5d61c978",
   "metadata": {},
   "outputs": [],
   "source": [
    "hdbscan_clusterer = HDBSCAN(min_cluster_size=3, \n",
    "                           min_samples=5,\n",
    "                           cluster_selection_epsilon=0.5)\n",
    "\n",
    "cluster_labels = hdbscan_clusterer.fit_predict(embeddings_reduced)"
   ]
  },
  {
   "cell_type": "markdown",
   "id": "3964df45-4f4f-458a-a298-5f5735ab5b18",
   "metadata": {},
   "source": [
    "Plotting the results."
   ]
  },
  {
   "cell_type": "code",
   "execution_count": 52,
   "id": "d1be1f4f-7254-446b-8e84-0624c705ca12",
   "metadata": {},
   "outputs": [
    {
     "data": {
      "text/plain": [
       "Text(0.5, 1.0, 'HDBSCAN clustering of all subchapters')"
      ]
     },
     "execution_count": 52,
     "metadata": {},
     "output_type": "execute_result"
    },
    {
     "data": {
      "image/png": "[encoded data removed]",
      "text/plain": [
       "<Figure size 1000x800 with 1 Axes>"
      ]
     },
     "metadata": {},
     "output_type": "display_data"
    }
   ],
   "source": [
    "# Plot reduced datapoints\n",
    "plt.figure(figsize=(10, 8))\n",
    "\n",
    "# Create scatter plot\n",
    "scatter = plt.scatter(embeddings_reduced[:, 0], \n",
    "            embeddings_reduced[:, 1], \n",
    "            c=cluster_labels, \n",
    "            cmap='rainbow', \n",
    "            s=10, \n",
    "            alpha=0.7)\n",
    "\n",
    "# Add a legend for the clusters\n",
    "legend1 = plt.legend(*scatter.legend_elements(),\n",
    "                    title=\"Clusters\")\n",
    "plt.gca().add_artist(legend1)\n",
    "\n",
    "# Title\n",
    "plt.title(\"HDBSCAN clustering of all subchapters\")\n",
    "\n",
    "# Saving plot\n",
    "#plt.savefig(\"images/hdbscan_all.jpg\")"
   ]
  },
  {
   "cell_type": "markdown",
   "id": "42494987-a7e0-478a-8b01-19307a0b503a",
   "metadata": {},
   "source": [
    "## Retrieving texts of subchapters in each cluster"
   ]
  },
  {
   "cell_type": "code",
   "execution_count": 53,
   "id": "79994ad0-37e0-401e-9ad3-3e4e0c31683c",
   "metadata": {},
   "outputs": [],
   "source": [
    "def download_subchapter_file(subchapter_id: str, filename: Optional[str] = None):\n",
    "    # Build API path from sc_id\n",
    "    # Example: http://localhost:8080/api/download/tafsir/3/c.3_2/sc.3_2_77_77\n",
    "    url = \"http://localhost:8080/api/download/tafsir/\"\n",
    "    sc_list = subchapter_id.split(\"_\")\n",
    "    tafsir_id = sc_list[0].split(\".\")[1]\n",
    "    url += tafsir_id + \"/\"\n",
    "    chapter_id = \"c.\" + tafsir_id + \"_\" + sc_list[1]\n",
    "    url += chapter_id + \"/\" + subchapter_id\n",
    "    # DEBUG\n",
    "    print(url)\n",
    "    # Anfrage an die URL senden\n",
    "    response = requests.get(url)\n",
    "    \n",
    "    # Überprüfen, ob die Anfrage erfolgreich war\n",
    "    response.raise_for_status()\n",
    "    \n",
    "    # Datei speichern\n",
    "    with open(filename, 'wb') as file:\n",
    "        file.write(response.content)\n",
    "    \n",
    "    return filename"
   ]
  },
  {
   "cell_type": "code",
   "execution_count": 54,
   "id": "c1a40ccf-48b7-4e3d-86fb-cc1efb373c83",
   "metadata": {},
   "outputs": [],
   "source": [
    "def download_cluster_subchapters(subchapter_list: list[str], path: str):\n",
    "        if not os.path.exists(path):\n",
    "            os.makedirs(path)\n",
    "            print(f\"Directory created: {path}\")\n",
    "        else:\n",
    "            print(f\"Directory already exists: {path}\")\n",
    "        for sc in subchapter_list:\n",
    "            download_subchapter_file(sc, f\"{path}/{sc}.txt\")"
   ]
  },
  {
   "cell_type": "code",
   "execution_count": 55,
   "id": "be29fd0a-2f11-4138-9119-7dbc2cc0009e",
   "metadata": {},
   "outputs": [],
   "source": [
    "#download_cluster_subchapters(df[cluster_labels==1].index.tolist(), \"clustering/sc1-7/1\")"
   ]
  },
  {
   "cell_type": "markdown",
   "id": "a3b41c27-77e9-463a-9b5f-b4bde23f57e6",
   "metadata": {},
   "source": [
    "## Retrieving metadata for each subchapter in cluster"
   ]
  },
  {
   "cell_type": "code",
   "execution_count": 69,
   "id": "0fb2d516-6303-4fa5-a2da-e39340750190",
   "metadata": {},
   "outputs": [],
   "source": [
    "def get_subchapter_metadata(sc_id: str) -> (dict, str):\n",
    "    # Get tafsir id from sc id\n",
    "    # This is needed since the API only delivers metadata for tafsirs, not subchapters\n",
    "    # sc ids should look like this: sc.1_2_1_7 where the tafsir id is the 1 in sc.1\n",
    "    try:\n",
    "        tafsir_id = sc_id.split(\"_\")[0].split(\".\")[1].strip()\n",
    "    except:\n",
    "        return dict(), f\"Could not parse tafsir id from sc id {sc_id}\"\n",
    "    if tafsir_id == \"\":\n",
    "        return dict(), f\"Could not parse tafsir id from sc id {sc_id}\"\n",
    "    res = requests.get(f\"http://localhost:8080/api/metadata/overview/{tafsir_id}\")\n",
    "    try:\n",
    "        res.raise_for_status()\n",
    "    except:\n",
    "        return dict(), f\"Could not retrieve data via API for tafsir id {tafsir_id}\"\n",
    "    return res.json(), \"\""
   ]
  },
  {
   "cell_type": "code",
   "execution_count": 85,
   "id": "3290962f-cb9b-4680-8748-0a70378611c0",
   "metadata": {},
   "outputs": [],
   "source": [
    "data = dict()\n",
    "for idx, sc in enumerate(df[cluster_labels==3].index.tolist()):\n",
    "    json_res, err = get_subchapter_metadata(sc)\n",
    "    data[idx] = json_res"
   ]
  },
  {
   "cell_type": "code",
   "execution_count": 86,
   "id": "3f719a6b-1742-4d2d-97d3-3a97aabdb3d7",
   "metadata": {},
   "outputs": [],
   "source": [
    "#data"
   ]
  },
  {
   "cell_type": "code",
   "execution_count": 87,
   "id": "8704ffe0-ca94-40c2-af5e-f5196a1a43d5",
   "metadata": {},
   "outputs": [],
   "source": [
    "df_metadata = pd.DataFrame.from_dict(data, orient=\"index\")"
   ]
  },
  {
   "cell_type": "code",
   "execution_count": 94,
   "id": "cd71a76d-a41b-497e-b71a-3901b01ad2a9",
   "metadata": {},
   "outputs": [],
   "source": [
    "df_metadata = df_metadata.map(lambda x: \"; \".join(x) if type(x) == list else x)"
   ]
  },
  {
   "cell_type": "code",
   "execution_count": 95,
   "id": "d1ffd1b5-aad1-4e7e-8bcd-908f56985bf0",
   "metadata": {},
   "outputs": [],
   "source": [
    "df_metadata.to_csv(\"tables/cluster_3_1-1.csv\")"
   ]
  },
  {
   "cell_type": "code",
   "execution_count": null,
   "id": "04a9388d-869e-410c-8556-e6b8504bb326",
   "metadata": {},
   "outputs": [],
   "source": []
  }
 ],
 "metadata": {
  "kernelspec": {
   "display_name": "Python 3 (ipykernel)",
   "language": "python",
   "name": "python3"
  },
  "language_info": {
   "codemirror_mode": {
    "name": "ipython",
    "version": 3
   },
   "file_extension": ".py",
   "mimetype": "text/x-python",
   "name": "python",
   "nbconvert_exporter": "python",
   "pygments_lexer": "ipython3",
   "version": "3.12.3"
  }
 },
 "nbformat": 4,
 "nbformat_minor": 5
}
