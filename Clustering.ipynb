{
 "cells": [
  {
   "cell_type": "markdown",
   "id": "4809d7b8-8ddc-4846-b490-7ac281126a87",
   "metadata": {},
   "source": [
    "# Clustering Early Meccan Suras discussing *sirat*\n",
    "Version: 17.03.2025  \n",
    "by: Thomas Jurczyk  "
   ]
  },
  {
   "cell_type": "markdown",
   "id": "37002aec-0238-44bc-ba53-697ae0a32392",
   "metadata": {},
   "source": [
    "This notebook includes:\n",
    "\n",
    "1. An overview and exploratory data analysis of the subchapter data that should be clustered.\n",
    "2. The retrieval of document embeddings for each subchapter.\n",
    "3. Clustering of the documents using the retrieved embeddings."
   ]
  },
  {
   "cell_type": "code",
   "execution_count": 1,
   "id": "111f8e73-519e-4282-a90d-cd96c5f166a7",
   "metadata": {},
   "outputs": [
    {
     "name": "stderr",
     "output_type": "stream",
     "text": [
      "/home/tommy/environments/a01/lib/python3.12/site-packages/tqdm/auto.py:21: TqdmWarning: IProgress not found. Please update jupyter and ipywidgets. See https://ipywidgets.readthedocs.io/en/stable/user_install.html\n",
      "  from .autonotebook import tqdm as notebook_tqdm\n"
     ]
    }
   ],
   "source": [
    "# imports\n",
    "import os\n",
    "import pickle \n",
    "import matplotlib.pyplot as plt\n",
    "import re\n",
    "import pandas as pd\n",
    "from mistralai import Mistral\n",
    "from dotenv import load_dotenv\n",
    "import psycopg2\n",
    "from psycopg2 import sql\n",
    "import numpy as np\n",
    "import umap\n",
    "from sklearn.manifold import trustworthiness\n",
    "from sklearn.cluster import HDBSCAN\n",
    "from typing import Optional\n",
    "import requests\n",
    "\n",
    "# Apply a style\n",
    "plt.style.use('ggplot')\n",
    "\n",
    "# Loading all env variables from .env\n",
    "load_dotenv()\n",
    "\n",
    "MISTRAL_API_KEY = os.getenv(\"MISTRAL_API_KEY\")\n",
    "\n",
    "# Loading params for DB connection to local PostgreSQL\n",
    "\n",
    "db_params = {\n",
    "    \"host\": \"localhost\",\n",
    "    \"port\": \"5432\",\n",
    "    \"database\": os.getenv(\"DB_NAME\"),\n",
    "    \"user\": os.getenv(\"DB_USERNAME\"),\n",
    "    \"password\": os.getenv(\"DB_PASSWORD\")\n",
    "}"
   ]
  },
  {
   "cell_type": "code",
   "execution_count": 105,
   "id": "eaf32a75-88dc-4c7b-9818-55ee4a262c0b",
   "metadata": {},
   "outputs": [
    {
     "name": "stdout",
     "output_type": "stream",
     "text": [
      "BWGnHi3Przod94zlqvohsJRPJb9nn2NQ\n"
     ]
    }
   ],
   "source": [
    "print(MISTRAL_API_KEY)"
   ]
  },
  {
   "cell_type": "markdown",
   "id": "3fac4d90-9d0d-417c-b6e0-1714a0f6298c",
   "metadata": {
    "jp-MarkdownHeadingCollapsed": true
   },
   "source": [
    "## Data\n",
    "The data consists of subchapters from the A01 tafsir corpus that include a discussion of early Meccan verses that mention *sirat*. The data was downloaded using the web application and is stored in the subfolder `data`."
   ]
  },
  {
   "cell_type": "markdown",
   "id": "32fa5510-3c9a-46ef-a4e3-c72e0f58d370",
   "metadata": {
    "jp-MarkdownHeadingCollapsed": true
   },
   "source": [
    "### Tokens per subchapter\n",
    "First, we count the number of tokens in each subchapter and compare the results with each other. A token is simply defined by at least one blank space separating the tokens. The tokens are not cleaned of non-Arabic characters and still include punctuation marks as well (these might in some cases count as separate tokens as well due to the way the data was collected and reconstructed)."
   ]
  },
  {
   "cell_type": "code",
   "execution_count": null,
   "id": "94202eb9-85f2-462e-85af-ce0de6954225",
   "metadata": {},
   "outputs": [],
   "source": [
    "token_counter = dict()\n",
    "token_counter_per_verse = dict()\n",
    "for directory in os.listdir(\"data\"):\n",
    "    if os.path.isdir(\"data/\"+directory) and not directory.startswith(\".\"):\n",
    "        file_counter = 0\n",
    "        token_counter_per_verse[directory] = 0\n",
    "        #print(\"data/\"+directory)\n",
    "        for filename in os.listdir(\"data/\"+directory):\n",
    "            #print(filename)\n",
    "            # Create separate dict for tokens/verse distribution\n",
    "            if os.path.isfile(f\"data/{directory}/{filename}\"):\n",
    "                file_counter += 1\n",
    "                with open(f\"data/{directory}/{filename}\", \"r\", encoding=\"utf-8\") as f:\n",
    "                    text = f.read()\n",
    "                    tokens = re.split(r\"\\s+\", text)\n",
    "                    token_counter[filename[:-4]] = len(tokens)\n",
    "                    # Increment tokens/verse counter\n",
    "                    token_counter_per_verse[directory] += len(tokens)\n",
    "        # Calculate average for token/verse\n",
    "        token_counter_per_verse[directory] = token_counter_per_verse[directory] / file_counter"
   ]
  },
  {
   "cell_type": "code",
   "execution_count": null,
   "id": "f481d537-520f-4685-9902-36760ffcb828",
   "metadata": {},
   "outputs": [],
   "source": [
    "df = pd.DataFrame.from_dict(token_counter, orient=\"index\").reset_index()"
   ]
  },
  {
   "cell_type": "code",
   "execution_count": null,
   "id": "7338cb9c-efb7-4627-aee9-399507fe77af",
   "metadata": {},
   "outputs": [],
   "source": [
    "df.columns = [\"id\", \"token_count\"]"
   ]
  },
  {
   "cell_type": "code",
   "execution_count": null,
   "id": "baa6e187-b31d-4944-85db-bc9b99a0ab88",
   "metadata": {},
   "outputs": [],
   "source": [
    "df.head()"
   ]
  },
  {
   "cell_type": "code",
   "execution_count": null,
   "id": "c1599ea2-b7a4-42b4-b66c-f5eaa843ee4d",
   "metadata": {},
   "outputs": [],
   "source": [
    "df.describe()"
   ]
  },
  {
   "cell_type": "code",
   "execution_count": null,
   "id": "2987aa45-f0e6-4e3f-aad8-c49662040dff",
   "metadata": {},
   "outputs": [],
   "source": [
    "df[\"token_count\"].plot(kind=\"box\", title=\"Token distribution in subchapters\", color=\"skyblue\")\n",
    "\n",
    "plt.savefig(\"images/boxplot.jpg\")"
   ]
  },
  {
   "cell_type": "code",
   "execution_count": null,
   "id": "d89edbe5-1a47-4c77-ad75-e1910bb66cdd",
   "metadata": {},
   "outputs": [],
   "source": [
    "# show outliers and exclude (Sirazi)\n",
    "df_no_sirazi = df.sort_values(\"token_count\").iloc[:-1]"
   ]
  },
  {
   "cell_type": "code",
   "execution_count": null,
   "id": "f20fad97-1625-4d9c-a6c1-ff105c9e6127",
   "metadata": {},
   "outputs": [],
   "source": [
    "df_no_sirazi.describe()"
   ]
  },
  {
   "cell_type": "code",
   "execution_count": null,
   "id": "db02cb75-cdb1-4d58-a6dc-fdfa60649db8",
   "metadata": {},
   "outputs": [],
   "source": [
    "df_no_sirazi[\"token_count\"].plot(kind=\"box\", title=\"Token distribution in subchapters (without Sirazi)\", color=\"skyblue\")\n",
    "\n",
    "plt.savefig(\"images/boxplot_no_sirazi.jpg\")"
   ]
  },
  {
   "cell_type": "markdown",
   "id": "5064c70d-0c0a-411d-be4e-128123668277",
   "metadata": {
    "jp-MarkdownHeadingCollapsed": true
   },
   "source": [
    "### Token distribution per verse"
   ]
  },
  {
   "cell_type": "code",
   "execution_count": null,
   "id": "076d0ac7-5ad3-4b95-8d51-39daa947bda3",
   "metadata": {},
   "outputs": [],
   "source": [
    "df = pd.DataFrame.from_dict(token_counter_per_verse, orient=\"index\").reset_index()"
   ]
  },
  {
   "cell_type": "code",
   "execution_count": null,
   "id": "effaf39d-4ca3-4c06-9285-0d11d92a453e",
   "metadata": {},
   "outputs": [],
   "source": [
    "df.columns = [\"sura_aya\", \"count\"]"
   ]
  },
  {
   "cell_type": "code",
   "execution_count": null,
   "id": "9b86f9c7-b969-4597-9066-0f1f30bb6875",
   "metadata": {},
   "outputs": [],
   "source": [
    "df"
   ]
  },
  {
   "cell_type": "code",
   "execution_count": null,
   "id": "072c6d28-aa59-4fe6-b36a-aa364798eefd",
   "metadata": {},
   "outputs": [],
   "source": [
    "df.sort_values(\"count\")"
   ]
  },
  {
   "cell_type": "code",
   "execution_count": null,
   "id": "f4c363b9-0e00-4e78-a747-bdb55d24ece4",
   "metadata": {},
   "outputs": [],
   "source": [
    "ax = df.sort_values(\"count\", ascending=False).plot(kind=\"bar\", x=\"sura_aya\", title=\"Avg. token/subchapter distribution for each verse\", color=\"skyblue\")\n",
    "# Display count on top of each bar\n",
    "for bar in ax.patches:\n",
    "    yval = bar.get_height()\n",
    "    plt.text(bar.get_x() + bar.get_width()/2, yval + 0.5, round(yval, 2), ha='center', va='bottom')\n",
    "\n",
    "plt.ylim(0,6500)\n",
    "plt.ylabel(\"avg. tokens\")\n",
    "\n",
    "plt.tight_layout()\n",
    "\n",
    "plt.savefig(\"images/token_verse_distribution.jpg\")"
   ]
  },
  {
   "cell_type": "code",
   "execution_count": null,
   "id": "e69510e7-ef01-4090-a912-f79b9c258d61",
   "metadata": {},
   "outputs": [],
   "source": []
  },
  {
   "cell_type": "markdown",
   "id": "5d7a1e39-46cd-42d0-a4ce-91aa88f4408e",
   "metadata": {},
   "source": [
    "## Embeddings\n",
    "In a first step, we are acquiring the embeddings using Mistral's `mistral-embed` model."
   ]
  },
  {
   "cell_type": "markdown",
   "id": "e366b496-e40a-4621-8e57-f975aa351f68",
   "metadata": {},
   "source": [
    "### Full Subchapter Embeddings"
   ]
  },
  {
   "cell_type": "markdown",
   "id": "9114fa7d-d364-414f-9549-cfa45d27ddea",
   "metadata": {},
   "source": [
    "We are creating three lists for the text ids, texts, and the embeddings. Some subchapters appear multiple times in the dataset, so the duplicates need to be skipped."
   ]
  },
  {
   "cell_type": "code",
   "execution_count": null,
   "id": "28f6f168-78ab-4efd-8436-a80f4c74abf6",
   "metadata": {},
   "outputs": [],
   "source": [
    "sc_id_list = []\n",
    "sc_text_list = []\n",
    "sc_embeddings_list = []"
   ]
  },
  {
   "cell_type": "code",
   "execution_count": null,
   "id": "6d8a1817-6acb-4b13-a5e6-300d92d5f5c2",
   "metadata": {},
   "outputs": [],
   "source": [
    "for directory in os.listdir(\"data\"):\n",
    "    if os.path.isdir(\"data/\"+directory) and not directory.startswith(\".\"):\n",
    "        #print(\"data/\"+directory)\n",
    "        for filename in os.listdir(\"data/\"+directory):\n",
    "            # Create separate dict for tokens/verse distribution\n",
    "            if os.path.isfile(f\"data/{directory}/{filename}\"):\n",
    "                if filename[:-4] not in sc_id_list:\n",
    "                    file_counter += 1\n",
    "                    with open(f\"data/{directory}/{filename}\", \"r\", encoding=\"utf-8\") as f:\n",
    "                        text = f.read()\n",
    "                        sc_id_list.append(filename[:-4])\n",
    "                        sc_text_list.append(text)"
   ]
  },
  {
   "cell_type": "code",
   "execution_count": null,
   "id": "c9c63ea4-bcaf-4378-afe4-c87c62b29425",
   "metadata": {},
   "outputs": [],
   "source": [
    "sc_id_list[:3]"
   ]
  },
  {
   "cell_type": "markdown",
   "id": "b1523197-e186-4fd5-bbcc-a4cb24630e1c",
   "metadata": {},
   "source": [
    "Now, we are retrieving the embeddings for each text and store them in the respective list.  \n",
    "**Important**: The embeddings are afterwards stored in a database and locally on the computer. Therefore, this step only needs to be executed when something has changed."
   ]
  },
  {
   "cell_type": "code",
   "execution_count": null,
   "id": "7fdeaca1-4ee3-4bc6-8aae-7b9d40ea24e4",
   "metadata": {},
   "outputs": [],
   "source": [
    "import time\n",
    "\n",
    "model = \"mistral-embed\"\n",
    "execute = False\n",
    "client = Mistral(api_key=MISTRAL_API_KEY)\n",
    "\n",
    "# The max token per batch is 16384 or sometimes even lower for some reason (?)\n",
    "# We split longer texts into chunks\n",
    "# Using a sliding window approach with an overlap of 50 tokens\n",
    "# We also need to use time.sleep() to avoid exceeding rate limits with 6 requests per sec\n",
    "if execute:\n",
    "    for idx, text in enumerate(sc_text_list):\n",
    "        #print(f\"{idx}. {sc_id_list[idx]}\")\n",
    "        tokens = re.split(r\"\\s+\", text)\n",
    "        if len(tokens) > 1000:\n",
    "            #print(f\"Text {sc_id_list[idx]} is too long: {len(tokens)}\") \n",
    "            tmp_embeddings = list()\n",
    "            # Splitting the text into chunks\n",
    "            window_size = 500\n",
    "            stride = 450 # Overlap of 50 tokens\n",
    "            for start_idx in range(0,len(tokens), stride):\n",
    "                end_idx = min(start_idx + window_size, len(tokens))\n",
    "                tmp_text = \" \".join(tokens[start_idx:end_idx])\n",
    "                res = client.embeddings.create(model=model, inputs=[tmp_text])\n",
    "                tmp_embeddings.append(res.data[0].embedding)\n",
    "                time.sleep(0.1)\n",
    "            # Calculate mean from all chunk embeddings\n",
    "            sc_embeddings_list.append(np.mean(tmp_embeddings, axis=0).tolist())\n",
    "        else:\n",
    "            res = client.embeddings.create(model=model, inputs=[text])\n",
    "            sc_embeddings_list.append(res.data[0].embedding)\n",
    "            time.sleep(0.1)"
   ]
  },
  {
   "cell_type": "code",
   "execution_count": null,
   "id": "2524aad4-19e5-4a39-873a-8e402bddba2a",
   "metadata": {},
   "outputs": [],
   "source": [
    "# Saving embeddings locally\n",
    "\n",
    "with open(\"mistral_embeddings_full.pkl\", \"wb\") as f:\n",
    "    pickle.dump(sc_embeddings_list, f)"
   ]
  },
  {
   "cell_type": "code",
   "execution_count": null,
   "id": "6984f2a7-3c15-46ee-bca1-a857720b7109",
   "metadata": {},
   "outputs": [],
   "source": [
    "# Reload embeddings\n",
    "with open(\"mistral_embeddings_full.pkl\", \"rb\") as f:\n",
    "    loaded_embeddings = pickle.load(f)"
   ]
  },
  {
   "cell_type": "code",
   "execution_count": null,
   "id": "2042ac35-1293-4fe1-9dc8-3121dcef950d",
   "metadata": {},
   "outputs": [],
   "source": [
    "# Connecting to PostgreSQL and storing embeddings in table"
   ]
  },
  {
   "cell_type": "code",
   "execution_count": null,
   "id": "55fbe8d7-8023-466f-808f-509c7173cf66",
   "metadata": {},
   "outputs": [],
   "source": [
    "try:\n",
    "    conn = psycopg2.connect(**db_params)\n",
    "    cursor = conn.cursor()\n",
    "    print(\"Connection to DB was successful!!\")\n",
    "\n",
    "    for idx, value in enumerate(loaded_embeddings):\n",
    "        cursor.execute(\"\"\"\n",
    "            INSERT INTO embedding.sc_mistral_fulltext (subchapter_id, embedding) \n",
    "            VALUES (%s, %s)\n",
    "        \"\"\", (sc_id_list[idx], value))\n",
    "    \n",
    "        # Änderungen bestätigen\n",
    "        conn.commit()\n",
    "    print(\"Data was added!\")\n",
    "\n",
    "except Exception as e:\n",
    "    print(f\"Error: {e}\")\n",
    "    if conn:\n",
    "        conn.rollback()\n",
    "finally:\n",
    "    # Close connection\n",
    "    if cursor:\n",
    "        cursor.close()\n",
    "    if conn:\n",
    "        conn.close()\n",
    "    print(\"DB connection closed.\")"
   ]
  },
  {
   "cell_type": "markdown",
   "id": "c9d57016-fb97-4d77-acc9-1b4893ecae40",
   "metadata": {},
   "source": [
    "### Test embeddings for Arabic texts: MSA\n",
    "We will try and cluster simple Arabic texts to see if this even works."
   ]
  },
  {
   "cell_type": "code",
   "execution_count": null,
   "id": "33d5e3b1-51bc-44b7-a175-488306ff59d1",
   "metadata": {},
   "outputs": [],
   "source": [
    "# Loading test data\n",
    "df_test = pd.read_csv(\"arabic-test-data.csv\")"
   ]
  },
  {
   "cell_type": "code",
   "execution_count": null,
   "id": "fa401abf-b8b0-45a7-a3b9-2c85f523b58f",
   "metadata": {},
   "outputs": [],
   "source": [
    "df_test.head()"
   ]
  },
  {
   "cell_type": "code",
   "execution_count": null,
   "id": "3865d838-9191-4bce-a8f0-f20ba3132bf4",
   "metadata": {},
   "outputs": [],
   "source": [
    "text_list = df_test[\"arabic_text\"].tolist()"
   ]
  },
  {
   "cell_type": "code",
   "execution_count": null,
   "id": "5687a11c-52fa-4243-a201-c943ef9efe5b",
   "metadata": {},
   "outputs": [],
   "source": [
    "text_list"
   ]
  },
  {
   "cell_type": "code",
   "execution_count": null,
   "id": "ee937675-78cc-4816-971a-7df3ad484516",
   "metadata": {},
   "outputs": [],
   "source": [
    "# Get embeddings\n",
    "model = \"mistral-embed\"\n",
    "\n",
    "client = Mistral(api_key=MISTRAL_API_KEY)\n",
    "\n",
    "embeddings_batch_response = client.embeddings.create(\n",
    "    model=model,\n",
    "    inputs=text_list,\n",
    ")"
   ]
  },
  {
   "cell_type": "code",
   "execution_count": null,
   "id": "2fc0237f-0ab2-4ab0-9594-cd655919800f",
   "metadata": {},
   "outputs": [],
   "source": [
    "embeddings_test = [entry.embedding for entry in embeddings_batch_response.data]"
   ]
  },
  {
   "cell_type": "code",
   "execution_count": null,
   "id": "0b832545-aa21-4525-b6c6-1a606e309d75",
   "metadata": {},
   "outputs": [],
   "source": [
    "embeddings_test[0][:10]"
   ]
  },
  {
   "cell_type": "code",
   "execution_count": null,
   "id": "88c4c39f-24dd-40ad-a4f3-7c8c35a57626",
   "metadata": {},
   "outputs": [],
   "source": [
    "# Add embeddings to database\n",
    "db_test_params = {\n",
    "    \"host\": \"localhost\",\n",
    "    \"port\": \"5432\",\n",
    "    \"database\": os.getenv(\"DB_NAME\"),\n",
    "    \"user\": os.getenv(\"DB_USERNAME\"),\n",
    "    \"password\": os.getenv(\"DB_PASSWORD\")\n",
    "}\n",
    "\n",
    "try:\n",
    "    conn = psycopg2.connect(**db_test_params)\n",
    "    cursor = conn.cursor()\n",
    "    print(\"Connection to DB was successful!!\")\n",
    "\n",
    "    for idx, row in df_test.iterrows():\n",
    "        cursor.execute(\"\"\"\n",
    "            INSERT INTO embedding.test_embeddings (id, embedding, category, translation) \n",
    "            VALUES (%s, %s, %s, %s)\n",
    "        \"\"\", (idx, embeddings_test[idx], row[\"category\"], row[\"translation\"]))\n",
    "    \n",
    "        # Änderungen bestätigen\n",
    "        conn.commit()\n",
    "    print(\"Data was added!\")\n",
    "\n",
    "except Exception as e:\n",
    "    print(f\"Error: {e}\")\n",
    "    if conn:\n",
    "        conn.rollback()\n",
    "finally:\n",
    "    # Close connection\n",
    "    if cursor:\n",
    "        cursor.close()\n",
    "    if conn:\n",
    "        conn.close()\n",
    "    print(\"DB connection closed.\")"
   ]
  },
  {
   "cell_type": "markdown",
   "id": "5cac5de2-9f64-4e0e-bc2c-b80d3d098f46",
   "metadata": {
    "jp-MarkdownHeadingCollapsed": true
   },
   "source": [
    "### Test embeddings for Arabic texts: Classical Arabic\n",
    "We will try and cluster classical Arabic texts to see if this even works."
   ]
  },
  {
   "cell_type": "code",
   "execution_count": null,
   "id": "ccc68364-5c50-4ce1-b694-d4b5d2121b75",
   "metadata": {},
   "outputs": [],
   "source": [
    "# Loading test data\n",
    "df_test = pd.read_csv(\"classical-arabic-testdata.csv\")"
   ]
  },
  {
   "cell_type": "code",
   "execution_count": null,
   "id": "83d49999-5c93-4d57-8d9a-ade7f9373731",
   "metadata": {},
   "outputs": [],
   "source": [
    "df_test.head()"
   ]
  },
  {
   "cell_type": "code",
   "execution_count": null,
   "id": "a35cd761-7806-42fc-934d-23e8525dd115",
   "metadata": {},
   "outputs": [],
   "source": [
    "text_list = df_test[\"Arabic_Text\"].tolist()"
   ]
  },
  {
   "cell_type": "code",
   "execution_count": null,
   "id": "7f158b2e-51de-4e81-ba6f-6a735ab17a22",
   "metadata": {},
   "outputs": [],
   "source": [
    "text_list[:3]"
   ]
  },
  {
   "cell_type": "code",
   "execution_count": null,
   "id": "1fd1a592-8698-4750-8f2d-9a6edcb92865",
   "metadata": {},
   "outputs": [],
   "source": [
    "# Get embeddings\n",
    "model = \"mistral-embed\"\n",
    "\n",
    "client = Mistral(api_key=MISTRAL_API_KEY)\n",
    "\n",
    "embeddings_batch_response = client.embeddings.create(\n",
    "    model=model,\n",
    "    inputs=text_list,\n",
    ")"
   ]
  },
  {
   "cell_type": "code",
   "execution_count": null,
   "id": "59c03afc-12d9-4d2e-bf50-246db7255216",
   "metadata": {},
   "outputs": [],
   "source": [
    "embeddings_test = [entry.embedding for entry in embeddings_batch_response.data]"
   ]
  },
  {
   "cell_type": "code",
   "execution_count": null,
   "id": "140dba62-da08-4aa9-be8c-a75826f40e85",
   "metadata": {},
   "outputs": [],
   "source": [
    "# Add embeddings to database\n",
    "db_test_params = {\n",
    "    \"host\": \"localhost\",\n",
    "    \"port\": \"5432\",\n",
    "    \"database\": os.getenv(\"DB_NAME\"),\n",
    "    \"user\": os.getenv(\"DB_USERNAME\"),\n",
    "    \"password\": os.getenv(\"DB_PASSWORD\")\n",
    "}\n",
    "\n",
    "try:\n",
    "    conn = psycopg2.connect(**db_test_params)\n",
    "    cursor = conn.cursor()\n",
    "    print(\"Connection to DB was successful!!\")\n",
    "\n",
    "    for idx, row in df_test.iterrows():\n",
    "        cursor.execute(\"\"\"\n",
    "            INSERT INTO embedding.test_embeddings_classical (id, embedding, category, translation) \n",
    "            VALUES (%s, %s, %s, %s)\n",
    "        \"\"\", (idx, embeddings_test[idx], row[\"Category\"], row[\"English_Translation\"]))\n",
    "    \n",
    "        # Änderungen bestätigen\n",
    "        conn.commit()\n",
    "    print(\"Data was added!\")\n",
    "\n",
    "except Exception as e:\n",
    "    print(f\"Error: {e}\")\n",
    "    if conn:\n",
    "        conn.rollback()\n",
    "finally:\n",
    "    # Close connection\n",
    "    if cursor:\n",
    "        cursor.close()\n",
    "    if conn:\n",
    "        conn.close()\n",
    "    print(\"DB connection closed.\")"
   ]
  },
  {
   "cell_type": "markdown",
   "id": "447edddc-019c-41b2-9705-1e24a1d6163d",
   "metadata": {},
   "source": [
    "## Dimensionality Reduction & Clustering\n",
    "For easier plotting and comparison, we reduce the 1024 features from Mistral's embeddings to 2 features. We will be using umap for the dimensionality reduction."
   ]
  },
  {
   "cell_type": "markdown",
   "id": "f1e1cc99-6c5a-484e-8b3f-eae29b889928",
   "metadata": {},
   "source": [
    "First, we load the stored Mistral AI embeddings and the subchapter corpus."
   ]
  },
  {
   "cell_type": "code",
   "execution_count": 2,
   "id": "1691f252-bad4-4d37-a383-75c5a0e1a526",
   "metadata": {},
   "outputs": [],
   "source": [
    "# Load embeddings\n",
    "loaded_embeddings = []\n",
    "with open(\"mistral_embeddings_full.pkl\", \"rb\") as f:\n",
    "    loaded_embeddings = pickle.load(f)"
   ]
  },
  {
   "cell_type": "code",
   "execution_count": 3,
   "id": "3a0e1ea4-d4d8-4c18-95fe-2b27ef1916bb",
   "metadata": {},
   "outputs": [],
   "source": [
    "# Loading texts and ids from drive\n",
    "sc_dict = dict()\n",
    "idx = 0\n",
    "for directory in os.listdir(\"data\"):\n",
    "    if os.path.isdir(\"data/\"+directory) and not directory.startswith(\".\"):\n",
    "        #print(\"data/\"+directory)\n",
    "        for filename in os.listdir(\"data/\"+directory):\n",
    "            # Create separate dict for tokens/verse distribution\n",
    "            if os.path.isfile(f\"data/{directory}/{filename}\"):\n",
    "                if filename[:-4] not in sc_dict:\n",
    "                    sc_dict[filename[:-4]] = {\"embedding\": loaded_embeddings[idx]}\n",
    "                    idx += 1\n",
    "\n",
    "df = pd.DataFrame.from_dict(sc_dict, orient=\"index\")"
   ]
  },
  {
   "cell_type": "markdown",
   "id": "3933c382-47c2-4b59-960d-052bfb578a2d",
   "metadata": {},
   "source": [
    "If we want, we can further filter the subchapter corpus, for instance by only selecting subchapters that discuss exactly one aya."
   ]
  },
  {
   "cell_type": "code",
   "execution_count": 4,
   "id": "d310376b-cf60-4302-b4b4-443c99fa9c39",
   "metadata": {},
   "outputs": [
    {
     "data": {
      "text/plain": [
       "embedding    [-0.016387939453125, 0.03438377380371094, 0.06...\n",
       "Name: sc.18_1_1_7, dtype: object"
      ]
     },
     "execution_count": 4,
     "metadata": {},
     "output_type": "execute_result"
    }
   ],
   "source": [
    "df.loc[\"sc.18_1_1_7\"]"
   ]
  },
  {
   "cell_type": "markdown",
   "id": "f038a8dd-6718-4638-b993-1cc52a163ed2",
   "metadata": {},
   "source": [
    "Next, we apply umap on the np.array version of the embeddings."
   ]
  },
  {
   "cell_type": "code",
   "execution_count": 5,
   "id": "6dcc72bb-cb30-4faf-8f3c-c991b6c508b7",
   "metadata": {},
   "outputs": [],
   "source": [
    "# First convert all lists to np.arrays, otherwise umap won't work\n",
    "embeddings_orig = df[\"embedding\"].to_numpy()\n",
    "embeddings_orig = [np.array(l) for l in embeddings_orig]"
   ]
  },
  {
   "cell_type": "code",
   "execution_count": 6,
   "id": "d9d285e0-b8f2-4025-81e3-4a31de892984",
   "metadata": {},
   "outputs": [],
   "source": [
    "#umap_reducer = umap.UMAP(n_neighbors=2, \n",
    "                         #min_dist=0.1, \n",
    "                         #n_components=2,\n",
    "                         #metric=\"cosine\",\n",
    "                         #random_state=42)\n",
    "umap_reducer = umap.UMAP(random_state=42)"
   ]
  },
  {
   "cell_type": "code",
   "execution_count": 7,
   "id": "9d2c6b40-b18c-46e8-8b3d-9faff904add3",
   "metadata": {},
   "outputs": [
    {
     "name": "stderr",
     "output_type": "stream",
     "text": [
      "/home/tommy/environments/a01/lib/python3.12/site-packages/sklearn/utils/deprecation.py:151: FutureWarning: 'force_all_finite' was renamed to 'ensure_all_finite' in 1.6 and will be removed in 1.8.\n",
      "  warnings.warn(\n",
      "/home/tommy/environments/a01/lib/python3.12/site-packages/umap/umap_.py:1952: UserWarning: n_jobs value 1 overridden to 1 by setting random_state. Use no seed for parallelism.\n",
      "  warn(\n"
     ]
    }
   ],
   "source": [
    "embeddings_reduced = umap_reducer.fit_transform(embeddings_orig)"
   ]
  },
  {
   "cell_type": "code",
   "execution_count": 8,
   "id": "14acffe0-ca79-43b3-9fd2-74f78a64c8ed",
   "metadata": {},
   "outputs": [],
   "source": [
    "df[\"reduced_embeddings\"] = embeddings_reduced.tolist()"
   ]
  },
  {
   "cell_type": "code",
   "execution_count": 9,
   "id": "7607a3a2-e68b-4af9-a2b0-7d9988446f15",
   "metadata": {},
   "outputs": [
    {
     "name": "stdout",
     "output_type": "stream",
     "text": [
      "<class 'pandas.core.frame.DataFrame'>\n",
      "Index: 549 entries, sc.15_38_21_26 to sc.4_19_36_40\n",
      "Data columns (total 2 columns):\n",
      " #   Column              Non-Null Count  Dtype \n",
      "---  ------              --------------  ----- \n",
      " 0   embedding           549 non-null    object\n",
      " 1   reduced_embeddings  549 non-null    object\n",
      "dtypes: object(2)\n",
      "memory usage: 29.0+ KB\n"
     ]
    }
   ],
   "source": [
    "df.info()"
   ]
  },
  {
   "cell_type": "code",
   "execution_count": 10,
   "id": "f5438b0f-e2a7-4097-99a9-5180628793b0",
   "metadata": {},
   "outputs": [
    {
     "data": {
      "text/html": [
       "<div>\n",
       "<style scoped>\n",
       "    .dataframe tbody tr th:only-of-type {\n",
       "        vertical-align: middle;\n",
       "    }\n",
       "\n",
       "    .dataframe tbody tr th {\n",
       "        vertical-align: top;\n",
       "    }\n",
       "\n",
       "    .dataframe thead th {\n",
       "        text-align: right;\n",
       "    }\n",
       "</style>\n",
       "<table border=\"1\" class=\"dataframe\">\n",
       "  <thead>\n",
       "    <tr style=\"text-align: right;\">\n",
       "      <th></th>\n",
       "      <th>embedding</th>\n",
       "      <th>reduced_embeddings</th>\n",
       "    </tr>\n",
       "  </thead>\n",
       "  <tbody>\n",
       "    <tr>\n",
       "      <th>sc.15_38_21_26</th>\n",
       "      <td>[-0.009832461675008139, 0.013961315155029297, ...</td>\n",
       "      <td>[6.408513069152832, 7.243328094482422]</td>\n",
       "    </tr>\n",
       "    <tr>\n",
       "      <th>sc.89_38_22_22</th>\n",
       "      <td>[-0.0335693359375, 0.022918701171875, 0.046356...</td>\n",
       "      <td>[5.989302158355713, 6.010448932647705]</td>\n",
       "    </tr>\n",
       "    <tr>\n",
       "      <th>sc.83_38_1_26</th>\n",
       "      <td>[-0.006933484758649554, 0.018914358956473216, ...</td>\n",
       "      <td>[6.875131130218506, 6.406745910644531]</td>\n",
       "    </tr>\n",
       "    <tr>\n",
       "      <th>sc.95_38_21_24</th>\n",
       "      <td>[-0.00994873046875, 0.01206207275390625, 0.043...</td>\n",
       "      <td>[6.283421039581299, 7.552778244018555]</td>\n",
       "    </tr>\n",
       "    <tr>\n",
       "      <th>sc.79_38_22_22</th>\n",
       "      <td>[-0.0151824951171875, 0.027618408203125, 0.064...</td>\n",
       "      <td>[6.4714579582214355, 6.3549675941467285]</td>\n",
       "    </tr>\n",
       "  </tbody>\n",
       "</table>\n",
       "</div>"
      ],
      "text/plain": [
       "                                                        embedding  \\\n",
       "sc.15_38_21_26  [-0.009832461675008139, 0.013961315155029297, ...   \n",
       "sc.89_38_22_22  [-0.0335693359375, 0.022918701171875, 0.046356...   \n",
       "sc.83_38_1_26   [-0.006933484758649554, 0.018914358956473216, ...   \n",
       "sc.95_38_21_24  [-0.00994873046875, 0.01206207275390625, 0.043...   \n",
       "sc.79_38_22_22  [-0.0151824951171875, 0.027618408203125, 0.064...   \n",
       "\n",
       "                                      reduced_embeddings  \n",
       "sc.15_38_21_26    [6.408513069152832, 7.243328094482422]  \n",
       "sc.89_38_22_22    [5.989302158355713, 6.010448932647705]  \n",
       "sc.83_38_1_26     [6.875131130218506, 6.406745910644531]  \n",
       "sc.95_38_21_24    [6.283421039581299, 7.552778244018555]  \n",
       "sc.79_38_22_22  [6.4714579582214355, 6.3549675941467285]  "
      ]
     },
     "execution_count": 10,
     "metadata": {},
     "output_type": "execute_result"
    }
   ],
   "source": [
    "df.head()"
   ]
  },
  {
   "cell_type": "markdown",
   "id": "aed67a68-0e47-4b5f-af2d-1938ddd48726",
   "metadata": {},
   "source": [
    "**TODO**: Evaluation of dimensionality reduction. We are using trustworthiness here."
   ]
  },
  {
   "cell_type": "code",
   "execution_count": 11,
   "id": "61284f33-64d2-4773-a7ca-816bf97976d8",
   "metadata": {},
   "outputs": [
    {
     "name": "stdout",
     "output_type": "stream",
     "text": [
      "Trustworthiness: 0.9432407772155053\n"
     ]
    }
   ],
   "source": [
    "trust_score = trustworthiness(embeddings_orig, embeddings_reduced)\n",
    "print(f\"Trustworthiness: {trust_score}\")"
   ]
  },
  {
   "cell_type": "markdown",
   "id": "6272b7a9-4ef7-40f8-938b-eb6818fb725d",
   "metadata": {},
   "source": [
    "Next, we are using HDBSCAN to cluster the data."
   ]
  },
  {
   "cell_type": "code",
   "execution_count": 12,
   "id": "7a094b4b-6121-48d7-a82e-408f5d61c978",
   "metadata": {},
   "outputs": [],
   "source": [
    "hdbscan_clusterer = HDBSCAN()\n",
    "\n",
    "cluster_labels = hdbscan_clusterer.fit_predict(embeddings_reduced)"
   ]
  },
  {
   "cell_type": "code",
   "execution_count": 13,
   "id": "4b7968a7-e481-414f-b71e-347b95028a3f",
   "metadata": {},
   "outputs": [],
   "source": [
    "# Adding cluster labels to dataframe\n",
    "df[\"cluster\"] = cluster_labels"
   ]
  },
  {
   "cell_type": "code",
   "execution_count": null,
   "id": "ddd02e83-b99f-49f7-a431-cc068b762cec",
   "metadata": {},
   "outputs": [],
   "source": [
    "#df.groupby(\"cluster\").count().sort_values(\"embedding\", ascending=False).to_csv(\"tables/cluster_overview.csv\")"
   ]
  },
  {
   "cell_type": "markdown",
   "id": "3964df45-4f4f-458a-a298-5f5735ab5b18",
   "metadata": {},
   "source": [
    "Plotting the results."
   ]
  },
  {
   "cell_type": "code",
   "execution_count": 14,
   "id": "d1be1f4f-7254-446b-8e84-0624c705ca12",
   "metadata": {},
   "outputs": [
    {
     "data": {
      "text/plain": [
       "Text(0.5, 1.0, 'HDBSCAN clustering of all subchapters')"
      ]
     },
     "execution_count": 14,
     "metadata": {},
     "output_type": "execute_result"
    },
    {
     "data": {
      "image/png": "[encoded data removed]",
      "text/plain": [
       "<Figure size 1000x800 with 1 Axes>"
      ]
     },
     "metadata": {},
     "output_type": "display_data"
    }
   ],
   "source": [
    "# Plot reduced datapoints\n",
    "plt.figure(figsize=(10, 8))\n",
    "\n",
    "# Create scatter plot\n",
    "scatter = plt.scatter(embeddings_reduced[:, 0], \n",
    "            embeddings_reduced[:, 1], \n",
    "            c=cluster_labels, \n",
    "            cmap='rainbow', \n",
    "            s=10, \n",
    "            alpha=0.7)\n",
    "\n",
    "# Add a legend for the clusters\n",
    "legend1 = plt.legend(*scatter.legend_elements(),\n",
    "                    title=\"Clusters\")\n",
    "plt.gca().add_artist(legend1)\n",
    "\n",
    "# Title\n",
    "plt.title(\"HDBSCAN clustering of all subchapters\")\n",
    "\n",
    "# Saving plot\n",
    "#plt.savefig(\"images/hdbscan_all.jpg\")"
   ]
  },
  {
   "cell_type": "markdown",
   "id": "42494987-a7e0-478a-8b01-19307a0b503a",
   "metadata": {},
   "source": [
    "## Retrieving texts of subchapters in each cluster"
   ]
  },
  {
   "cell_type": "code",
   "execution_count": 15,
   "id": "79994ad0-37e0-401e-9ad3-3e4e0c31683c",
   "metadata": {},
   "outputs": [],
   "source": [
    "def download_subchapter_file(subchapter_id: str, filename: Optional[str] = None):\n",
    "    # Build API path from sc_id\n",
    "    # Example: http://localhost:8080/api/download/tafsir/3/c.3_2/sc.3_2_77_77\n",
    "    url = \"http://localhost:8080/api/download/tafsir/\"\n",
    "    sc_list = subchapter_id.split(\"_\")\n",
    "    tafsir_id = sc_list[0].split(\".\")[1]\n",
    "    url += tafsir_id + \"/\"\n",
    "    chapter_id = \"c.\" + tafsir_id + \"_\" + sc_list[1]\n",
    "    url += chapter_id + \"/\" + subchapter_id\n",
    "    # DEBUG\n",
    "    print(url)\n",
    "    \n",
    "    # Send request\n",
    "    response = requests.get(url)\n",
    "    \n",
    "    # Check if request was successful\n",
    "    response.raise_for_status()\n",
    "    \n",
    "    # Save file\n",
    "    with open(filename, 'wb') as file:\n",
    "        file.write(response.content)\n",
    "    \n",
    "    return filename"
   ]
  },
  {
   "cell_type": "code",
   "execution_count": 16,
   "id": "c1a40ccf-48b7-4e3d-86fb-cc1efb373c83",
   "metadata": {},
   "outputs": [],
   "source": [
    "def download_cluster_subchapters(subchapter_list: list[str], path: str):\n",
    "        if not os.path.exists(path):\n",
    "            os.makedirs(path)\n",
    "            print(f\"Directory created: {path}\")\n",
    "        else:\n",
    "            print(f\"Directory already exists: {path}\")\n",
    "        for sc in subchapter_list:\n",
    "            download_subchapter_file(sc, f\"{path}/{sc}.txt\")"
   ]
  },
  {
   "cell_type": "code",
   "execution_count": null,
   "id": "be29fd0a-2f11-4138-9119-7dbc2cc0009e",
   "metadata": {},
   "outputs": [],
   "source": [
    "#for i in df.cluster.unique():\n",
    "   #download_cluster_subchapters(df[df[\"cluster\"]==i].index.tolist(), f\"clustering/{i}\")"
   ]
  },
  {
   "cell_type": "markdown",
   "id": "a3b41c27-77e9-463a-9b5f-b4bde23f57e6",
   "metadata": {},
   "source": [
    "## Retrieving metadata for each subchapter in cluster"
   ]
  },
  {
   "cell_type": "code",
   "execution_count": 17,
   "id": "0fb2d516-6303-4fa5-a2da-e39340750190",
   "metadata": {},
   "outputs": [],
   "source": [
    "def get_subchapter_metadata(sc_id: str) -> (dict, str):\n",
    "    # Get tafsir id from sc id\n",
    "    # This is needed since the API only delivers metadata for tafsirs, not subchapters\n",
    "    # sc ids should look like this: sc.1_2_1_7 where the tafsir id is the 1 in sc.1\n",
    "    try:\n",
    "        tafsir_id = sc_id.split(\"_\")[0].split(\".\")[1].strip()\n",
    "    except:\n",
    "        return dict(), f\"Could not parse tafsir id from sc id {sc_id}\"\n",
    "    if tafsir_id == \"\":\n",
    "        return dict(), f\"Could not parse tafsir id from sc id {sc_id}\"\n",
    "    res = requests.get(f\"http://localhost:8080/api/metadata/overview/{tafsir_id}\")\n",
    "    try:\n",
    "        res.raise_for_status()\n",
    "    except:\n",
    "        return dict(), f\"Could not retrieve data via API for tafsir id {tafsir_id}\"\n",
    "    return res.json(), \"\""
   ]
  },
  {
   "cell_type": "code",
   "execution_count": 18,
   "id": "3290962f-cb9b-4680-8748-0a70378611c0",
   "metadata": {},
   "outputs": [],
   "source": [
    "# Save metadata for all clusters\n",
    "for i in df.cluster.unique():\n",
    "    data = dict()\n",
    "    for idx, sc in enumerate(df[df[\"cluster\"]==i].index.tolist()):\n",
    "        json_res, err = get_subchapter_metadata(sc)\n",
    "        # Adding sc id to JSON data\n",
    "        json_res[\"sc_id\"] = sc\n",
    "        data[idx] = json_res\n",
    "    df_metadata = pd.DataFrame.from_dict(data, orient=\"index\")\n",
    "    df_metadata = df_metadata.map(lambda x: \"; \".join(x) if type(x) == list else x)\n",
    "    df_metadata.to_csv(f\"tables/cluster_{i}.csv\")"
   ]
  },
  {
   "cell_type": "markdown",
   "id": "4e39ef87-aa93-43e2-82c0-a4032c044c4e",
   "metadata": {},
   "source": [
    "## Re-clustering of subchapters in a specific cluster 12"
   ]
  },
  {
   "cell_type": "code",
   "execution_count": 19,
   "id": "d04086f4-0e6e-4565-9644-97c5a3bfa916",
   "metadata": {},
   "outputs": [
    {
     "name": "stdout",
     "output_type": "stream",
     "text": [
      "<class 'pandas.core.frame.DataFrame'>\n",
      "Index: 57 entries, sc.83_37_114_182 to sc.15_15_30_41\n",
      "Data columns (total 3 columns):\n",
      " #   Column              Non-Null Count  Dtype \n",
      "---  ------              --------------  ----- \n",
      " 0   embedding           57 non-null     object\n",
      " 1   reduced_embeddings  57 non-null     object\n",
      " 2   cluster             57 non-null     int64 \n",
      "dtypes: int64(1), object(2)\n",
      "memory usage: 1.8+ KB\n"
     ]
    }
   ],
   "source": [
    "df[df[\"cluster\"] == 12].info()"
   ]
  },
  {
   "cell_type": "code",
   "execution_count": 20,
   "id": "2802d743-77bc-4b60-8d14-5d17c9e792ad",
   "metadata": {},
   "outputs": [],
   "source": [
    "df_cp = df[df[\"cluster\"] == 12].copy()"
   ]
  },
  {
   "cell_type": "code",
   "execution_count": 21,
   "id": "60faf412-38a5-4ac1-b55c-c6b383842f2a",
   "metadata": {},
   "outputs": [
    {
     "name": "stdout",
     "output_type": "stream",
     "text": [
      "<class 'pandas.core.frame.DataFrame'>\n",
      "Index: 57 entries, sc.83_37_114_182 to sc.15_15_30_41\n",
      "Data columns (total 3 columns):\n",
      " #   Column              Non-Null Count  Dtype \n",
      "---  ------              --------------  ----- \n",
      " 0   embedding           57 non-null     object\n",
      " 1   reduced_embeddings  57 non-null     object\n",
      " 2   cluster             57 non-null     int64 \n",
      "dtypes: int64(1), object(2)\n",
      "memory usage: 1.8+ KB\n"
     ]
    }
   ],
   "source": [
    "df_cp.info()"
   ]
  },
  {
   "cell_type": "code",
   "execution_count": 28,
   "id": "3f6554b9-e5b8-425a-b6e9-d2eac2f26857",
   "metadata": {},
   "outputs": [],
   "source": [
    "# Reconverting embeddings to numpy arrays\n",
    "tmp = df_cp[\"reduced_embeddings\"].to_numpy()\n",
    "reduced_embeddings_subcluster = np.array([list(x) for x in tmp])"
   ]
  },
  {
   "cell_type": "code",
   "execution_count": 29,
   "id": "39afde3c-a485-4f81-b784-8e4a7984b410",
   "metadata": {},
   "outputs": [],
   "source": [
    "hdbscan_clusterer = HDBSCAN(min_cluster_size=3)\n",
    "\n",
    "cluster_labels = hdbscan_clusterer.fit_predict(reduced_embeddings_subcluster)"
   ]
  },
  {
   "cell_type": "code",
   "execution_count": 30,
   "id": "82631a00-2a43-430a-b546-5b84bb7f2e91",
   "metadata": {},
   "outputs": [],
   "source": [
    "df_cp[\"subcluster\"] = cluster_labels"
   ]
  },
  {
   "cell_type": "code",
   "execution_count": 31,
   "id": "1adbd465-d8c1-4c73-9e8c-89f05f2e13b0",
   "metadata": {},
   "outputs": [
    {
     "data": {
      "image/png": "[encoded data removed]",
      "text/plain": [
       "<Figure size 1000x800 with 1 Axes>"
      ]
     },
     "metadata": {},
     "output_type": "display_data"
    }
   ],
   "source": [
    "# Plot reduced datapoints\n",
    "plt.figure(figsize=(10, 8))\n",
    "\n",
    "# Create scatter plot\n",
    "scatter = plt.scatter(reduced_embeddings_subcluster[:, 0], \n",
    "            reduced_embeddings_subcluster[:, 1], \n",
    "            c=cluster_labels, \n",
    "            cmap='rainbow', \n",
    "            s=10, \n",
    "            alpha=0.7)\n",
    "\n",
    "# Add a legend for the clusters\n",
    "legend1 = plt.legend(*scatter.legend_elements(),\n",
    "                    title=\"Clusters\")\n",
    "plt.gca().add_artist(legend1)\n",
    "\n",
    "# Title\n",
    "plt.title(\"HDBSCAN clustering of entries in cluster 12 (Q1:6-7)\")\n",
    "\n",
    "# Saving plot\n",
    "plt.savefig(\"images/hdbscan_subcluster_12.jpg\")"
   ]
  },
  {
   "cell_type": "code",
   "execution_count": 32,
   "id": "111b4e0f-c8ec-4ad8-b896-8a692cea4992",
   "metadata": {},
   "outputs": [
    {
     "name": "stdout",
     "output_type": "stream",
     "text": [
      "Directory created: clustering/subcluster/0\n",
      "http://localhost:8080/api/download/tafsir/83/c.83_37/sc.83_37_114_182\n",
      "http://localhost:8080/api/download/tafsir/22/c.22_37/sc.22_37_1_82\n",
      "http://localhost:8080/api/download/tafsir/75/c.75_37/sc.75_37_1_23\n",
      "http://localhost:8080/api/download/tafsir/15/c.15_37/sc.15_37_11_26\n",
      "http://localhost:8080/api/download/tafsir/6/c.6_37/sc.6_37_11_23\n",
      "http://localhost:8080/api/download/tafsir/17/c.17_37/sc.17_37_1_28\n",
      "http://localhost:8080/api/download/tafsir/68/c.68_37/sc.68_37_11_26\n",
      "http://localhost:8080/api/download/tafsir/90/c.90_37/sc.90_37_1_34\n",
      "http://localhost:8080/api/download/tafsir/94/c.94_37/sc.94_37_11_26\n",
      "Directory created: clustering/subcluster/5\n",
      "http://localhost:8080/api/download/tafsir/54/c.54_37/sc.54_37_22_26\n",
      "http://localhost:8080/api/download/tafsir/11/c.11_37/sc.11_37_19_40\n",
      "http://localhost:8080/api/download/tafsir/37/c.37_37/sc.37_37_22_34\n",
      "http://localhost:8080/api/download/tafsir/28/c.28_37/sc.28_37_23_28\n",
      "http://localhost:8080/api/download/tafsir/36/c.36_37/sc.36_37_21_23\n",
      "Directory created: clustering/subcluster/2\n",
      "http://localhost:8080/api/download/tafsir/104/c.104_37/sc.104_37_22_50\n",
      "http://localhost:8080/api/download/tafsir/19/c.19_37/sc.19_37_22_39\n",
      "http://localhost:8080/api/download/tafsir/56/c.56_37/sc.56_37_12_70\n",
      "http://localhost:8080/api/download/tafsir/9/c.9_37/sc.9_37_20_49\n",
      "http://localhost:8080/api/download/tafsir/83/c.83_37/sc.83_37_1_61\n",
      "http://localhost:8080/api/download/tafsir/47/c.47_37/sc.47_37_11_32\n",
      "Directory created: clustering/subcluster/4\n",
      "http://localhost:8080/api/download/tafsir/95/c.95_37/sc.95_37_22_33\n",
      "http://localhost:8080/api/download/tafsir/3/c.3_37/sc.3_37_21_30\n",
      "http://localhost:8080/api/download/tafsir/41/c.41_37/sc.41_37_17_37\n",
      "Directory created: clustering/subcluster/7\n",
      "http://localhost:8080/api/download/tafsir/48/c.48_37/sc.48_37_15_23\n",
      "http://localhost:8080/api/download/tafsir/60/c.60_37/sc.60_37_18_29\n",
      "http://localhost:8080/api/download/tafsir/91/c.91_37/sc.91_37_22_26\n",
      "http://localhost:8080/api/download/tafsir/98/c.98_37/sc.98_37_22_26\n",
      "http://localhost:8080/api/download/tafsir/26/c.26_37/sc.26_37_22_23\n",
      "http://localhost:8080/api/download/tafsir/24/c.24_37/sc.24_37_19_26\n",
      "http://localhost:8080/api/download/tafsir/13/c.13_37/sc.13_37_16_24\n",
      "http://localhost:8080/api/download/tafsir/76/c.76_37/sc.76_37_22_24\n",
      "Directory created: clustering/subcluster/-1\n",
      "http://localhost:8080/api/download/tafsir/96/c.96_37/sc.96_37_19_28\n",
      "http://localhost:8080/api/download/tafsir/67/c.67_37/sc.67_37_21_30\n",
      "http://localhost:8080/api/download/tafsir/10/c.10_37/sc.10_37_22_45\n",
      "http://localhost:8080/api/download/tafsir/5/c.5_37/sc.5_37_22_35\n",
      "http://localhost:8080/api/download/tafsir/2/c.2_37/sc.2_37_22_26\n",
      "http://localhost:8080/api/download/tafsir/39/c.39_37/sc.39_37_21_30\n",
      "http://localhost:8080/api/download/tafsir/57/c.57_37/sc.57_37_22_39\n",
      "http://localhost:8080/api/download/tafsir/66/c.66_37/sc.66_37_22_30\n",
      "http://localhost:8080/api/download/tafsir/42/c.42_37/sc.42_37_22_23\n",
      "http://localhost:8080/api/download/tafsir/90/c.90_15/sc.90_15_26_87\n",
      "http://localhost:8080/api/download/tafsir/15/c.15_15/sc.15_15_30_41\n",
      "Directory created: clustering/subcluster/1\n",
      "http://localhost:8080/api/download/tafsir/12/c.12_37/sc.12_37_20_26\n",
      "http://localhost:8080/api/download/tafsir/92/c.92_37/sc.92_37_13_44\n",
      "http://localhost:8080/api/download/tafsir/14/c.14_37/sc.14_37_19_26\n",
      "Directory created: clustering/subcluster/6\n",
      "http://localhost:8080/api/download/tafsir/52/c.52_37/sc.52_37_23_23\n",
      "http://localhost:8080/api/download/tafsir/1/c.1_37/sc.1_37_22_23\n",
      "http://localhost:8080/api/download/tafsir/65/c.65_37/sc.65_37_21_30\n",
      "http://localhost:8080/api/download/tafsir/49/c.49_37/sc.49_37_22_23\n",
      "http://localhost:8080/api/download/tafsir/50/c.50_37/sc.50_37_22_23\n",
      "http://localhost:8080/api/download/tafsir/4/c.4_37/sc.4_37_22_26\n",
      "http://localhost:8080/api/download/tafsir/55/c.55_37/sc.55_37_22_23\n",
      "Directory created: clustering/subcluster/3\n",
      "http://localhost:8080/api/download/tafsir/97/c.97_37/sc.97_37_13_24\n",
      "http://localhost:8080/api/download/tafsir/7/c.7_37/sc.7_37_20_26\n",
      "http://localhost:8080/api/download/tafsir/31/c.31_37/sc.31_37_22_27\n",
      "http://localhost:8080/api/download/tafsir/18/c.18_37/sc.18_37_20_26\n",
      "http://localhost:8080/api/download/tafsir/84/c.84_37/sc.84_37_20_26\n"
     ]
    }
   ],
   "source": [
    "## Saving files\n",
    "for i in df_cp.subcluster.unique():\n",
    "    download_cluster_subchapters(df_cp[df_cp[\"subcluster\"]==i].index.tolist(), f\"clustering/subcluster/{i}\")"
   ]
  },
  {
   "cell_type": "code",
   "execution_count": 33,
   "id": "adade520-cf99-4d82-a831-345ac0084ab4",
   "metadata": {},
   "outputs": [],
   "source": [
    "def get_subchapter_metadata(sc_id: str) -> (dict, str):\n",
    "    # Get tafsir id from sc id\n",
    "    # This is needed since the API only delivers metadata for tafsirs, not subchapters\n",
    "    # sc ids should look like this: sc.1_2_1_7 where the tafsir id is the 1 in sc.1\n",
    "    try:\n",
    "        tafsir_id = sc_id.split(\"_\")[0].split(\".\")[1].strip()\n",
    "    except:\n",
    "        return dict(), f\"Could not parse tafsir id from sc id {sc_id}\"\n",
    "    if tafsir_id == \"\":\n",
    "        return dict(), f\"Could not parse tafsir id from sc id {sc_id}\"\n",
    "    res = requests.get(f\"http://localhost:8080/api/metadata/overview/{tafsir_id}\")\n",
    "    try:\n",
    "        res.raise_for_status()\n",
    "    except:\n",
    "        return dict(), f\"Could not retrieve data via API for tafsir id {tafsir_id}\"\n",
    "    return res.json(), \"\""
   ]
  },
  {
   "cell_type": "code",
   "execution_count": 34,
   "id": "296d1a04-9ee2-43c9-ac43-069cad371850",
   "metadata": {},
   "outputs": [],
   "source": [
    "# Save metadata for all clusters\n",
    "for i in df_cp.subcluster.unique():\n",
    "    data = dict()\n",
    "    for idx, sc in enumerate(df_cp[df_cp[\"subcluster\"]==i].index.tolist()):\n",
    "        json_res, err = get_subchapter_metadata(sc)\n",
    "        # Adding sc id to JSON data\n",
    "        json_res[\"sc_id\"] = sc\n",
    "        data[idx] = json_res\n",
    "    df_metadata = pd.DataFrame.from_dict(data, orient=\"index\")\n",
    "    df_metadata = df_metadata.map(lambda x: \"; \".join(x) if type(x) == list else x)\n",
    "    df_metadata.to_csv(f\"tables/subcluster_{i}.csv\")"
   ]
  },
  {
   "cell_type": "markdown",
   "id": "d82bc9dd-983a-49b5-9139-4abb62837229",
   "metadata": {},
   "source": [
    "## Clustering only sentences from cluster 12"
   ]
  },
  {
   "cell_type": "code",
   "execution_count": 65,
   "id": "1b5a8260-778c-460d-a301-678f5329876b",
   "metadata": {},
   "outputs": [],
   "source": [
    "def get_sentences_for_subchapter(sc_id: str) -> dict:\n",
    "    # Get tafsir id from sc id\n",
    "    # This is needed since the API only delivers metadata for tafsirs, not subchapters\n",
    "    # sc ids should look like this: sc.1_2_1_7 where the tafsir id is the 1 in sc.1\n",
    "    try:\n",
    "        tafsir_id = sc_id.split(\"_\")[0].split(\".\")[1].strip()\n",
    "        chapter_id = f\"c.{tafsir_id}_{sc_id.split(\"_\")[1].strip()}\"\n",
    "    except:\n",
    "        return dict(), f\"Could not parse tafsir id from sc id {sc_id}\"\n",
    "    if tafsir_id == \"\" or chapter_id == \"\":\n",
    "        return dict()\n",
    "    res = requests.get(f\"http://localhost:8080/api/tafsir/sentences/{tafsir_id}/{chapter_id}/{sc_id}\")\n",
    "    try:\n",
    "        res.raise_for_status()\n",
    "    except:\n",
    "        return dict()\n",
    "    data = res.json()\n",
    "    sentences_dict = dict()\n",
    "    for i,s in enumerate(data[\"sentences\"]):\n",
    "        sentences_dict[f\"{sc_id}_{i}\"] = s\n",
    "    return sentences_dict"
   ]
  },
  {
   "cell_type": "code",
   "execution_count": 51,
   "id": "c14498c6-3be8-40a6-9abc-fddae33d0246",
   "metadata": {},
   "outputs": [],
   "source": [
    "df_cp = df_cp.reset_index()"
   ]
  },
  {
   "cell_type": "code",
   "execution_count": 66,
   "id": "d7843a00-e2fd-4b78-9603-014a8151bb5d",
   "metadata": {},
   "outputs": [],
   "source": [
    "global_sentences_dict = dict()\n",
    "for i,r in df_cp.iterrows():\n",
    "    sentences_dict = get_sentences_for_subchapter(r[\"index\"])\n",
    "    global_sentences_dict.update(sentences_dict)"
   ]
  },
  {
   "cell_type": "code",
   "execution_count": 77,
   "id": "06333b45-e7a7-48b3-adff-bcc2fafd405a",
   "metadata": {},
   "outputs": [],
   "source": [
    "#global_sentences_dict"
   ]
  },
  {
   "cell_type": "code",
   "execution_count": 84,
   "id": "defed780-3428-435b-9983-41780342ddb8",
   "metadata": {},
   "outputs": [],
   "source": [
    "df_sentences = pd.DataFrame.from_dict(global_sentences_dict, orient=\"index\").reset_index()"
   ]
  },
  {
   "cell_type": "code",
   "execution_count": 86,
   "id": "1f97086b-8568-4535-a349-a99d9d5e4c9b",
   "metadata": {},
   "outputs": [],
   "source": [
    "df_sentences.columns = [\"id\", \"sentence_text\"]"
   ]
  },
  {
   "cell_type": "code",
   "execution_count": 87,
   "id": "62da3e7a-2178-443c-8197-1acaabeee46e",
   "metadata": {},
   "outputs": [
    {
     "data": {
      "text/html": [
       "<div>\n",
       "<style scoped>\n",
       "    .dataframe tbody tr th:only-of-type {\n",
       "        vertical-align: middle;\n",
       "    }\n",
       "\n",
       "    .dataframe tbody tr th {\n",
       "        vertical-align: top;\n",
       "    }\n",
       "\n",
       "    .dataframe thead th {\n",
       "        text-align: right;\n",
       "    }\n",
       "</style>\n",
       "<table border=\"1\" class=\"dataframe\">\n",
       "  <thead>\n",
       "    <tr style=\"text-align: right;\">\n",
       "      <th></th>\n",
       "      <th>id</th>\n",
       "      <th>sentence_text</th>\n",
       "    </tr>\n",
       "  </thead>\n",
       "  <tbody>\n",
       "    <tr>\n",
       "      <th>0</th>\n",
       "      <td>sc.83_37_114_182_0</td>\n",
       "      <td>المنَاسَبَة: لما ذكر قصة الخليل إبراهيم، وقصة ...</td>\n",
       "    </tr>\n",
       "    <tr>\n",
       "      <th>1</th>\n",
       "      <td>sc.83_37_114_182_1</td>\n",
       "      <td>اللغَة: {أَبَقَ} هرب {ٱلْمَشْحُونِ} المملوء {س...</td>\n",
       "    </tr>\n",
       "    <tr>\n",
       "      <th>2</th>\n",
       "      <td>sc.83_37_114_182_2</td>\n",
       "      <td>التفسِير: {وَلَقَدْ مَنَنَّا عَلَىٰ مُوسَىٰ وَ...</td>\n",
       "    </tr>\n",
       "    <tr>\n",
       "      <th>3</th>\n",
       "      <td>sc.83_37_114_182_3</td>\n",
       "      <td>{أَتَدْعُونَ بَعْلاً وَتَذَرُونَ أَحْسَنَ ٱلْخ...</td>\n",
       "    </tr>\n",
       "    <tr>\n",
       "      <th>4</th>\n",
       "      <td>sc.83_37_114_182_4</td>\n",
       "      <td>{ٱللَّهَ رَبَّكُمْ وَرَبَّ آبَآئِكُمُ ٱلأَوَّل...</td>\n",
       "    </tr>\n",
       "  </tbody>\n",
       "</table>\n",
       "</div>"
      ],
      "text/plain": [
       "                   id                                      sentence_text\n",
       "0  sc.83_37_114_182_0  المنَاسَبَة: لما ذكر قصة الخليل إبراهيم، وقصة ...\n",
       "1  sc.83_37_114_182_1  اللغَة: {أَبَقَ} هرب {ٱلْمَشْحُونِ} المملوء {س...\n",
       "2  sc.83_37_114_182_2  التفسِير: {وَلَقَدْ مَنَنَّا عَلَىٰ مُوسَىٰ وَ...\n",
       "3  sc.83_37_114_182_3  {أَتَدْعُونَ بَعْلاً وَتَذَرُونَ أَحْسَنَ ٱلْخ...\n",
       "4  sc.83_37_114_182_4  {ٱللَّهَ رَبَّكُمْ وَرَبَّ آبَآئِكُمُ ٱلأَوَّل..."
      ]
     },
     "execution_count": 87,
     "metadata": {},
     "output_type": "execute_result"
    }
   ],
   "source": [
    "df_sentences.head()"
   ]
  },
  {
   "cell_type": "code",
   "execution_count": 99,
   "id": "18f11479-9e40-48e1-970e-4a86b26e71e6",
   "metadata": {},
   "outputs": [
    {
     "name": "stdout",
     "output_type": "stream",
     "text": [
      "<class 'pandas.core.frame.DataFrame'>\n",
      "RangeIndex: 1522 entries, 0 to 1521\n",
      "Data columns (total 2 columns):\n",
      " #   Column         Non-Null Count  Dtype \n",
      "---  ------         --------------  ----- \n",
      " 0   id             1522 non-null   object\n",
      " 1   sentence_text  1522 non-null   object\n",
      "dtypes: object(2)\n",
      "memory usage: 23.9+ KB\n"
     ]
    }
   ],
   "source": [
    "df_sentences.info()"
   ]
  },
  {
   "cell_type": "code",
   "execution_count": 115,
   "id": "93629965-e31c-4a64-b8ba-9c110fc02a61",
   "metadata": {},
   "outputs": [],
   "source": [
    "from typing import List\n",
    "\n",
    "# Get embeddings\n",
    "\n",
    "def get_embedding(text_list: List[str], retries=3, backoff_factor=2):\n",
    "    model = \"mistral-embed\"\n",
    "    \n",
    "    client = Mistral(api_key=MISTRAL_API_KEY)\n",
    "    \n",
    "    for attempt in range(retries):\n",
    "        try:\n",
    "            embeddings_batch_response = client.embeddings.create(\n",
    "                model=model,\n",
    "                inputs=text_list,\n",
    "            )\n",
    "            return [d.embedding for d in embeddings_batch_response.data]\n",
    "        except requests.exceptions.RequestException as e:\n",
    "            print(f\"Attempt {attempt + 1} failed: {e}\")\n",
    "            time.sleep(backoff_factor ** attempt)\n",
    "    raise Exception(\"Failed to get embeddings after multiple attempts\")"
   ]
  },
  {
   "cell_type": "code",
   "execution_count": 116,
   "id": "fbf2b231-92be-4c57-8e47-3ff86b9a43da",
   "metadata": {},
   "outputs": [
    {
     "name": "stdout",
     "output_type": "stream",
     "text": [
      "0\n",
      "250\n",
      "500\n",
      "750\n",
      "1000\n",
      "1250\n",
      "1500\n"
     ]
    }
   ],
   "source": [
    "import time\n",
    "\n",
    "sentences_embedding_list = []\n",
    "chunk_size = 250\n",
    "idx = 0\n",
    "while idx < len(df_sentences):\n",
    "    print(idx)\n",
    "    df_tmp = df_sentences.iloc[idx:idx+chunk_size]\n",
    "    len(df_tmp[\"sentence_text\"].to_list())\n",
    "    res = get_embedding(df_tmp[\"sentence_text\"].to_list())\n",
    "    len(res)\n",
    "    sentences_embedding_list.extend(res)\n",
    "    idx += chunk_size\n",
    "    time.sleep(1)"
   ]
  },
  {
   "cell_type": "code",
   "execution_count": 118,
   "id": "db9140b6-91b1-4831-8ed2-6a56c3ebcbac",
   "metadata": {},
   "outputs": [],
   "source": [
    "assert len(sentences_embedding_list) == len(df_sentences)"
   ]
  },
  {
   "cell_type": "code",
   "execution_count": 119,
   "id": "488b3fa0-7cdc-41c9-9300-57686fc0d42d",
   "metadata": {},
   "outputs": [],
   "source": [
    "# Save sentences embeddings\n",
    "# Saving embeddings locally\n",
    "\n",
    "with open(\"mistral_embeddings_sentences_cluster_12.pkl\", \"wb\") as f:\n",
    "    pickle.dump(sentences_embedding_list, f)"
   ]
  },
  {
   "cell_type": "code",
   "execution_count": null,
   "id": "c36d04c9-e215-4216-940f-49116a9ecb40",
   "metadata": {},
   "outputs": [],
   "source": [
    "# Reload embeddings\n",
    "with open(\"mistral_embeddings_sentences_cluster_12.pkl\", \"rb\") as f:\n",
    "    sentences_embedding_list = pickle.load(f)"
   ]
  },
  {
   "cell_type": "code",
   "execution_count": 120,
   "id": "ec4d500b-435d-4c3d-8254-88296c011520",
   "metadata": {},
   "outputs": [],
   "source": [
    "df_sentences[\"embeddings\"] = sentences_embedding_list"
   ]
  },
  {
   "cell_type": "code",
   "execution_count": 121,
   "id": "d769c438-57db-4182-b15c-a03b5aea60cb",
   "metadata": {},
   "outputs": [
    {
     "data": {
      "text/html": [
       "<div>\n",
       "<style scoped>\n",
       "    .dataframe tbody tr th:only-of-type {\n",
       "        vertical-align: middle;\n",
       "    }\n",
       "\n",
       "    .dataframe tbody tr th {\n",
       "        vertical-align: top;\n",
       "    }\n",
       "\n",
       "    .dataframe thead th {\n",
       "        text-align: right;\n",
       "    }\n",
       "</style>\n",
       "<table border=\"1\" class=\"dataframe\">\n",
       "  <thead>\n",
       "    <tr style=\"text-align: right;\">\n",
       "      <th></th>\n",
       "      <th>id</th>\n",
       "      <th>sentence_text</th>\n",
       "      <th>embeddings</th>\n",
       "    </tr>\n",
       "  </thead>\n",
       "  <tbody>\n",
       "    <tr>\n",
       "      <th>0</th>\n",
       "      <td>sc.83_37_114_182_0</td>\n",
       "      <td>المنَاسَبَة: لما ذكر قصة الخليل إبراهيم، وقصة ...</td>\n",
       "      <td>[-0.022918701171875, 0.03497314453125, 0.05905...</td>\n",
       "    </tr>\n",
       "    <tr>\n",
       "      <th>1</th>\n",
       "      <td>sc.83_37_114_182_1</td>\n",
       "      <td>اللغَة: {أَبَقَ} هرب {ٱلْمَشْحُونِ} المملوء {س...</td>\n",
       "      <td>[-0.00876617431640625, 0.0274658203125, 0.0518...</td>\n",
       "    </tr>\n",
       "    <tr>\n",
       "      <th>2</th>\n",
       "      <td>sc.83_37_114_182_2</td>\n",
       "      <td>التفسِير: {وَلَقَدْ مَنَنَّا عَلَىٰ مُوسَىٰ وَ...</td>\n",
       "      <td>[0.00438690185546875, 0.032440185546875, 0.043...</td>\n",
       "    </tr>\n",
       "    <tr>\n",
       "      <th>3</th>\n",
       "      <td>sc.83_37_114_182_3</td>\n",
       "      <td>{أَتَدْعُونَ بَعْلاً وَتَذَرُونَ أَحْسَنَ ٱلْخ...</td>\n",
       "      <td>[-0.004901885986328125, 0.054351806640625, 0.0...</td>\n",
       "    </tr>\n",
       "    <tr>\n",
       "      <th>4</th>\n",
       "      <td>sc.83_37_114_182_4</td>\n",
       "      <td>{ٱللَّهَ رَبَّكُمْ وَرَبَّ آبَآئِكُمُ ٱلأَوَّل...</td>\n",
       "      <td>[-0.020904541015625, 0.0638427734375, 0.034149...</td>\n",
       "    </tr>\n",
       "  </tbody>\n",
       "</table>\n",
       "</div>"
      ],
      "text/plain": [
       "                   id                                      sentence_text  \\\n",
       "0  sc.83_37_114_182_0  المنَاسَبَة: لما ذكر قصة الخليل إبراهيم، وقصة ...   \n",
       "1  sc.83_37_114_182_1  اللغَة: {أَبَقَ} هرب {ٱلْمَشْحُونِ} المملوء {س...   \n",
       "2  sc.83_37_114_182_2  التفسِير: {وَلَقَدْ مَنَنَّا عَلَىٰ مُوسَىٰ وَ...   \n",
       "3  sc.83_37_114_182_3  {أَتَدْعُونَ بَعْلاً وَتَذَرُونَ أَحْسَنَ ٱلْخ...   \n",
       "4  sc.83_37_114_182_4  {ٱللَّهَ رَبَّكُمْ وَرَبَّ آبَآئِكُمُ ٱلأَوَّل...   \n",
       "\n",
       "                                          embeddings  \n",
       "0  [-0.022918701171875, 0.03497314453125, 0.05905...  \n",
       "1  [-0.00876617431640625, 0.0274658203125, 0.0518...  \n",
       "2  [0.00438690185546875, 0.032440185546875, 0.043...  \n",
       "3  [-0.004901885986328125, 0.054351806640625, 0.0...  \n",
       "4  [-0.020904541015625, 0.0638427734375, 0.034149...  "
      ]
     },
     "execution_count": 121,
     "metadata": {},
     "output_type": "execute_result"
    }
   ],
   "source": [
    "df_sentences.head()"
   ]
  },
  {
   "cell_type": "markdown",
   "id": "ea6c2963-d45f-470e-a6b4-8ba534832af8",
   "metadata": {},
   "source": [
    "## Clustering sentences only"
   ]
  },
  {
   "cell_type": "code",
   "execution_count": 122,
   "id": "595ad64b-6a9e-463d-9088-ad2c72e83302",
   "metadata": {},
   "outputs": [],
   "source": [
    "# Reducing embeddings\n",
    "# First convert all lists to np.arrays, otherwise umap won't work\n",
    "embeddings_orig = df_sentences[\"embeddings\"].to_numpy()\n",
    "embeddings_orig = [np.array(l) for l in embeddings_orig]"
   ]
  },
  {
   "cell_type": "code",
   "execution_count": 123,
   "id": "9aea4150-937a-43b8-913d-292d8fe6dae5",
   "metadata": {},
   "outputs": [],
   "source": [
    "umap_reducer = umap.UMAP(random_state=42)"
   ]
  },
  {
   "cell_type": "code",
   "execution_count": 124,
   "id": "5a132852-008c-43fd-9f11-fd4f9c486eae",
   "metadata": {},
   "outputs": [
    {
     "name": "stderr",
     "output_type": "stream",
     "text": [
      "/home/tommy/environments/a01/lib/python3.12/site-packages/sklearn/utils/deprecation.py:151: FutureWarning: 'force_all_finite' was renamed to 'ensure_all_finite' in 1.6 and will be removed in 1.8.\n",
      "  warnings.warn(\n",
      "/home/tommy/environments/a01/lib/python3.12/site-packages/umap/umap_.py:1952: UserWarning: n_jobs value 1 overridden to 1 by setting random_state. Use no seed for parallelism.\n",
      "  warn(\n"
     ]
    }
   ],
   "source": [
    "embeddings_reduced = umap_reducer.fit_transform(embeddings_orig)"
   ]
  },
  {
   "cell_type": "code",
   "execution_count": 125,
   "id": "c78112b6-cdf4-408c-8420-ef6b8b3e157f",
   "metadata": {},
   "outputs": [],
   "source": [
    "df_sentences[\"reduced_embeddings\"] = embeddings_reduced.tolist()"
   ]
  },
  {
   "cell_type": "code",
   "execution_count": 126,
   "id": "a76b90a4-11c6-4c4e-89f1-651cd8d56d8c",
   "metadata": {},
   "outputs": [
    {
     "name": "stdout",
     "output_type": "stream",
     "text": [
      "Trustworthiness: 0.9020066761908564\n"
     ]
    }
   ],
   "source": [
    "trust_score = trustworthiness(embeddings_orig, embeddings_reduced)\n",
    "print(f\"Trustworthiness: {trust_score}\")"
   ]
  },
  {
   "cell_type": "code",
   "execution_count": 127,
   "id": "70ca91e8-8c20-4211-aee4-70ea37f52bef",
   "metadata": {},
   "outputs": [],
   "source": [
    "hdbscan_clusterer = HDBSCAN()"
   ]
  },
  {
   "cell_type": "code",
   "execution_count": 128,
   "id": "fa72cfc0-dbe3-46dc-bdee-3c72afc59c1b",
   "metadata": {},
   "outputs": [],
   "source": [
    "cluster_labels = hdbscan_clusterer.fit_predict(embeddings_reduced)"
   ]
  },
  {
   "cell_type": "code",
   "execution_count": 129,
   "id": "30334cd3-2bff-4320-aced-af06dae6c2cd",
   "metadata": {},
   "outputs": [],
   "source": [
    "cluster_labels = hdbscan_clusterer.fit_predict(embeddings_reduced)"
   ]
  },
  {
   "cell_type": "code",
   "execution_count": 130,
   "id": "13564ac5-f908-479f-8ad4-1a249547d7ae",
   "metadata": {},
   "outputs": [],
   "source": [
    "df_sentences[\"cluster\"] = cluster_labels"
   ]
  },
  {
   "cell_type": "code",
   "execution_count": 149,
   "id": "80c4e866-49df-4826-85ef-9ef854cc29f2",
   "metadata": {},
   "outputs": [
    {
     "data": {
      "image/png": "[encoded data removed]",
      "text/plain": [
       "<Figure size 1000x800 with 1 Axes>"
      ]
     },
     "metadata": {},
     "output_type": "display_data"
    }
   ],
   "source": [
    "# Plot reduced datapoints\n",
    "plt.figure(figsize=(10, 8))\n",
    "\n",
    "# Create scatter plot\n",
    "scatter = plt.scatter(embeddings_reduced[:, 0], \n",
    "            embeddings_reduced[:, 1], \n",
    "            c=cluster_labels, \n",
    "            cmap='rainbow', \n",
    "            s=10, \n",
    "            alpha=0.7)\n",
    "\n",
    "# Add a legend for the clusters\n",
    "legend1 = plt.legend(*scatter.legend_elements(),\n",
    "                    title=\"Clusters\")\n",
    "plt.gca().add_artist(legend1)\n",
    "\n",
    "# Title\n",
    "plt.title(\"HDBSCAN Clustering Sentences (Cluster 12)\")\n",
    "\n",
    "# Saving plot\n",
    "plt.savefig(\"images/hdbscan_sentences_cluster_12.jpg\")"
   ]
  },
  {
   "cell_type": "code",
   "execution_count": 137,
   "id": "05e3cd2c-b368-4038-b88a-eb44175d594e",
   "metadata": {},
   "outputs": [
    {
     "data": {
      "text/plain": [
       "cluster\n",
       "-1     326\n",
       " 74     52\n",
       " 26     37\n",
       " 71     36\n",
       " 43     36\n",
       "      ... \n",
       " 25      5\n",
       " 38      5\n",
       " 30      5\n",
       " 56      5\n",
       " 50      5\n",
       "Length: 78, dtype: int64"
      ]
     },
     "execution_count": 137,
     "metadata": {},
     "output_type": "execute_result"
    }
   ],
   "source": [
    "df_sentences.groupby(\"cluster\").size().sort_values(ascending=False)"
   ]
  },
  {
   "cell_type": "code",
   "execution_count": 144,
   "id": "1bc8565c-d95f-458a-a176-e70d6757f724",
   "metadata": {},
   "outputs": [],
   "source": [
    "for i, g in df_sentences.groupby(\"cluster\"):\n",
    "    with open(f\"clustering/sentences/{i}.txt\", \"w\") as f:\n",
    "        for s in g[\"sentence_text\"]:\n",
    "            f.write(s)\n",
    "            f.write(\"\\n\\n\")"
   ]
  },
  {
   "cell_type": "code",
   "execution_count": 150,
   "id": "1d0bb6a4-fd25-4cf9-8dd1-cd521f9c29b5",
   "metadata": {},
   "outputs": [],
   "source": [
    "df_sentences[df_sentences[\"cluster\"] == 19][[\"id\", \"sentence_text\"]].to_csv(\"tables/sentences_cluster_19.csv\")"
   ]
  },
  {
   "cell_type": "markdown",
   "id": "3614d568-a663-43ed-a02f-03abc0595542",
   "metadata": {},
   "source": [
    "# Clustering only subchapters that focus on Qur'an 37:23"
   ]
  },
  {
   "cell_type": "code",
   "execution_count": 38,
   "id": "adff17f4-efd2-4e4f-accd-0d2f7ea35b4e",
   "metadata": {},
   "outputs": [],
   "source": [
    "df_23_subset = df[df.index.str.contains(\"23_23\")].copy()"
   ]
  },
  {
   "cell_type": "code",
   "execution_count": 39,
   "id": "b6994cde-a6da-4ecf-935f-a087c2dd1f64",
   "metadata": {},
   "outputs": [
    {
     "data": {
      "text/html": [
       "<div>\n",
       "<style scoped>\n",
       "    .dataframe tbody tr th:only-of-type {\n",
       "        vertical-align: middle;\n",
       "    }\n",
       "\n",
       "    .dataframe tbody tr th {\n",
       "        vertical-align: top;\n",
       "    }\n",
       "\n",
       "    .dataframe thead th {\n",
       "        text-align: right;\n",
       "    }\n",
       "</style>\n",
       "<table border=\"1\" class=\"dataframe\">\n",
       "  <thead>\n",
       "    <tr style=\"text-align: right;\">\n",
       "      <th></th>\n",
       "      <th>embedding</th>\n",
       "      <th>reduced_embeddings</th>\n",
       "      <th>cluster</th>\n",
       "    </tr>\n",
       "  </thead>\n",
       "  <tbody>\n",
       "    <tr>\n",
       "      <th>sc.102_37_23_23</th>\n",
       "      <td>[-0.03753662109375, 0.0322265625, 0.0591125488...</td>\n",
       "      <td>[5.120960235595703, -1.1082717180252075]</td>\n",
       "      <td>9</td>\n",
       "    </tr>\n",
       "    <tr>\n",
       "      <th>sc.89_37_23_23</th>\n",
       "      <td>[-0.057647705078125, 0.0031795501708984375, 0....</td>\n",
       "      <td>[5.027152061462402, -0.9754058718681335]</td>\n",
       "      <td>9</td>\n",
       "    </tr>\n",
       "    <tr>\n",
       "      <th>sc.52_37_23_23</th>\n",
       "      <td>[-0.0170135498046875, 0.048583984375, 0.055664...</td>\n",
       "      <td>[11.298698425292969, 3.1599373817443848]</td>\n",
       "      <td>12</td>\n",
       "    </tr>\n",
       "    <tr>\n",
       "      <th>sc.71_37_23_23</th>\n",
       "      <td>[-0.03814697265625, 0.02337646484375, 0.045684...</td>\n",
       "      <td>[4.8621826171875, -0.8756549954414368]</td>\n",
       "      <td>9</td>\n",
       "    </tr>\n",
       "    <tr>\n",
       "      <th>sc.16_37_23_23</th>\n",
       "      <td>[-0.0151824951171875, 0.020263671875, 0.052886...</td>\n",
       "      <td>[4.955254554748535, -1.0657683610916138]</td>\n",
       "      <td>9</td>\n",
       "    </tr>\n",
       "    <tr>\n",
       "      <th>sc.38_37_23_23</th>\n",
       "      <td>[-0.033294677734375, 0.017547607421875, 0.0583...</td>\n",
       "      <td>[4.8971757888793945, -0.9766952395439148]</td>\n",
       "      <td>9</td>\n",
       "    </tr>\n",
       "    <tr>\n",
       "      <th>sc.88_37_23_23</th>\n",
       "      <td>[-0.031585693359375, 0.01479339599609375, 0.05...</td>\n",
       "      <td>[4.935373783111572, -1.07937753200531]</td>\n",
       "      <td>9</td>\n",
       "    </tr>\n",
       "    <tr>\n",
       "      <th>sc.8_37_23_23</th>\n",
       "      <td>[-0.0247039794921875, 0.034698486328125, 0.050...</td>\n",
       "      <td>[5.010183334350586, -1.047982096672058]</td>\n",
       "      <td>9</td>\n",
       "    </tr>\n",
       "  </tbody>\n",
       "</table>\n",
       "</div>"
      ],
      "text/plain": [
       "                                                         embedding  \\\n",
       "sc.102_37_23_23  [-0.03753662109375, 0.0322265625, 0.0591125488...   \n",
       "sc.89_37_23_23   [-0.057647705078125, 0.0031795501708984375, 0....   \n",
       "sc.52_37_23_23   [-0.0170135498046875, 0.048583984375, 0.055664...   \n",
       "sc.71_37_23_23   [-0.03814697265625, 0.02337646484375, 0.045684...   \n",
       "sc.16_37_23_23   [-0.0151824951171875, 0.020263671875, 0.052886...   \n",
       "sc.38_37_23_23   [-0.033294677734375, 0.017547607421875, 0.0583...   \n",
       "sc.88_37_23_23   [-0.031585693359375, 0.01479339599609375, 0.05...   \n",
       "sc.8_37_23_23    [-0.0247039794921875, 0.034698486328125, 0.050...   \n",
       "\n",
       "                                        reduced_embeddings  cluster  \n",
       "sc.102_37_23_23   [5.120960235595703, -1.1082717180252075]        9  \n",
       "sc.89_37_23_23    [5.027152061462402, -0.9754058718681335]        9  \n",
       "sc.52_37_23_23    [11.298698425292969, 3.1599373817443848]       12  \n",
       "sc.71_37_23_23      [4.8621826171875, -0.8756549954414368]        9  \n",
       "sc.16_37_23_23    [4.955254554748535, -1.0657683610916138]        9  \n",
       "sc.38_37_23_23   [4.8971757888793945, -0.9766952395439148]        9  \n",
       "sc.88_37_23_23      [4.935373783111572, -1.07937753200531]        9  \n",
       "sc.8_37_23_23      [5.010183334350586, -1.047982096672058]        9  "
      ]
     },
     "execution_count": 39,
     "metadata": {},
     "output_type": "execute_result"
    }
   ],
   "source": [
    "df_23_subset"
   ]
  },
  {
   "cell_type": "code",
   "execution_count": 40,
   "id": "670fffe1-4e62-42a4-b806-33060a6d445c",
   "metadata": {},
   "outputs": [],
   "source": [
    "# Reconverting embeddings to numpy arrays\n",
    "tmp = df_23_subset[\"reduced_embeddings\"].to_numpy()\n",
    "reduced_embeddings_subcluster = np.array([list(x) for x in tmp])"
   ]
  },
  {
   "cell_type": "code",
   "execution_count": 43,
   "id": "3deefc2d-074f-45d4-92fe-22dcde976a57",
   "metadata": {},
   "outputs": [
    {
     "name": "stdout",
     "output_type": "stream",
     "text": [
      "<class 'pandas.core.frame.DataFrame'>\n",
      "Index: 8 entries, sc.102_37_23_23 to sc.8_37_23_23\n",
      "Data columns (total 3 columns):\n",
      " #   Column              Non-Null Count  Dtype \n",
      "---  ------              --------------  ----- \n",
      " 0   embedding           8 non-null      object\n",
      " 1   reduced_embeddings  8 non-null      object\n",
      " 2   cluster             8 non-null      int64 \n",
      "dtypes: int64(1), object(2)\n",
      "memory usage: 256.0+ bytes\n"
     ]
    }
   ],
   "source": [
    "df_23_subset.info()"
   ]
  },
  {
   "cell_type": "code",
   "execution_count": 46,
   "id": "dd769981-b23e-4f21-89c2-fc6b6ffa068a",
   "metadata": {},
   "outputs": [],
   "source": [
    "hdbscan_clusterer = HDBSCAN(alpha=0.2)\n",
    "\n",
    "cluster_labels = hdbscan_clusterer.fit_predict(reduced_embeddings_subcluster)"
   ]
  },
  {
   "cell_type": "code",
   "execution_count": 47,
   "id": "0eb32940-7d9f-47ef-84d6-f4d3e569e4ef",
   "metadata": {},
   "outputs": [
    {
     "data": {
      "image/png": "[encoded data removed]",
      "text/plain": [
       "<Figure size 1000x800 with 1 Axes>"
      ]
     },
     "metadata": {},
     "output_type": "display_data"
    }
   ],
   "source": [
    "# Plot reduced datapoints\n",
    "plt.figure(figsize=(10, 8))\n",
    "\n",
    "# Create scatter plot\n",
    "scatter = plt.scatter(reduced_embeddings_subcluster[:, 0], \n",
    "            reduced_embeddings_subcluster[:, 1], \n",
    "            c=cluster_labels, \n",
    "            cmap='rainbow', \n",
    "            s=10, \n",
    "            alpha=0.7)\n",
    "\n",
    "# Add a legend for the clusters\n",
    "legend1 = plt.legend(*scatter.legend_elements(),\n",
    "                    title=\"Clusters\")\n",
    "plt.gca().add_artist(legend1)\n",
    "\n",
    "# Title\n",
    "plt.title(\"HDBSCAN clustering of entries in cluster 12 (Q1:6-7)\")\n",
    "\n",
    "# Saving plot\n",
    "plt.savefig(\"images/hdbscan_subcluster_23_only.jpg\")"
   ]
  },
  {
   "cell_type": "code",
   "execution_count": null,
   "id": "4ddcbae8-e23f-461b-b435-317adadab8c5",
   "metadata": {},
   "outputs": [],
   "source": [
    "# Sentence Clustering"
   ]
  },
  {
   "cell_type": "code",
   "execution_count": null,
   "id": "25e7fddc-ee31-4fd6-93be-d431347d95f8",
   "metadata": {},
   "outputs": [],
   "source": []
  }
 ],
 "metadata": {
  "kernelspec": {
   "display_name": "Python 3 (ipykernel)",
   "language": "python",
   "name": "python3"
  },
  "language_info": {
   "codemirror_mode": {
    "name": "ipython",
    "version": 3
   },
   "file_extension": ".py",
   "mimetype": "text/x-python",
   "name": "python",
   "nbconvert_exporter": "python",
   "pygments_lexer": "ipython3",
   "version": "3.12.3"
  }
 },
 "nbformat": 4,
 "nbformat_minor": 5
}
