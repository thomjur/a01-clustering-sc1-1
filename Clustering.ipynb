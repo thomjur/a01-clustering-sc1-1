{
 "cells": [
  {
   "cell_type": "markdown",
   "id": "4809d7b8-8ddc-4846-b490-7ac281126a87",
   "metadata": {},
   "source": [
    "# Clustering Sura 1, Aya 1\n",
    "Version: 11.03.2025  \n",
    "by: Thomas Jurczyk  "
   ]
  },
  {
   "cell_type": "markdown",
   "id": "37002aec-0238-44bc-ba53-697ae0a32392",
   "metadata": {},
   "source": [
    "This notebook includes:\n",
    "\n",
    "1. An overview and exploratory data analysis of the subchapter data that should be clustered.\n",
    "2. The retrieval of document embeddings for each subchapter.\n",
    "3. Clustering of the documents using the retrieved embeddings."
   ]
  },
  {
   "cell_type": "code",
   "execution_count": 139,
   "id": "111f8e73-519e-4282-a90d-cd96c5f166a7",
   "metadata": {},
   "outputs": [],
   "source": [
    "# imports\n",
    "import os\n",
    "import pickle \n",
    "import matplotlib.pyplot as plt\n",
    "import re\n",
    "import pandas as pd\n",
    "from mistralai import Mistral\n",
    "from dotenv import load_dotenv\n",
    "import psycopg2\n",
    "from psycopg2 import sql\n",
    "import numpy as np\n",
    "import umap\n",
    "from sklearn.cluster import HDBSCAN\n",
    "from typing import Optional\n",
    "import requests\n",
    "\n",
    "# Apply a style\n",
    "plt.style.use('ggplot')\n",
    "\n",
    "# Loading all env variables from .env\n",
    "load_dotenv()\n",
    "\n",
    "MISTRAL_API_KEY = os.getenv(\"MISTRAL_API_KEY\")\n",
    "\n",
    "# Loading params for DB connection to local PostgreSQL\n",
    "\n",
    "db_params = {\n",
    "    \"host\": \"localhost\",\n",
    "    \"port\": \"5432\",\n",
    "    \"database\": os.getenv(\"DB_NAME\"),\n",
    "    \"user\": os.getenv(\"DB_USERNAME\"),\n",
    "    \"password\": os.getenv(\"DB_PASSWORD\")\n",
    "}"
   ]
  },
  {
   "cell_type": "markdown",
   "id": "3fac4d90-9d0d-417c-b6e0-1714a0f6298c",
   "metadata": {
    "jp-MarkdownHeadingCollapsed": true
   },
   "source": [
    "## Data\n",
    "The data consists of subchapters from the A01 tafsir corpus that include a discussion of the first aya of the first sura. Note that some chapters do not only discuss the first aya but are subchapters discussing multiple ayat."
   ]
  },
  {
   "cell_type": "markdown",
   "id": "32fa5510-3c9a-46ef-a4e3-c72e0f58d370",
   "metadata": {},
   "source": [
    "### Tokens per subchapter\n",
    "Next, we count the number of tokens in each subchapter and compare the results with each other. A token is simply defined by at least one blank space separating the tokens. The tokens are not cleaned of non-Arabic characters and still include punctuation marks as well (these might in some cases count as separate tokens as well due to the way the data was collected and reconstructed)."
   ]
  },
  {
   "cell_type": "code",
   "execution_count": null,
   "id": "94202eb9-85f2-462e-85af-ce0de6954225",
   "metadata": {},
   "outputs": [],
   "source": [
    "token_counter = dict()\n",
    "for filename in os.listdir(\"data\"):\n",
    "    with open(f\"data/{filename}\", \"r\", encoding=\"utf-8\") as f:\n",
    "        text = f.read()\n",
    "        tokens = re.split(r\"\\s+\", text)\n",
    "        token_counter[filename[:-4]] = len(tokens)"
   ]
  },
  {
   "cell_type": "code",
   "execution_count": null,
   "id": "f481d537-520f-4685-9902-36760ffcb828",
   "metadata": {},
   "outputs": [],
   "source": [
    "df = pd.DataFrame.from_dict(token_counter, orient=\"index\").reset_index()"
   ]
  },
  {
   "cell_type": "code",
   "execution_count": null,
   "id": "7338cb9c-efb7-4627-aee9-399507fe77af",
   "metadata": {},
   "outputs": [],
   "source": [
    "df.columns = [\"id\", \"token_count\"]"
   ]
  },
  {
   "cell_type": "code",
   "execution_count": null,
   "id": "c1599ea2-b7a4-42b4-b66c-f5eaa843ee4d",
   "metadata": {},
   "outputs": [],
   "source": [
    "df.describe()"
   ]
  },
  {
   "cell_type": "code",
   "execution_count": null,
   "id": "2987aa45-f0e6-4e3f-aad8-c49662040dff",
   "metadata": {},
   "outputs": [],
   "source": [
    "df[\"token_count\"].plot(kind=\"box\", title=\"Token distribution in subchapters\", color=\"skyblue\")\n",
    "\n",
    "plt.savefig(\"images/boxplot.jpg\")"
   ]
  },
  {
   "cell_type": "code",
   "execution_count": null,
   "id": "d89edbe5-1a47-4c77-ad75-e1910bb66cdd",
   "metadata": {},
   "outputs": [],
   "source": [
    "# show outliers\n",
    "df.sort_values(\"token_count\")"
   ]
  },
  {
   "cell_type": "markdown",
   "id": "5064c70d-0c0a-411d-be4e-128123668277",
   "metadata": {},
   "source": [
    "### Comparison of one aya vs. multi ayat subchapters"
   ]
  },
  {
   "cell_type": "code",
   "execution_count": null,
   "id": "19fde83f-6124-4af1-9496-c0720c16e25f",
   "metadata": {},
   "outputs": [],
   "source": [
    "# First, we annotate the subchapters as multi ayat (1) or single ayat (0)"
   ]
  },
  {
   "cell_type": "code",
   "execution_count": null,
   "id": "7b6341b8-1401-486c-96cf-f7cb28cf5dab",
   "metadata": {},
   "outputs": [],
   "source": [
    "df[\"multi_ayat\"] = df[\"id\"].map(lambda x: \"multi_ayat\" if x.split(\"_\")[-1] != \"1\" else \"single_aya\")"
   ]
  },
  {
   "cell_type": "code",
   "execution_count": null,
   "id": "fb749827-fd0f-410c-8cbe-4a2191d6263e",
   "metadata": {},
   "outputs": [],
   "source": [
    "# Creating stats for both subsets"
   ]
  },
  {
   "cell_type": "code",
   "execution_count": null,
   "id": "4791724b-526c-4b2a-8a13-ecc70867bd95",
   "metadata": {},
   "outputs": [],
   "source": [
    "ax = df.groupby(\"multi_ayat\")[\"token_count\"].median().plot(kind=\"bar\", title=\"Median token count single/multi ayat\", color=\"skyblue\")\n",
    "# Display count on top of each bar\n",
    "for bar in ax.patches:\n",
    "    yval = bar.get_height()\n",
    "    plt.text(bar.get_x() + bar.get_width()/2, yval + 0.5, round(yval, 2), ha='center', va='bottom')\n",
    "\n",
    "plt.ylim(0,2000)\n",
    "\n",
    "plt.tight_layout()\n",
    "\n",
    "plt.savefig(\"images/median_mayat.jpg\")"
   ]
  },
  {
   "cell_type": "code",
   "execution_count": null,
   "id": "847f70b5-47bd-4c78-aa82-9b920eed2eb6",
   "metadata": {},
   "outputs": [],
   "source": [
    "ax = df.groupby(\"multi_ayat\")[\"token_count\"].mean().plot(kind=\"bar\", title=\"Mean token count single/multi ayat\", color=\"skyblue\")\n",
    "# Display count on top of each bar\n",
    "for bar in ax.patches:\n",
    "    yval = bar.get_height()\n",
    "    plt.text(bar.get_x() + bar.get_width()/2, yval + 0.5, round(yval, 2), ha='center', va='bottom')\n",
    "\n",
    "plt.ylim(0,5500)\n",
    "\n",
    "plt.tight_layout()\n",
    "\n",
    "plt.savefig(\"images/mean_mayat.jpg\")"
   ]
  },
  {
   "cell_type": "markdown",
   "id": "c3f6ab9d-c820-4c41-9df8-52c862fc68ff",
   "metadata": {},
   "source": [
    "### Ayat discussed in the subchapters\n",
    "The following diagram and dictionary demonstrates how often the firrst ayat from the first sura are discussed in the subchapter corpus."
   ]
  },
  {
   "cell_type": "code",
   "execution_count": null,
   "id": "c5f35431-4a25-4a25-82ac-bee7c89bf702",
   "metadata": {},
   "outputs": [],
   "source": [
    "ayat_counter = {\n",
    "    1: 0,\n",
    "    2: 0,\n",
    "    3: 0,\n",
    "    4: 0,\n",
    "    5: 0,\n",
    "    6: 0,\n",
    "    7: 0\n",
    "}\n",
    "\n",
    "for filename in os.listdir(\"data\"):\n",
    "    tmp_ls = filename.split(\"_\")[-2:]\n",
    "    tmp_ls[1] = tmp_ls[1].split(\".\")[0]\n",
    "    tmp_ls[0], tmp_ls[1] = int(tmp_ls[0]), int(tmp_ls[1])\n",
    "    # Increasing ayat counter\n",
    "    for i in range(tmp_ls[0], tmp_ls[1]+1):\n",
    "        ayat_counter[i] += 1"
   ]
  },
  {
   "cell_type": "code",
   "execution_count": null,
   "id": "a99bb517-ea81-4ba5-af9f-d6addb436e54",
   "metadata": {},
   "outputs": [],
   "source": [
    "# Extract keys and values\n",
    "categories = list(ayat_counter.keys())\n",
    "values = list(ayat_counter.values())\n",
    "\n",
    "# Create the bar plot\n",
    "plt.figure(figsize=(8, 6))\n",
    "bars = plt.bar(categories, values, color='skyblue')\n",
    "\n",
    "# Display count on top of each bar\n",
    "for bar in bars:\n",
    "    yval = bar.get_height()\n",
    "    plt.text(bar.get_x() + bar.get_width()/2, yval + 0.5, round(yval, 2), ha='center', va='bottom')\n",
    "\n",
    "# Add title and labels\n",
    "plt.title('Ayat distribution in first subchapter')\n",
    "plt.xlabel('Ayat')\n",
    "plt.ylabel('Count')\n",
    "\n",
    "# Tight layout\n",
    "plt.tight_layout()\n",
    "\n",
    "# Save plot\n",
    "plt.savefig(\"images/subchapters.jpg\")"
   ]
  },
  {
   "cell_type": "markdown",
   "id": "5d7a1e39-46cd-42d0-a4ce-91aa88f4408e",
   "metadata": {
    "jp-MarkdownHeadingCollapsed": true
   },
   "source": [
    "## Embeddings\n",
    "In a first step, we are acquiring the embeddings using Mistral's `mistral-embed` model."
   ]
  },
  {
   "cell_type": "markdown",
   "id": "9114fa7d-d364-414f-9549-cfa45d27ddea",
   "metadata": {},
   "source": [
    "We are creating three lists for the text ids, texts, and the embeddings."
   ]
  },
  {
   "cell_type": "code",
   "execution_count": null,
   "id": "28f6f168-78ab-4efd-8436-a80f4c74abf6",
   "metadata": {},
   "outputs": [],
   "source": [
    "sc_id_list = []\n",
    "sc_text_list = []\n",
    "sc_embeddings_list = []"
   ]
  },
  {
   "cell_type": "code",
   "execution_count": null,
   "id": "6d8a1817-6acb-4b13-a5e6-300d92d5f5c2",
   "metadata": {},
   "outputs": [],
   "source": [
    "# Loading texts and ids from drive\n",
    "for filename in os.listdir(\"data\"):\n",
    "    with open(f\"data/{filename}\", \"r\", encoding=\"utf-8\") as f:\n",
    "        text = f.read()\n",
    "        sc_id_list.append(filename[:-4])\n",
    "        sc_text_list.append(text)"
   ]
  },
  {
   "cell_type": "markdown",
   "id": "b1523197-e186-4fd5-bbcc-a4cb24630e1c",
   "metadata": {},
   "source": [
    "Now, we are retrieving the embeddings for each text and store them in the respective list.  \n",
    "**Important**: The embeddings are afterwards stored in a database and locally on the computer. Therefore, this step only needs to be executed when something has changed."
   ]
  },
  {
   "cell_type": "code",
   "execution_count": null,
   "id": "7fdeaca1-4ee3-4bc6-8aae-7b9d40ea24e4",
   "metadata": {},
   "outputs": [],
   "source": [
    "import time\n",
    "\n",
    "model = \"mistral-embed\"\n",
    "execute = False\n",
    "client = Mistral(api_key=MISTRAL_API_KEY)\n",
    "\n",
    "# The max token per batch is 16384 or sometimes even lower for some reason (?)\n",
    "# We split longer texts into chunks\n",
    "# Using a sliding window approach with an overlap of 50 tokens\n",
    "# We also need to use time.sleep() to avoid exceeding rate limits with 6 requests per sec\n",
    "if execute:\n",
    "    for idx, text in enumerate(sc_text_list):\n",
    "        #print(f\"{idx}. {sc_id_list[idx]}\")\n",
    "        tokens = re.split(r\"\\s+\", text)\n",
    "        if len(tokens) > 1000:\n",
    "            #print(f\"Text {sc_id_list[idx]} is too long: {len(tokens)}\") \n",
    "            tmp_embeddings = list()\n",
    "            # Splitting the text into chunks\n",
    "            window_size = 500\n",
    "            stride = 450 # Overlap of 50 tokens\n",
    "            for start_idx in range(0,len(tokens), stride):\n",
    "                end_idx = min(start_idx + window_size, len(tokens))\n",
    "                tmp_text = \" \".join(tokens[start_idx:end_idx])\n",
    "                res = client.embeddings.create(model=model, inputs=[tmp_text])\n",
    "                tmp_embeddings.append(res.data[0].embedding)\n",
    "                time.sleep(0.1)\n",
    "            # Calculate mean from all chunk embeddings\n",
    "            sc_embeddings_list.append(np.mean(tmp_embeddings, axis=0).tolist())\n",
    "        else:\n",
    "            res = client.embeddings.create(model=model, inputs=[text])\n",
    "            sc_embeddings_list.append(res.data[0].embedding)\n",
    "            time.sleep(0.1)"
   ]
  },
  {
   "cell_type": "code",
   "execution_count": null,
   "id": "2524aad4-19e5-4a39-873a-8e402bddba2a",
   "metadata": {},
   "outputs": [],
   "source": [
    "# Saving embeddings locally\n",
    "\n",
    "with open(\"mistral_embeddings_full.pkl\", \"wb\") as f:\n",
    "    #pickle.dump(sc_embeddings_list, f)"
   ]
  },
  {
   "cell_type": "code",
   "execution_count": null,
   "id": "6984f2a7-3c15-46ee-bca1-a857720b7109",
   "metadata": {},
   "outputs": [],
   "source": [
    "# Reload embeddings\n",
    "with open(\"mistral_embeddings_full.pkl\", \"rb\") as f:\n",
    "    loaded_embeddings = pickle.load(f)"
   ]
  },
  {
   "cell_type": "code",
   "execution_count": null,
   "id": "2042ac35-1293-4fe1-9dc8-3121dcef950d",
   "metadata": {},
   "outputs": [],
   "source": [
    "# Connecting to PostgreSQL and storing embeddings in table"
   ]
  },
  {
   "cell_type": "code",
   "execution_count": null,
   "id": "55fbe8d7-8023-466f-808f-509c7173cf66",
   "metadata": {},
   "outputs": [],
   "source": [
    "try:\n",
    "    conn = psycopg2.connect(**db_params)\n",
    "    cursor = conn.cursor()\n",
    "    print(\"Connection to DB was successful!!\")\n",
    "\n",
    "    for idx, value in enumerate(loaded_embeddings):\n",
    "        cursor.execute(\"\"\"\n",
    "            INSERT INTO embedding.sc_mistral_fulltext (subchapter_id, embedding) \n",
    "            VALUES (%s, %s)\n",
    "        \"\"\", (sc_id_list[idx], value))\n",
    "    \n",
    "        # Änderungen bestätigen\n",
    "        conn.commit()\n",
    "    print(\"Data was added!\")\n",
    "\n",
    "except Exception as e:\n",
    "    print(f\"Error: {e}\")\n",
    "    if conn:\n",
    "        conn.rollback()\n",
    "finally:\n",
    "    # Close connection\n",
    "    if cursor:\n",
    "        cursor.close()\n",
    "    if conn:\n",
    "        conn.close()\n",
    "    print(\"DB connection closed.\")"
   ]
  },
  {
   "cell_type": "markdown",
   "id": "c9d57016-fb97-4d77-acc9-1b4893ecae40",
   "metadata": {
    "jp-MarkdownHeadingCollapsed": true
   },
   "source": [
    "### Test embeddings for Arabic texts: MSA\n",
    "We will try and cluster simple Arabic texts to see if this even works."
   ]
  },
  {
   "cell_type": "code",
   "execution_count": null,
   "id": "33d5e3b1-51bc-44b7-a175-488306ff59d1",
   "metadata": {},
   "outputs": [],
   "source": [
    "# Loading test data\n",
    "df_test = pd.read_csv(\"arabic-test-data.csv\")"
   ]
  },
  {
   "cell_type": "code",
   "execution_count": null,
   "id": "fa401abf-b8b0-45a7-a3b9-2c85f523b58f",
   "metadata": {},
   "outputs": [],
   "source": [
    "df_test.head()"
   ]
  },
  {
   "cell_type": "code",
   "execution_count": null,
   "id": "3865d838-9191-4bce-a8f0-f20ba3132bf4",
   "metadata": {},
   "outputs": [],
   "source": [
    "text_list = df_test[\"arabic_text\"].tolist()"
   ]
  },
  {
   "cell_type": "code",
   "execution_count": null,
   "id": "5687a11c-52fa-4243-a201-c943ef9efe5b",
   "metadata": {},
   "outputs": [],
   "source": [
    "text_list"
   ]
  },
  {
   "cell_type": "code",
   "execution_count": null,
   "id": "ee937675-78cc-4816-971a-7df3ad484516",
   "metadata": {},
   "outputs": [],
   "source": [
    "# Get embeddings\n",
    "model = \"mistral-embed\"\n",
    "\n",
    "client = Mistral(api_key=MISTRAL_API_KEY)\n",
    "\n",
    "embeddings_batch_response = client.embeddings.create(\n",
    "    model=model,\n",
    "    inputs=text_list,\n",
    ")"
   ]
  },
  {
   "cell_type": "code",
   "execution_count": null,
   "id": "2fc0237f-0ab2-4ab0-9594-cd655919800f",
   "metadata": {},
   "outputs": [],
   "source": [
    "embeddings_test = [entry.embedding for entry in embeddings_batch_response.data]"
   ]
  },
  {
   "cell_type": "code",
   "execution_count": null,
   "id": "0b832545-aa21-4525-b6c6-1a606e309d75",
   "metadata": {},
   "outputs": [],
   "source": [
    "embeddings_test[0][:10]"
   ]
  },
  {
   "cell_type": "code",
   "execution_count": null,
   "id": "88c4c39f-24dd-40ad-a4f3-7c8c35a57626",
   "metadata": {},
   "outputs": [],
   "source": [
    "# Add embeddings to database\n",
    "db_test_params = {\n",
    "    \"host\": \"localhost\",\n",
    "    \"port\": \"5432\",\n",
    "    \"database\": os.getenv(\"DB_NAME\"),\n",
    "    \"user\": os.getenv(\"DB_USERNAME\"),\n",
    "    \"password\": os.getenv(\"DB_PASSWORD\")\n",
    "}\n",
    "\n",
    "try:\n",
    "    conn = psycopg2.connect(**db_test_params)\n",
    "    cursor = conn.cursor()\n",
    "    print(\"Connection to DB was successful!!\")\n",
    "\n",
    "    for idx, row in df_test.iterrows():\n",
    "        cursor.execute(\"\"\"\n",
    "            INSERT INTO embedding.test_embeddings (id, embedding, category, translation) \n",
    "            VALUES (%s, %s, %s, %s)\n",
    "        \"\"\", (idx, embeddings_test[idx], row[\"category\"], row[\"translation\"]))\n",
    "    \n",
    "        # Änderungen bestätigen\n",
    "        conn.commit()\n",
    "    print(\"Data was added!\")\n",
    "\n",
    "except Exception as e:\n",
    "    print(f\"Error: {e}\")\n",
    "    if conn:\n",
    "        conn.rollback()\n",
    "finally:\n",
    "    # Close connection\n",
    "    if cursor:\n",
    "        cursor.close()\n",
    "    if conn:\n",
    "        conn.close()\n",
    "    print(\"DB connection closed.\")"
   ]
  },
  {
   "cell_type": "markdown",
   "id": "5cac5de2-9f64-4e0e-bc2c-b80d3d098f46",
   "metadata": {},
   "source": [
    "### Test embeddings for Arabic texts: Classical Arabic\n",
    "We will try and cluster classical Arabic texts to see if this even works."
   ]
  },
  {
   "cell_type": "code",
   "execution_count": null,
   "id": "ccc68364-5c50-4ce1-b694-d4b5d2121b75",
   "metadata": {},
   "outputs": [],
   "source": [
    "# Loading test data\n",
    "df_test = pd.read_csv(\"classical-arabic-testdata.csv\")"
   ]
  },
  {
   "cell_type": "code",
   "execution_count": null,
   "id": "83d49999-5c93-4d57-8d9a-ade7f9373731",
   "metadata": {},
   "outputs": [],
   "source": [
    "df_test.head()"
   ]
  },
  {
   "cell_type": "code",
   "execution_count": null,
   "id": "a35cd761-7806-42fc-934d-23e8525dd115",
   "metadata": {},
   "outputs": [],
   "source": [
    "text_list = df_test[\"Arabic_Text\"].tolist()"
   ]
  },
  {
   "cell_type": "code",
   "execution_count": null,
   "id": "7f158b2e-51de-4e81-ba6f-6a735ab17a22",
   "metadata": {},
   "outputs": [],
   "source": [
    "text_list[:3]"
   ]
  },
  {
   "cell_type": "code",
   "execution_count": null,
   "id": "1fd1a592-8698-4750-8f2d-9a6edcb92865",
   "metadata": {},
   "outputs": [],
   "source": [
    "# Get embeddings\n",
    "model = \"mistral-embed\"\n",
    "\n",
    "client = Mistral(api_key=MISTRAL_API_KEY)\n",
    "\n",
    "embeddings_batch_response = client.embeddings.create(\n",
    "    model=model,\n",
    "    inputs=text_list,\n",
    ")"
   ]
  },
  {
   "cell_type": "code",
   "execution_count": null,
   "id": "59c03afc-12d9-4d2e-bf50-246db7255216",
   "metadata": {},
   "outputs": [],
   "source": [
    "embeddings_test = [entry.embedding for entry in embeddings_batch_response.data]"
   ]
  },
  {
   "cell_type": "code",
   "execution_count": null,
   "id": "140dba62-da08-4aa9-be8c-a75826f40e85",
   "metadata": {},
   "outputs": [],
   "source": [
    "# Add embeddings to database\n",
    "db_test_params = {\n",
    "    \"host\": \"localhost\",\n",
    "    \"port\": \"5432\",\n",
    "    \"database\": os.getenv(\"DB_NAME\"),\n",
    "    \"user\": os.getenv(\"DB_USERNAME\"),\n",
    "    \"password\": os.getenv(\"DB_PASSWORD\")\n",
    "}\n",
    "\n",
    "try:\n",
    "    conn = psycopg2.connect(**db_test_params)\n",
    "    cursor = conn.cursor()\n",
    "    print(\"Connection to DB was successful!!\")\n",
    "\n",
    "    for idx, row in df_test.iterrows():\n",
    "        cursor.execute(\"\"\"\n",
    "            INSERT INTO embedding.test_embeddings_classical (id, embedding, category, translation) \n",
    "            VALUES (%s, %s, %s, %s)\n",
    "        \"\"\", (idx, embeddings_test[idx], row[\"Category\"], row[\"English_Translation\"]))\n",
    "    \n",
    "        # Änderungen bestätigen\n",
    "        conn.commit()\n",
    "    print(\"Data was added!\")\n",
    "\n",
    "except Exception as e:\n",
    "    print(f\"Error: {e}\")\n",
    "    if conn:\n",
    "        conn.rollback()\n",
    "finally:\n",
    "    # Close connection\n",
    "    if cursor:\n",
    "        cursor.close()\n",
    "    if conn:\n",
    "        conn.close()\n",
    "    print(\"DB connection closed.\")"
   ]
  },
  {
   "cell_type": "markdown",
   "id": "447edddc-019c-41b2-9705-1e24a1d6163d",
   "metadata": {},
   "source": [
    "## Dimensionality Reduction & Clustering\n",
    "For easier plotting and comparison, we reduce the 1024 features from Mistral's embeddings to 2 features. We will be using umap for the dimensionality reduction."
   ]
  },
  {
   "cell_type": "markdown",
   "id": "f1e1cc99-6c5a-484e-8b3f-eae29b889928",
   "metadata": {},
   "source": [
    "First, we load the stored Mistral AI embeddings and the subchapter corpus."
   ]
  },
  {
   "cell_type": "code",
   "execution_count": 166,
   "id": "1691f252-bad4-4d37-a383-75c5a0e1a526",
   "metadata": {},
   "outputs": [],
   "source": [
    "# Load embeddings\n",
    "loaded_embeddings = []\n",
    "with open(\"mistral_embeddings_full.pkl\", \"rb\") as f:\n",
    "    loaded_embeddings = pickle.load(f)"
   ]
  },
  {
   "cell_type": "code",
   "execution_count": 167,
   "id": "3a0e1ea4-d4d8-4c18-95fe-2b27ef1916bb",
   "metadata": {},
   "outputs": [],
   "source": [
    "# Loading texts and ids from drive\n",
    "sc_dict = dict()\n",
    "for idx,filename in enumerate(os.listdir(\"data\")):\n",
    "    with open(f\"data/{filename}\", \"r\", encoding=\"utf-8\") as f:\n",
    "        text = f.read()\n",
    "        sc_dict[filename[:-4]] = {\"embedding\": loaded_embeddings[idx]}\n",
    "\n",
    "df = pd.DataFrame.from_dict(sc_dict, orient=\"index\")"
   ]
  },
  {
   "cell_type": "markdown",
   "id": "3933c382-47c2-4b59-960d-052bfb578a2d",
   "metadata": {},
   "source": [
    "If we want, we can further filter the subchapter corpus, for instance by only selecting subchapters that discuss exactly one aya."
   ]
  },
  {
   "cell_type": "code",
   "execution_count": 168,
   "id": "912f020e-aa41-44fc-8cc2-7fddb95f3bed",
   "metadata": {},
   "outputs": [],
   "source": [
    "# Only 1 aya suras (optional)\n",
    "#df = df[df.index.str.endswith(\"_1\")]\n",
    "# Only suras that discuss more than one sura (optional)\n",
    "#df = df[~df.index.str.endswith(\"_1\")]"
   ]
  },
  {
   "cell_type": "code",
   "execution_count": 169,
   "id": "d310376b-cf60-4302-b4b4-443c99fa9c39",
   "metadata": {},
   "outputs": [
    {
     "data": {
      "text/html": [
       "<div>\n",
       "<style scoped>\n",
       "    .dataframe tbody tr th:only-of-type {\n",
       "        vertical-align: middle;\n",
       "    }\n",
       "\n",
       "    .dataframe tbody tr th {\n",
       "        vertical-align: top;\n",
       "    }\n",
       "\n",
       "    .dataframe thead th {\n",
       "        text-align: right;\n",
       "    }\n",
       "</style>\n",
       "<table border=\"1\" class=\"dataframe\">\n",
       "  <thead>\n",
       "    <tr style=\"text-align: right;\">\n",
       "      <th></th>\n",
       "      <th>embedding</th>\n",
       "    </tr>\n",
       "  </thead>\n",
       "  <tbody>\n",
       "    <tr>\n",
       "      <th>sc.75_1_1_1</th>\n",
       "      <td>[-0.0276947021484375, 0.0301513671875, 0.05911...</td>\n",
       "    </tr>\n",
       "    <tr>\n",
       "      <th>sc.92_1_1_1</th>\n",
       "      <td>[-0.015995388939267115, 0.037729899088541664, ...</td>\n",
       "    </tr>\n",
       "    <tr>\n",
       "      <th>sc.26_1_1_1</th>\n",
       "      <td>[-0.0121002197265625, 0.050140380859375, 0.065...</td>\n",
       "    </tr>\n",
       "    <tr>\n",
       "      <th>sc.68_1_1_7</th>\n",
       "      <td>[-0.023973177557122218, 0.03675131601830051, 0...</td>\n",
       "    </tr>\n",
       "    <tr>\n",
       "      <th>sc.79_1_1_1</th>\n",
       "      <td>[-0.0017709732055664062, 0.041717529296875, 0....</td>\n",
       "    </tr>\n",
       "    <tr>\n",
       "      <th>...</th>\n",
       "      <td>...</td>\n",
       "    </tr>\n",
       "    <tr>\n",
       "      <th>sc.9_1_1_1</th>\n",
       "      <td>[-0.026764488220214842, 0.03731479644775391, 0...</td>\n",
       "    </tr>\n",
       "    <tr>\n",
       "      <th>sc.84_1_1_1</th>\n",
       "      <td>[-0.02484130859375, 0.03887939453125, 0.060943...</td>\n",
       "    </tr>\n",
       "    <tr>\n",
       "      <th>sc.47_1_1_1</th>\n",
       "      <td>[-0.015649159749348957, 0.044352213541666664, ...</td>\n",
       "    </tr>\n",
       "    <tr>\n",
       "      <th>sc.105_1_1_1</th>\n",
       "      <td>[-0.019561767578125, 0.0380859375, 0.058227539...</td>\n",
       "    </tr>\n",
       "    <tr>\n",
       "      <th>sc.67_1_1_4</th>\n",
       "      <td>[-0.02172088623046875, 0.03687286376953125, 0....</td>\n",
       "    </tr>\n",
       "  </tbody>\n",
       "</table>\n",
       "<p>71 rows × 1 columns</p>\n",
       "</div>"
      ],
      "text/plain": [
       "                                                      embedding\n",
       "sc.75_1_1_1   [-0.0276947021484375, 0.0301513671875, 0.05911...\n",
       "sc.92_1_1_1   [-0.015995388939267115, 0.037729899088541664, ...\n",
       "sc.26_1_1_1   [-0.0121002197265625, 0.050140380859375, 0.065...\n",
       "sc.68_1_1_7   [-0.023973177557122218, 0.03675131601830051, 0...\n",
       "sc.79_1_1_1   [-0.0017709732055664062, 0.041717529296875, 0....\n",
       "...                                                         ...\n",
       "sc.9_1_1_1    [-0.026764488220214842, 0.03731479644775391, 0...\n",
       "sc.84_1_1_1   [-0.02484130859375, 0.03887939453125, 0.060943...\n",
       "sc.47_1_1_1   [-0.015649159749348957, 0.044352213541666664, ...\n",
       "sc.105_1_1_1  [-0.019561767578125, 0.0380859375, 0.058227539...\n",
       "sc.67_1_1_4   [-0.02172088623046875, 0.03687286376953125, 0....\n",
       "\n",
       "[71 rows x 1 columns]"
      ]
     },
     "execution_count": 169,
     "metadata": {},
     "output_type": "execute_result"
    }
   ],
   "source": [
    "df"
   ]
  },
  {
   "cell_type": "markdown",
   "id": "f038a8dd-6718-4638-b993-1cc52a163ed2",
   "metadata": {},
   "source": [
    "Next, we apply umap on the np.array version of the embeddings."
   ]
  },
  {
   "cell_type": "code",
   "execution_count": 170,
   "id": "6dcc72bb-cb30-4faf-8f3c-c991b6c508b7",
   "metadata": {},
   "outputs": [],
   "source": [
    "# First convert all lists to np.arrays, otherwise umap won't work\n",
    "embeddings_orig = df[\"embedding\"].to_numpy()\n",
    "embeddings_orig = [np.array(l) for l in embeddings_orig]"
   ]
  },
  {
   "cell_type": "code",
   "execution_count": 171,
   "id": "d9d285e0-b8f2-4025-81e3-4a31de892984",
   "metadata": {},
   "outputs": [],
   "source": [
    "umap_reducer = umap.UMAP(n_neighbors=2, \n",
    "                         min_dist=0.1, \n",
    "                         n_components=2,\n",
    "                         #metric=\"cosine\",\n",
    "                         random_state=42)"
   ]
  },
  {
   "cell_type": "code",
   "execution_count": 172,
   "id": "9d2c6b40-b18c-46e8-8b3d-9faff904add3",
   "metadata": {},
   "outputs": [
    {
     "name": "stderr",
     "output_type": "stream",
     "text": [
      "/home/tommy/environments/a01/lib/python3.12/site-packages/sklearn/utils/deprecation.py:151: FutureWarning: 'force_all_finite' was renamed to 'ensure_all_finite' in 1.6 and will be removed in 1.8.\n",
      "  warnings.warn(\n",
      "/home/tommy/environments/a01/lib/python3.12/site-packages/umap/umap_.py:1952: UserWarning: n_jobs value 1 overridden to 1 by setting random_state. Use no seed for parallelism.\n",
      "  warn(\n"
     ]
    }
   ],
   "source": [
    "embeddings_reduced = umap_reducer.fit_transform(embeddings_orig)"
   ]
  },
  {
   "cell_type": "markdown",
   "id": "6272b7a9-4ef7-40f8-938b-eb6818fb725d",
   "metadata": {},
   "source": [
    "Next, we are using HDBSCAN to cluster the data."
   ]
  },
  {
   "cell_type": "code",
   "execution_count": 173,
   "id": "7a094b4b-6121-48d7-a82e-408f5d61c978",
   "metadata": {},
   "outputs": [],
   "source": [
    "hdbscan_clusterer = HDBSCAN(min_cluster_size=3, \n",
    "                           min_samples=5,\n",
    "                           cluster_selection_epsilon=0.5)\n",
    "\n",
    "cluster_labels = hdbscan_clusterer.fit_predict(embeddings_reduced)"
   ]
  },
  {
   "cell_type": "markdown",
   "id": "3964df45-4f4f-458a-a298-5f5735ab5b18",
   "metadata": {},
   "source": [
    "Plotting the results."
   ]
  },
  {
   "cell_type": "code",
   "execution_count": 174,
   "id": "d1be1f4f-7254-446b-8e84-0624c705ca12",
   "metadata": {},
   "outputs": [
    {
     "data": {
      "image/png": "[encoded data removed]",
      "text/plain": [
       "<Figure size 1000x800 with 1 Axes>"
      ]
     },
     "metadata": {},
     "output_type": "display_data"
    }
   ],
   "source": [
    "# Plot reduced datapoints\n",
    "plt.figure(figsize=(10, 8))\n",
    "\n",
    "# Create scatter plot\n",
    "scatter = plt.scatter(embeddings_reduced[:, 0], \n",
    "            embeddings_reduced[:, 1], \n",
    "            c=cluster_labels, \n",
    "            cmap='rainbow', \n",
    "            s=10, \n",
    "            alpha=0.7)\n",
    "\n",
    "# Add a legend for the clusters\n",
    "legend1 = plt.legend(*scatter.legend_elements(),\n",
    "                    title=\"Clusters\")\n",
    "plt.gca().add_artist(legend1)\n",
    "\n",
    "# Title\n",
    "plt.title(\"HDBSCAN clustering of all subchapters\")\n",
    "\n",
    "# Saving plot\n",
    "plt.savefig(\"images/hdbscan_all.jpg\")"
   ]
  },
  {
   "cell_type": "markdown",
   "id": "42494987-a7e0-478a-8b01-19307a0b503a",
   "metadata": {},
   "source": [
    "## Retrieving texts of subchapters in each cluster"
   ]
  },
  {
   "cell_type": "code",
   "execution_count": 162,
   "id": "79994ad0-37e0-401e-9ad3-3e4e0c31683c",
   "metadata": {},
   "outputs": [],
   "source": [
    "def download_subchapter_file(subchapter_id: str, filename: Optional[str] = None):\n",
    "    # Build API path from sc_id\n",
    "    # Example: http://localhost:8080/api/download/tafsir/3/c.3_2/sc.3_2_77_77\n",
    "    url = \"http://localhost:8080/api/download/tafsir/\"\n",
    "    sc_list = subchapter_id.split(\"_\")\n",
    "    tafsir_id = sc_list[0].split(\".\")[1]\n",
    "    url += tafsir_id + \"/\"\n",
    "    chapter_id = \"c.\" + tafsir_id + \"_\" + sc_list[1]\n",
    "    url += chapter_id + \"/\" + subchapter_id\n",
    "    # DEBUG\n",
    "    print(url)\n",
    "    # Anfrage an die URL senden\n",
    "    response = requests.get(url)\n",
    "    \n",
    "    # Überprüfen, ob die Anfrage erfolgreich war\n",
    "    response.raise_for_status()\n",
    "    \n",
    "    # Datei speichern\n",
    "    with open(filename, 'wb') as file:\n",
    "        file.write(response.content)\n",
    "    \n",
    "    return filename"
   ]
  },
  {
   "cell_type": "code",
   "execution_count": 163,
   "id": "c1a40ccf-48b7-4e3d-86fb-cc1efb373c83",
   "metadata": {},
   "outputs": [],
   "source": [
    "def download_cluster_subchapters(subchapter_list: list[str], path: str):\n",
    "        if not os.path.exists(path):\n",
    "            os.makedirs(path)\n",
    "            print(f\"Directory created: {path}\")\n",
    "        else:\n",
    "            print(f\"Directory already exists: {path}\")\n",
    "        for sc in subchapter_list:\n",
    "            download_subchapter_file(sc, f\"{path}/{sc}.txt\")"
   ]
  },
  {
   "cell_type": "code",
   "execution_count": 165,
   "id": "be29fd0a-2f11-4138-9119-7dbc2cc0009e",
   "metadata": {},
   "outputs": [
    {
     "name": "stdout",
     "output_type": "stream",
     "text": [
      "Directory created: clustering/sc1-7/1\n",
      "http://localhost:8080/api/download/tafsir/14/c.14_1/sc.14_1_1_7\n",
      "http://localhost:8080/api/download/tafsir/65/c.65_1/sc.65_1_1_7\n",
      "http://localhost:8080/api/download/tafsir/88/c.88_1/sc.88_1_1_7\n",
      "http://localhost:8080/api/download/tafsir/28/c.28_1/sc.28_1_1_7\n",
      "http://localhost:8080/api/download/tafsir/37/c.37_1/sc.37_1_1_4\n",
      "http://localhost:8080/api/download/tafsir/100/c.100_1/sc.100_1_1_6\n",
      "http://localhost:8080/api/download/tafsir/83/c.83_1/sc.83_1_1_7\n",
      "http://localhost:8080/api/download/tafsir/103/c.103_1/sc.103_1_1_7\n",
      "http://localhost:8080/api/download/tafsir/13/c.13_1/sc.13_1_1_7\n",
      "http://localhost:8080/api/download/tafsir/60/c.60_1/sc.60_1_1_4\n",
      "http://localhost:8080/api/download/tafsir/104/c.104_1/sc.104_1_1_7\n",
      "http://localhost:8080/api/download/tafsir/52/c.52_1/sc.52_1_1_7\n",
      "http://localhost:8080/api/download/tafsir/98/c.98_1/sc.98_1_1_7\n",
      "http://localhost:8080/api/download/tafsir/67/c.67_1/sc.67_1_1_4\n"
     ]
    }
   ],
   "source": [
    "download_cluster_subchapters(df[cluster_labels==1].index.tolist(), \"clustering/sc1-7/1\")"
   ]
  },
  {
   "cell_type": "code",
   "execution_count": null,
   "id": "ff40231f-ebc3-48d2-b464-71512ec10329",
   "metadata": {},
   "outputs": [],
   "source": []
  }
 ],
 "metadata": {
  "kernelspec": {
   "display_name": "Python 3 (ipykernel)",
   "language": "python",
   "name": "python3"
  },
  "language_info": {
   "codemirror_mode": {
    "name": "ipython",
    "version": 3
   },
   "file_extension": ".py",
   "mimetype": "text/x-python",
   "name": "python",
   "nbconvert_exporter": "python",
   "pygments_lexer": "ipython3",
   "version": "3.12.3"
  }
 },
 "nbformat": 4,
 "nbformat_minor": 5
}
